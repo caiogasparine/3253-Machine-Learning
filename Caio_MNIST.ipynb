{
  "nbformat": 4,
  "nbformat_minor": 0,
  "metadata": {
    "colab": {
      "provenance": [],
      "authorship_tag": "ABX9TyPaGYlhg2HmyRDbwqhGzNtj",
      "include_colab_link": true
    },
    "kernelspec": {
      "name": "python3",
      "display_name": "Python 3"
    },
    "language_info": {
      "name": "python"
    }
  },
  "cells": [
    {
      "cell_type": "markdown",
      "metadata": {
        "id": "view-in-github",
        "colab_type": "text"
      },
      "source": [
        "<a href=\"https://colab.research.google.com/github/caiogasparine/3253-Machine-Learning/blob/main/Caio_MNIST.ipynb\" target=\"_parent\"><img src=\"https://colab.research.google.com/assets/colab-badge.svg\" alt=\"Open In Colab\"/></a>"
      ]
    },
    {
      "cell_type": "code",
      "execution_count": 1,
      "metadata": {
        "id": "ifdq1zmXv_r7"
      },
      "outputs": [],
      "source": [
        "#Caio MNIST Dataset Code\n",
        "#Book: Hands On ML\n",
        "#February 8th 2023"
      ]
    },
    {
      "cell_type": "code",
      "source": [
        "import from os\n",
        "\n",
        "from sklearn datasets import fetch_openml\n"
      ],
      "metadata": {
        "colab": {
          "base_uri": "https://localhost:8080/",
          "height": 135
        },
        "id": "eAmdSnwYwKoS",
        "outputId": "a245fb9a-9cdf-42ba-d5d6-4e69d5c03a09"
      },
      "execution_count": 3,
      "outputs": [
        {
          "output_type": "error",
          "ename": "SyntaxError",
          "evalue": "ignored",
          "traceback": [
            "\u001b[0;36m  File \u001b[0;32m\"<ipython-input-3-810347cb4847>\"\u001b[0;36m, line \u001b[0;32m1\u001b[0m\n\u001b[0;31m    import from os\u001b[0m\n\u001b[0m           ^\u001b[0m\n\u001b[0;31mSyntaxError\u001b[0m\u001b[0;31m:\u001b[0m invalid syntax\n"
          ]
        }
      ]
    },
    {
      "cell_type": "code",
      "source": [],
      "metadata": {
        "id": "AQlmtYqjwc74"
      },
      "execution_count": null,
      "outputs": []
    }
  ]
}