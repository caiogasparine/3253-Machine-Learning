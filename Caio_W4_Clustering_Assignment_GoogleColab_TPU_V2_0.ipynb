{
  "nbformat": 4,
  "nbformat_minor": 0,
  "metadata": {
    "colab": {
      "provenance": [],
      "include_colab_link": true
    },
    "kernelspec": {
      "name": "python3",
      "display_name": "Python 3"
    },
    "accelerator": "TPU",
    "gpuClass": "standard"
  },
  "cells": [
    {
      "cell_type": "markdown",
      "metadata": {
        "id": "view-in-github",
        "colab_type": "text"
      },
      "source": [
        "<a href=\"https://colab.research.google.com/github/caiogasparine/3253-Machine-Learning/blob/main/Caio_W4_Clustering_Assignment_GoogleColab_TPU_V2_0.ipynb\" target=\"_parent\"><img src=\"https://colab.research.google.com/assets/colab-badge.svg\" alt=\"Open In Colab\"/></a>"
      ]
    },
    {
      "cell_type": "markdown",
      "metadata": {
        "id": "9FccDrj3eFs5"
      },
      "source": [
        "# Important Notes:\n",
        "\n",
        "---\n",
        "1- Due to file size, you are unable to run this notebook using default runtime setting. You need to switch to TPU or GPU to be able to import data.  Learn more about TPU (Tensorflow Processing Unit) or GPU  [here](https://en.wikipedia.org/wiki/Tensor_processing_unit)  and  [here](https://en.wikipedia.org/wiki/Graphics_processing_unit) respectively. You can see the benfit of TPU [here](https://cloud.google.com/tpu/))\n",
        "\n",
        "# Follow below steps to change your default runtime:\n",
        "* From menu bar, open \"Runtime\"\n",
        "* Navigate to \"Change Runtime Type\"\n",
        "\n",
        "[See this screenshot](https://drive.google.com/open?id=1up4zIBrXk6P0eNcQIZ5MxygN6A8TWB0s)\n",
        "* And change your \"Hardware Accelerator\" to \"TPU\" or \"GPU\"\n",
        "* Hit \"Save\"\n",
        "\n",
        "\n",
        "---\n",
        "\n",
        "\n",
        "2- Do not make direct changes into this file. Create your own file. How? Follow below instructions\n",
        "\n",
        "**Instructios to create your copy**\n",
        "\n",
        "*   From this Notebook, go to **\"File\"**  menu\n",
        "*   select \"**Save a copy in Drive**\". \n",
        "*   Find the file in your \"**Colab Notebook**\" folders in your Google Drive root\n",
        "*   Create a copy for yourself by right clicking on the file name and selecting \"**Make a COPY**\"\n",
        "*   Rename it by replacing your last name and UTORid and move the notebook if you need. Develop the code. \n",
        "*   Once you finish the code, get shareable URL (use this  [Guide ](https://support.google.com/drive/answer/2494822?co=GENIE.Platform%3DDesktop&hl=en)  from Google if you need for your notebook and submit it as part of your assignment submission.\n",
        "\n",
        "Make sure I have Edit access to your notebook when sharing so I can leave remarks if needed.\n",
        "\n",
        "Once complete this notebook, respond to the questions in the Quiz section"
      ]
    },
    {
      "cell_type": "markdown",
      "metadata": {
        "id": "RSr7h-pNeFs6"
      },
      "source": [
        "# Assignment for Module 4: Clustering\n",
        "\n",
        "## Description\n",
        "\n",
        "In this assignment you will study the electric demand (power) of clients in Portugal, during 2013 and 2014.\n",
        "\n",
        "The data$^1$ available contains 370 time series, corresponding to the electric demand$^2$ for 370 clients, between 2011 and 2014. \n",
        "\n",
        "In this guided exercise you will use clustering techniques to understand the typical behaviour during 2013-2014.\n",
        "\n",
        "#### 1. Data:\n",
        "https://archive.ics.uci.edu/ml/datasets/ElectricityLoadDiagrams20112014#\n"
      ]
    },
    {
      "cell_type": "markdown",
      "metadata": {
        "id": "y31sswSReFs7"
      },
      "source": [
        "## Data Preparation\n",
        "\n",
        "Start by downloading the data to a local directory and modify the \"pathToFile\" and \"fileName\" variables, if needed\n",
        "\n",
        "### Import CSV into Google Colab.\n",
        "If you do not remember how, you can refer to this document"
      ]
    },
    {
      "cell_type": "code",
      "metadata": {
        "id": "uNUHOfAReFs-",
        "colab": {
          "base_uri": "https://localhost:8080/"
        },
        "outputId": "34af32ca-fd03-4c24-b7aa-2f11e895b3cb"
      },
      "source": [
        "import numpy as np\n",
        "from sklearn.cluster import KMeans\n",
        "import matplotlib.pyplot as plt\n",
        "import random\n",
        "from sklearn.metrics import silhouette_score\n",
        "from sklearn.cluster import AgglomerativeClustering\n",
        "random.seed(42)\n",
        "\n",
        "#Mount your Google drive so you can read them easily\n",
        "from google.colab import drive\n",
        "drive.mount('/content/gdrive')"
      ],
      "execution_count": 115,
      "outputs": [
        {
          "output_type": "stream",
          "name": "stdout",
          "text": [
            "Drive already mounted at /content/gdrive; to attempt to forcibly remount, call drive.mount(\"/content/gdrive\", force_remount=True).\n"
          ]
        }
      ]
    },
    {
      "cell_type": "markdown",
      "source": [
        "# Data Source\n"
      ],
      "metadata": {
        "id": "u207RrjK5A5Q"
      }
    },
    {
      "cell_type": "code",
      "metadata": {
        "id": "qdHJIAmjeFtA"
      },
      "source": [
        "import fileinput\n",
        "\n",
        "#STEP 1: Download data file from server (https://archive.ics.uci.edu/ml/machine-learning-databases/00321/LD2011_2014.txt.zip)\n",
        "#STEP 2: Unzip the file and upload it to your Google Drive - Remember where you stored it \n",
        "\n",
        "#Update below address to point to your google drive\n",
        "filePath =\"/content/gdrive/MyDrive/LD2011_2014.txt\"\n"
      ],
      "execution_count": 116,
      "outputs": []
    },
    {
      "cell_type": "code",
      "metadata": {
        "id": "pnyFLwDLeFtD"
      },
      "source": [
        "# Create dataframe\n",
        "import pandas as pd\n",
        "data = pd.read_csv(filePath, sep=\";\", low_memory=False, index_col=0, decimal=',')"
      ],
      "execution_count": 117,
      "outputs": []
    },
    {
      "cell_type": "code",
      "metadata": {
        "id": "R_Tg4zRoOqHm",
        "colab": {
          "base_uri": "https://localhost:8080/"
        },
        "outputId": "19d72cd9-4746-49eb-f31a-eedc2a33f0d9"
      },
      "source": [
        "# To ensure you have the right data, make sure your data.shape output is (140256, 370). \n",
        "# Otherwise, you data file is corrupt and have to read data again. Copy the original file from Saeid's shared Google Drive and run the code again.\n",
        "data.shape\n"
      ],
      "execution_count": 118,
      "outputs": [
        {
          "output_type": "execute_result",
          "data": {
            "text/plain": [
              "(140256, 370)"
            ]
          },
          "metadata": {},
          "execution_count": 118
        }
      ]
    },
    {
      "cell_type": "code",
      "metadata": {
        "id": "vwxoS-0ECCu1",
        "colab": {
          "base_uri": "https://localhost:8080/"
        },
        "outputId": "18ace1b6-9ae1-4033-ee7b-72d1399e653b"
      },
      "source": [
        "# Write the code to answer Question1 in assignment 4\n",
        "#What is the mean value of the 257th column (i.e. column index 256, as Python index starts from 0) ?\n",
        "#Report_Card.loc[:,\"Grades\"]\n",
        "\n",
        "data[['MT_257']].mean(axis=0)"
      ],
      "execution_count": 119,
      "outputs": [
        {
          "output_type": "execute_result",
          "data": {
            "text/plain": [
              "MT_257    156.41464\n",
              "dtype: float64"
            ]
          },
          "metadata": {},
          "execution_count": 119
        }
      ]
    },
    {
      "cell_type": "code",
      "source": [
        "data.iloc[256].mean()"
      ],
      "metadata": {
        "colab": {
          "base_uri": "https://localhost:8080/"
        },
        "id": "AHD0H5CInhNR",
        "outputId": "2cf94f05-c2a0-4740-83e8-46b16d93d8df"
      },
      "execution_count": 120,
      "outputs": [
        {
          "output_type": "execute_result",
          "data": {
            "text/plain": [
              "389.1836388434602"
            ]
          },
          "metadata": {},
          "execution_count": 120
        }
      ]
    },
    {
      "cell_type": "code",
      "source": [
        "data.describe()\n",
        "data.iloc[256].mean()"
      ],
      "metadata": {
        "colab": {
          "base_uri": "https://localhost:8080/"
        },
        "id": "bAjlmjDUnnzx",
        "outputId": "85a1fcb6-9ee9-4a10-c3de-99744437da72"
      },
      "execution_count": 121,
      "outputs": [
        {
          "output_type": "execute_result",
          "data": {
            "text/plain": [
              "389.1836388434602"
            ]
          },
          "metadata": {},
          "execution_count": 121
        }
      ]
    },
    {
      "cell_type": "markdown",
      "metadata": {
        "id": "SJSKGse4eFtF"
      },
      "source": [
        "### Quick data inspection"
      ]
    },
    {
      "cell_type": "code",
      "metadata": {
        "id": "MC__WXumeFtJ",
        "colab": {
          "base_uri": "https://localhost:8080/",
          "height": 275
        },
        "outputId": "cf2e6f67-d56b-4a2a-d79e-302307a7edb1"
      },
      "source": [
        "data.tail(2)"
      ],
      "execution_count": 122,
      "outputs": [
        {
          "output_type": "execute_result",
          "data": {
            "text/plain": [
              "                       MT_001     MT_002    MT_003      MT_004     MT_005  \\\n",
              "2014-12-31 23:45:00  1.269036  21.337127  1.737619  166.666667  85.365854   \n",
              "2015-01-01 00:00:00  2.538071  19.914651  1.737619  178.861789  84.146341   \n",
              "\n",
              "                         MT_006    MT_007      MT_008     MT_009     MT_010  \\\n",
              "2014-12-31 23:45:00  285.714286  10.17524  225.589226  64.685315  72.043011   \n",
              "2015-01-01 00:00:00  279.761905  10.17524  249.158249  62.937063  69.892473   \n",
              "\n",
              "                     ...      MT_361   MT_362       MT_363      MT_364  \\\n",
              "2014-12-31 23:45:00  ...  246.252677  28000.0  1443.037975  909.090909   \n",
              "2015-01-01 00:00:00  ...  188.436831  27800.0  1409.282700  954.545455   \n",
              "\n",
              "                        MT_365    MT_366      MT_367      MT_368      MT_369  \\\n",
              "2014-12-31 23:45:00  26.075619  4.095963  664.618086  146.911519  646.627566   \n",
              "2015-01-01 00:00:00  27.379400  4.095963  628.621598  131.886477  673.020528   \n",
              "\n",
              "                          MT_370  \n",
              "2014-12-31 23:45:00  6540.540541  \n",
              "2015-01-01 00:00:00  7135.135135  \n",
              "\n",
              "[2 rows x 370 columns]"
            ],
            "text/html": [
              "\n",
              "  <div id=\"df-ed35ffd0-ff54-44e6-a64d-4016f0198c2f\">\n",
              "    <div class=\"colab-df-container\">\n",
              "      <div>\n",
              "<style scoped>\n",
              "    .dataframe tbody tr th:only-of-type {\n",
              "        vertical-align: middle;\n",
              "    }\n",
              "\n",
              "    .dataframe tbody tr th {\n",
              "        vertical-align: top;\n",
              "    }\n",
              "\n",
              "    .dataframe thead th {\n",
              "        text-align: right;\n",
              "    }\n",
              "</style>\n",
              "<table border=\"1\" class=\"dataframe\">\n",
              "  <thead>\n",
              "    <tr style=\"text-align: right;\">\n",
              "      <th></th>\n",
              "      <th>MT_001</th>\n",
              "      <th>MT_002</th>\n",
              "      <th>MT_003</th>\n",
              "      <th>MT_004</th>\n",
              "      <th>MT_005</th>\n",
              "      <th>MT_006</th>\n",
              "      <th>MT_007</th>\n",
              "      <th>MT_008</th>\n",
              "      <th>MT_009</th>\n",
              "      <th>MT_010</th>\n",
              "      <th>...</th>\n",
              "      <th>MT_361</th>\n",
              "      <th>MT_362</th>\n",
              "      <th>MT_363</th>\n",
              "      <th>MT_364</th>\n",
              "      <th>MT_365</th>\n",
              "      <th>MT_366</th>\n",
              "      <th>MT_367</th>\n",
              "      <th>MT_368</th>\n",
              "      <th>MT_369</th>\n",
              "      <th>MT_370</th>\n",
              "    </tr>\n",
              "  </thead>\n",
              "  <tbody>\n",
              "    <tr>\n",
              "      <th>2014-12-31 23:45:00</th>\n",
              "      <td>1.269036</td>\n",
              "      <td>21.337127</td>\n",
              "      <td>1.737619</td>\n",
              "      <td>166.666667</td>\n",
              "      <td>85.365854</td>\n",
              "      <td>285.714286</td>\n",
              "      <td>10.17524</td>\n",
              "      <td>225.589226</td>\n",
              "      <td>64.685315</td>\n",
              "      <td>72.043011</td>\n",
              "      <td>...</td>\n",
              "      <td>246.252677</td>\n",
              "      <td>28000.0</td>\n",
              "      <td>1443.037975</td>\n",
              "      <td>909.090909</td>\n",
              "      <td>26.075619</td>\n",
              "      <td>4.095963</td>\n",
              "      <td>664.618086</td>\n",
              "      <td>146.911519</td>\n",
              "      <td>646.627566</td>\n",
              "      <td>6540.540541</td>\n",
              "    </tr>\n",
              "    <tr>\n",
              "      <th>2015-01-01 00:00:00</th>\n",
              "      <td>2.538071</td>\n",
              "      <td>19.914651</td>\n",
              "      <td>1.737619</td>\n",
              "      <td>178.861789</td>\n",
              "      <td>84.146341</td>\n",
              "      <td>279.761905</td>\n",
              "      <td>10.17524</td>\n",
              "      <td>249.158249</td>\n",
              "      <td>62.937063</td>\n",
              "      <td>69.892473</td>\n",
              "      <td>...</td>\n",
              "      <td>188.436831</td>\n",
              "      <td>27800.0</td>\n",
              "      <td>1409.282700</td>\n",
              "      <td>954.545455</td>\n",
              "      <td>27.379400</td>\n",
              "      <td>4.095963</td>\n",
              "      <td>628.621598</td>\n",
              "      <td>131.886477</td>\n",
              "      <td>673.020528</td>\n",
              "      <td>7135.135135</td>\n",
              "    </tr>\n",
              "  </tbody>\n",
              "</table>\n",
              "<p>2 rows × 370 columns</p>\n",
              "</div>\n",
              "      <button class=\"colab-df-convert\" onclick=\"convertToInteractive('df-ed35ffd0-ff54-44e6-a64d-4016f0198c2f')\"\n",
              "              title=\"Convert this dataframe to an interactive table.\"\n",
              "              style=\"display:none;\">\n",
              "        \n",
              "  <svg xmlns=\"http://www.w3.org/2000/svg\" height=\"24px\"viewBox=\"0 0 24 24\"\n",
              "       width=\"24px\">\n",
              "    <path d=\"M0 0h24v24H0V0z\" fill=\"none\"/>\n",
              "    <path d=\"M18.56 5.44l.94 2.06.94-2.06 2.06-.94-2.06-.94-.94-2.06-.94 2.06-2.06.94zm-11 1L8.5 8.5l.94-2.06 2.06-.94-2.06-.94L8.5 2.5l-.94 2.06-2.06.94zm10 10l.94 2.06.94-2.06 2.06-.94-2.06-.94-.94-2.06-.94 2.06-2.06.94z\"/><path d=\"M17.41 7.96l-1.37-1.37c-.4-.4-.92-.59-1.43-.59-.52 0-1.04.2-1.43.59L10.3 9.45l-7.72 7.72c-.78.78-.78 2.05 0 2.83L4 21.41c.39.39.9.59 1.41.59.51 0 1.02-.2 1.41-.59l7.78-7.78 2.81-2.81c.8-.78.8-2.07 0-2.86zM5.41 20L4 18.59l7.72-7.72 1.47 1.35L5.41 20z\"/>\n",
              "  </svg>\n",
              "      </button>\n",
              "      \n",
              "  <style>\n",
              "    .colab-df-container {\n",
              "      display:flex;\n",
              "      flex-wrap:wrap;\n",
              "      gap: 12px;\n",
              "    }\n",
              "\n",
              "    .colab-df-convert {\n",
              "      background-color: #E8F0FE;\n",
              "      border: none;\n",
              "      border-radius: 50%;\n",
              "      cursor: pointer;\n",
              "      display: none;\n",
              "      fill: #1967D2;\n",
              "      height: 32px;\n",
              "      padding: 0 0 0 0;\n",
              "      width: 32px;\n",
              "    }\n",
              "\n",
              "    .colab-df-convert:hover {\n",
              "      background-color: #E2EBFA;\n",
              "      box-shadow: 0px 1px 2px rgba(60, 64, 67, 0.3), 0px 1px 3px 1px rgba(60, 64, 67, 0.15);\n",
              "      fill: #174EA6;\n",
              "    }\n",
              "\n",
              "    [theme=dark] .colab-df-convert {\n",
              "      background-color: #3B4455;\n",
              "      fill: #D2E3FC;\n",
              "    }\n",
              "\n",
              "    [theme=dark] .colab-df-convert:hover {\n",
              "      background-color: #434B5C;\n",
              "      box-shadow: 0px 1px 3px 1px rgba(0, 0, 0, 0.15);\n",
              "      filter: drop-shadow(0px 1px 2px rgba(0, 0, 0, 0.3));\n",
              "      fill: #FFFFFF;\n",
              "    }\n",
              "  </style>\n",
              "\n",
              "      <script>\n",
              "        const buttonEl =\n",
              "          document.querySelector('#df-ed35ffd0-ff54-44e6-a64d-4016f0198c2f button.colab-df-convert');\n",
              "        buttonEl.style.display =\n",
              "          google.colab.kernel.accessAllowed ? 'block' : 'none';\n",
              "\n",
              "        async function convertToInteractive(key) {\n",
              "          const element = document.querySelector('#df-ed35ffd0-ff54-44e6-a64d-4016f0198c2f');\n",
              "          const dataTable =\n",
              "            await google.colab.kernel.invokeFunction('convertToInteractive',\n",
              "                                                     [key], {});\n",
              "          if (!dataTable) return;\n",
              "\n",
              "          const docLinkHtml = 'Like what you see? Visit the ' +\n",
              "            '<a target=\"_blank\" href=https://colab.research.google.com/notebooks/data_table.ipynb>data table notebook</a>'\n",
              "            + ' to learn more about interactive tables.';\n",
              "          element.innerHTML = '';\n",
              "          dataTable['output_type'] = 'display_data';\n",
              "          await google.colab.output.renderOutput(dataTable, element);\n",
              "          const docLink = document.createElement('div');\n",
              "          docLink.innerHTML = docLinkHtml;\n",
              "          element.appendChild(docLink);\n",
              "        }\n",
              "      </script>\n",
              "    </div>\n",
              "  </div>\n",
              "  "
            ]
          },
          "metadata": {},
          "execution_count": 122
        }
      ]
    },
    {
      "cell_type": "markdown",
      "metadata": {
        "id": "dyGX5NNVeFtP"
      },
      "source": [
        "#### As can be seen, the dataframe contains a row for each interval of 15 minutes between Jan 1, 2011 to Dec 31 2014. There are 370 columns corresponding 370 clients. The dataframe is indexed by the timestamp.\n",
        "\n",
        "Since the frequency is 15 minutes, each day provides $24\\times 4 = 96$ datapoints, which multiplied by 365 days and 4 years (plus 1 day in Feb 29, 2012) gives: $96 \\times 365 \\times 4 + 96 = 140256$, as observed in data.shape"
      ]
    },
    {
      "cell_type": "code",
      "metadata": {
        "id": "WCtWFf9BeFtS",
        "colab": {
          "base_uri": "https://localhost:8080/",
          "height": 393
        },
        "outputId": "9c7e5814-78bd-412c-ec7a-6b3b5557d86d"
      },
      "source": [
        "data.describe()"
      ],
      "execution_count": 123,
      "outputs": [
        {
          "output_type": "execute_result",
          "data": {
            "text/plain": [
              "              MT_001         MT_002         MT_003         MT_004  \\\n",
              "count  140256.000000  140256.000000  140256.000000  140256.000000   \n",
              "mean        3.970785      20.768480       2.918308      82.184490   \n",
              "std         5.983965      13.272415      11.014456      58.248392   \n",
              "min         0.000000       0.000000       0.000000       0.000000   \n",
              "25%         0.000000       2.844950       0.000000      36.585366   \n",
              "50%         1.269036      24.893314       1.737619      87.398374   \n",
              "75%         2.538071      29.871977       1.737619     115.853659   \n",
              "max        48.223350     115.220484     151.172893     321.138211   \n",
              "\n",
              "              MT_005         MT_006         MT_007         MT_008  \\\n",
              "count  140256.000000  140256.000000  140256.000000  140256.000000   \n",
              "mean       37.240309     141.227385       4.521338     191.401476   \n",
              "std        26.461327      98.439984       6.485684     121.981187   \n",
              "min         0.000000       0.000000       0.000000       0.000000   \n",
              "25%        15.853659      71.428571       0.565291     111.111111   \n",
              "50%        39.024390     157.738095       2.826456     222.222222   \n",
              "75%        54.878049     205.357143       4.522329     279.461279   \n",
              "max       150.000000     535.714286      44.657999     552.188552   \n",
              "\n",
              "              MT_009         MT_010  ...         MT_361         MT_362  \\\n",
              "count  140256.000000  140256.000000  ...  140256.000000  140256.000000   \n",
              "mean       39.975354      42.205152  ...     218.213701   37607.987537   \n",
              "std        29.814595      33.401251  ...     204.833532   38691.954832   \n",
              "min         0.000000       0.000000  ...       0.000000       0.000000   \n",
              "25%        13.986014       9.677419  ...       5.710207       0.000000   \n",
              "50%        40.209790      40.860215  ...     131.334761   24100.000000   \n",
              "75%        57.692308      61.290323  ...     403.283369   54800.000000   \n",
              "max       157.342657     198.924731  ...     852.962170  192800.000000   \n",
              "\n",
              "              MT_363         MT_364         MT_365         MT_366  \\\n",
              "count  140256.000000  140256.000000  140256.000000  140256.000000   \n",
              "mean     1887.427366    2940.031734      65.413150       9.269709   \n",
              "std      1801.486488    2732.251967      65.007818      10.016782   \n",
              "min         0.000000       0.000000       0.000000       0.000000   \n",
              "25%         0.000000       0.000000      13.037810       0.000000   \n",
              "50%      1050.632911    2136.363636      31.290743       7.021650   \n",
              "75%      3312.236287    5363.636364     108.213820      11.702750   \n",
              "max      7751.054852   12386.363636     335.071708      60.269163   \n",
              "\n",
              "              MT_367         MT_368         MT_369         MT_370  \n",
              "count  140256.000000  140256.000000  140256.000000  140256.000000  \n",
              "mean      424.262904      94.704717     625.251734    8722.355145  \n",
              "std       274.337122      80.297301     380.656042    9195.155777  \n",
              "min         0.000000       0.000000       0.000000       0.000000  \n",
              "25%         0.000000      30.050083      83.944282       0.000000  \n",
              "50%       525.899912      76.794658     758.064516       0.000000  \n",
              "75%       627.743635     151.919866     875.366569   17783.783784  \n",
              "max      1138.718174     362.270451    1549.120235   30918.918919  \n",
              "\n",
              "[8 rows x 370 columns]"
            ],
            "text/html": [
              "\n",
              "  <div id=\"df-474974d0-9f66-4053-a826-eec7a9cb4f3e\">\n",
              "    <div class=\"colab-df-container\">\n",
              "      <div>\n",
              "<style scoped>\n",
              "    .dataframe tbody tr th:only-of-type {\n",
              "        vertical-align: middle;\n",
              "    }\n",
              "\n",
              "    .dataframe tbody tr th {\n",
              "        vertical-align: top;\n",
              "    }\n",
              "\n",
              "    .dataframe thead th {\n",
              "        text-align: right;\n",
              "    }\n",
              "</style>\n",
              "<table border=\"1\" class=\"dataframe\">\n",
              "  <thead>\n",
              "    <tr style=\"text-align: right;\">\n",
              "      <th></th>\n",
              "      <th>MT_001</th>\n",
              "      <th>MT_002</th>\n",
              "      <th>MT_003</th>\n",
              "      <th>MT_004</th>\n",
              "      <th>MT_005</th>\n",
              "      <th>MT_006</th>\n",
              "      <th>MT_007</th>\n",
              "      <th>MT_008</th>\n",
              "      <th>MT_009</th>\n",
              "      <th>MT_010</th>\n",
              "      <th>...</th>\n",
              "      <th>MT_361</th>\n",
              "      <th>MT_362</th>\n",
              "      <th>MT_363</th>\n",
              "      <th>MT_364</th>\n",
              "      <th>MT_365</th>\n",
              "      <th>MT_366</th>\n",
              "      <th>MT_367</th>\n",
              "      <th>MT_368</th>\n",
              "      <th>MT_369</th>\n",
              "      <th>MT_370</th>\n",
              "    </tr>\n",
              "  </thead>\n",
              "  <tbody>\n",
              "    <tr>\n",
              "      <th>count</th>\n",
              "      <td>140256.000000</td>\n",
              "      <td>140256.000000</td>\n",
              "      <td>140256.000000</td>\n",
              "      <td>140256.000000</td>\n",
              "      <td>140256.000000</td>\n",
              "      <td>140256.000000</td>\n",
              "      <td>140256.000000</td>\n",
              "      <td>140256.000000</td>\n",
              "      <td>140256.000000</td>\n",
              "      <td>140256.000000</td>\n",
              "      <td>...</td>\n",
              "      <td>140256.000000</td>\n",
              "      <td>140256.000000</td>\n",
              "      <td>140256.000000</td>\n",
              "      <td>140256.000000</td>\n",
              "      <td>140256.000000</td>\n",
              "      <td>140256.000000</td>\n",
              "      <td>140256.000000</td>\n",
              "      <td>140256.000000</td>\n",
              "      <td>140256.000000</td>\n",
              "      <td>140256.000000</td>\n",
              "    </tr>\n",
              "    <tr>\n",
              "      <th>mean</th>\n",
              "      <td>3.970785</td>\n",
              "      <td>20.768480</td>\n",
              "      <td>2.918308</td>\n",
              "      <td>82.184490</td>\n",
              "      <td>37.240309</td>\n",
              "      <td>141.227385</td>\n",
              "      <td>4.521338</td>\n",
              "      <td>191.401476</td>\n",
              "      <td>39.975354</td>\n",
              "      <td>42.205152</td>\n",
              "      <td>...</td>\n",
              "      <td>218.213701</td>\n",
              "      <td>37607.987537</td>\n",
              "      <td>1887.427366</td>\n",
              "      <td>2940.031734</td>\n",
              "      <td>65.413150</td>\n",
              "      <td>9.269709</td>\n",
              "      <td>424.262904</td>\n",
              "      <td>94.704717</td>\n",
              "      <td>625.251734</td>\n",
              "      <td>8722.355145</td>\n",
              "    </tr>\n",
              "    <tr>\n",
              "      <th>std</th>\n",
              "      <td>5.983965</td>\n",
              "      <td>13.272415</td>\n",
              "      <td>11.014456</td>\n",
              "      <td>58.248392</td>\n",
              "      <td>26.461327</td>\n",
              "      <td>98.439984</td>\n",
              "      <td>6.485684</td>\n",
              "      <td>121.981187</td>\n",
              "      <td>29.814595</td>\n",
              "      <td>33.401251</td>\n",
              "      <td>...</td>\n",
              "      <td>204.833532</td>\n",
              "      <td>38691.954832</td>\n",
              "      <td>1801.486488</td>\n",
              "      <td>2732.251967</td>\n",
              "      <td>65.007818</td>\n",
              "      <td>10.016782</td>\n",
              "      <td>274.337122</td>\n",
              "      <td>80.297301</td>\n",
              "      <td>380.656042</td>\n",
              "      <td>9195.155777</td>\n",
              "    </tr>\n",
              "    <tr>\n",
              "      <th>min</th>\n",
              "      <td>0.000000</td>\n",
              "      <td>0.000000</td>\n",
              "      <td>0.000000</td>\n",
              "      <td>0.000000</td>\n",
              "      <td>0.000000</td>\n",
              "      <td>0.000000</td>\n",
              "      <td>0.000000</td>\n",
              "      <td>0.000000</td>\n",
              "      <td>0.000000</td>\n",
              "      <td>0.000000</td>\n",
              "      <td>...</td>\n",
              "      <td>0.000000</td>\n",
              "      <td>0.000000</td>\n",
              "      <td>0.000000</td>\n",
              "      <td>0.000000</td>\n",
              "      <td>0.000000</td>\n",
              "      <td>0.000000</td>\n",
              "      <td>0.000000</td>\n",
              "      <td>0.000000</td>\n",
              "      <td>0.000000</td>\n",
              "      <td>0.000000</td>\n",
              "    </tr>\n",
              "    <tr>\n",
              "      <th>25%</th>\n",
              "      <td>0.000000</td>\n",
              "      <td>2.844950</td>\n",
              "      <td>0.000000</td>\n",
              "      <td>36.585366</td>\n",
              "      <td>15.853659</td>\n",
              "      <td>71.428571</td>\n",
              "      <td>0.565291</td>\n",
              "      <td>111.111111</td>\n",
              "      <td>13.986014</td>\n",
              "      <td>9.677419</td>\n",
              "      <td>...</td>\n",
              "      <td>5.710207</td>\n",
              "      <td>0.000000</td>\n",
              "      <td>0.000000</td>\n",
              "      <td>0.000000</td>\n",
              "      <td>13.037810</td>\n",
              "      <td>0.000000</td>\n",
              "      <td>0.000000</td>\n",
              "      <td>30.050083</td>\n",
              "      <td>83.944282</td>\n",
              "      <td>0.000000</td>\n",
              "    </tr>\n",
              "    <tr>\n",
              "      <th>50%</th>\n",
              "      <td>1.269036</td>\n",
              "      <td>24.893314</td>\n",
              "      <td>1.737619</td>\n",
              "      <td>87.398374</td>\n",
              "      <td>39.024390</td>\n",
              "      <td>157.738095</td>\n",
              "      <td>2.826456</td>\n",
              "      <td>222.222222</td>\n",
              "      <td>40.209790</td>\n",
              "      <td>40.860215</td>\n",
              "      <td>...</td>\n",
              "      <td>131.334761</td>\n",
              "      <td>24100.000000</td>\n",
              "      <td>1050.632911</td>\n",
              "      <td>2136.363636</td>\n",
              "      <td>31.290743</td>\n",
              "      <td>7.021650</td>\n",
              "      <td>525.899912</td>\n",
              "      <td>76.794658</td>\n",
              "      <td>758.064516</td>\n",
              "      <td>0.000000</td>\n",
              "    </tr>\n",
              "    <tr>\n",
              "      <th>75%</th>\n",
              "      <td>2.538071</td>\n",
              "      <td>29.871977</td>\n",
              "      <td>1.737619</td>\n",
              "      <td>115.853659</td>\n",
              "      <td>54.878049</td>\n",
              "      <td>205.357143</td>\n",
              "      <td>4.522329</td>\n",
              "      <td>279.461279</td>\n",
              "      <td>57.692308</td>\n",
              "      <td>61.290323</td>\n",
              "      <td>...</td>\n",
              "      <td>403.283369</td>\n",
              "      <td>54800.000000</td>\n",
              "      <td>3312.236287</td>\n",
              "      <td>5363.636364</td>\n",
              "      <td>108.213820</td>\n",
              "      <td>11.702750</td>\n",
              "      <td>627.743635</td>\n",
              "      <td>151.919866</td>\n",
              "      <td>875.366569</td>\n",
              "      <td>17783.783784</td>\n",
              "    </tr>\n",
              "    <tr>\n",
              "      <th>max</th>\n",
              "      <td>48.223350</td>\n",
              "      <td>115.220484</td>\n",
              "      <td>151.172893</td>\n",
              "      <td>321.138211</td>\n",
              "      <td>150.000000</td>\n",
              "      <td>535.714286</td>\n",
              "      <td>44.657999</td>\n",
              "      <td>552.188552</td>\n",
              "      <td>157.342657</td>\n",
              "      <td>198.924731</td>\n",
              "      <td>...</td>\n",
              "      <td>852.962170</td>\n",
              "      <td>192800.000000</td>\n",
              "      <td>7751.054852</td>\n",
              "      <td>12386.363636</td>\n",
              "      <td>335.071708</td>\n",
              "      <td>60.269163</td>\n",
              "      <td>1138.718174</td>\n",
              "      <td>362.270451</td>\n",
              "      <td>1549.120235</td>\n",
              "      <td>30918.918919</td>\n",
              "    </tr>\n",
              "  </tbody>\n",
              "</table>\n",
              "<p>8 rows × 370 columns</p>\n",
              "</div>\n",
              "      <button class=\"colab-df-convert\" onclick=\"convertToInteractive('df-474974d0-9f66-4053-a826-eec7a9cb4f3e')\"\n",
              "              title=\"Convert this dataframe to an interactive table.\"\n",
              "              style=\"display:none;\">\n",
              "        \n",
              "  <svg xmlns=\"http://www.w3.org/2000/svg\" height=\"24px\"viewBox=\"0 0 24 24\"\n",
              "       width=\"24px\">\n",
              "    <path d=\"M0 0h24v24H0V0z\" fill=\"none\"/>\n",
              "    <path d=\"M18.56 5.44l.94 2.06.94-2.06 2.06-.94-2.06-.94-.94-2.06-.94 2.06-2.06.94zm-11 1L8.5 8.5l.94-2.06 2.06-.94-2.06-.94L8.5 2.5l-.94 2.06-2.06.94zm10 10l.94 2.06.94-2.06 2.06-.94-2.06-.94-.94-2.06-.94 2.06-2.06.94z\"/><path d=\"M17.41 7.96l-1.37-1.37c-.4-.4-.92-.59-1.43-.59-.52 0-1.04.2-1.43.59L10.3 9.45l-7.72 7.72c-.78.78-.78 2.05 0 2.83L4 21.41c.39.39.9.59 1.41.59.51 0 1.02-.2 1.41-.59l7.78-7.78 2.81-2.81c.8-.78.8-2.07 0-2.86zM5.41 20L4 18.59l7.72-7.72 1.47 1.35L5.41 20z\"/>\n",
              "  </svg>\n",
              "      </button>\n",
              "      \n",
              "  <style>\n",
              "    .colab-df-container {\n",
              "      display:flex;\n",
              "      flex-wrap:wrap;\n",
              "      gap: 12px;\n",
              "    }\n",
              "\n",
              "    .colab-df-convert {\n",
              "      background-color: #E8F0FE;\n",
              "      border: none;\n",
              "      border-radius: 50%;\n",
              "      cursor: pointer;\n",
              "      display: none;\n",
              "      fill: #1967D2;\n",
              "      height: 32px;\n",
              "      padding: 0 0 0 0;\n",
              "      width: 32px;\n",
              "    }\n",
              "\n",
              "    .colab-df-convert:hover {\n",
              "      background-color: #E2EBFA;\n",
              "      box-shadow: 0px 1px 2px rgba(60, 64, 67, 0.3), 0px 1px 3px 1px rgba(60, 64, 67, 0.15);\n",
              "      fill: #174EA6;\n",
              "    }\n",
              "\n",
              "    [theme=dark] .colab-df-convert {\n",
              "      background-color: #3B4455;\n",
              "      fill: #D2E3FC;\n",
              "    }\n",
              "\n",
              "    [theme=dark] .colab-df-convert:hover {\n",
              "      background-color: #434B5C;\n",
              "      box-shadow: 0px 1px 3px 1px rgba(0, 0, 0, 0.15);\n",
              "      filter: drop-shadow(0px 1px 2px rgba(0, 0, 0, 0.3));\n",
              "      fill: #FFFFFF;\n",
              "    }\n",
              "  </style>\n",
              "\n",
              "      <script>\n",
              "        const buttonEl =\n",
              "          document.querySelector('#df-474974d0-9f66-4053-a826-eec7a9cb4f3e button.colab-df-convert');\n",
              "        buttonEl.style.display =\n",
              "          google.colab.kernel.accessAllowed ? 'block' : 'none';\n",
              "\n",
              "        async function convertToInteractive(key) {\n",
              "          const element = document.querySelector('#df-474974d0-9f66-4053-a826-eec7a9cb4f3e');\n",
              "          const dataTable =\n",
              "            await google.colab.kernel.invokeFunction('convertToInteractive',\n",
              "                                                     [key], {});\n",
              "          if (!dataTable) return;\n",
              "\n",
              "          const docLinkHtml = 'Like what you see? Visit the ' +\n",
              "            '<a target=\"_blank\" href=https://colab.research.google.com/notebooks/data_table.ipynb>data table notebook</a>'\n",
              "            + ' to learn more about interactive tables.';\n",
              "          element.innerHTML = '';\n",
              "          dataTable['output_type'] = 'display_data';\n",
              "          await google.colab.output.renderOutput(dataTable, element);\n",
              "          const docLink = document.createElement('div');\n",
              "          docLink.innerHTML = docLinkHtml;\n",
              "          element.appendChild(docLink);\n",
              "        }\n",
              "      </script>\n",
              "    </div>\n",
              "  </div>\n",
              "  "
            ]
          },
          "metadata": {},
          "execution_count": 123
        }
      ]
    },
    {
      "cell_type": "code",
      "metadata": {
        "id": "8Chw0xxZopMH",
        "colab": {
          "base_uri": "https://localhost:8080/",
          "height": 265
        },
        "outputId": "765adc8f-dd18-4dea-9b0f-3cc8fa31e4e7"
      },
      "source": [
        "data_example = data.loc['2012-01-01 00:15:00':'2012-01-03 00:00:00'][['MT_001','MT_002']]\n",
        "data_example.plot()\n",
        "plt.show()"
      ],
      "execution_count": 124,
      "outputs": [
        {
          "output_type": "display_data",
          "data": {
            "text/plain": [
              "<Figure size 432x288 with 1 Axes>"
            ],
            "image/png": "[encoded data removed]"
          },
          "metadata": {
            "needs_background": "light"
          }
        }
      ]
    },
    {
      "cell_type": "markdown",
      "metadata": {
        "id": "PliovQiueFtV"
      },
      "source": [
        "### Plot the 2 days of 2012 for the first 2 clients"
      ]
    },
    {
      "cell_type": "code",
      "metadata": {
        "id": "BQ1rHHspeFtV",
        "colab": {
          "base_uri": "https://localhost:8080/",
          "height": 265
        },
        "outputId": "5e3e04f0-9ee9-4ab0-a4c5-ca0aaaba8836"
      },
      "source": [
        "data_example = data.loc['2012-01-01 00:15:00':'2012-01-03 00:00:00'][['MT_001','MT_002']]\n",
        "data_example.plot()\n",
        "plt.show()"
      ],
      "execution_count": 125,
      "outputs": [
        {
          "output_type": "display_data",
          "data": {
            "text/plain": [
              "<Figure size 432x288 with 1 Axes>"
            ],
            "image/png": "[encoded data removed]"
          },
          "metadata": {
            "needs_background": "light"
          }
        }
      ]
    },
    {
      "cell_type": "markdown",
      "metadata": {
        "id": "tsxn0FvXeFtZ"
      },
      "source": [
        "#### Very Important Note: \n",
        "We quickly note that the main difference between the curves is the level (also seen on the means in df.describe()), so we know we will have to somehow normalize the curves, in order for the clustering technique to capture the behaviour of the consumption throughout the day, rather than the overall level."
      ]
    },
    {
      "cell_type": "markdown",
      "metadata": {
        "id": "pGxbwhrueFtZ"
      },
      "source": [
        "### Data for the analysis\n",
        "\n",
        "We focus on 2013 and 2014 because these are the years with lower number of clients having zero demand"
      ]
    },
    {
      "cell_type": "code",
      "metadata": {
        "id": "rOkMpq4ceFta"
      },
      "source": [
        "data2011 = data.loc['2011-01-01 00:15:00':'2012-01-01 00:00:00']\n",
        "data2012 = data.loc['2012-01-01 00:15:00':'2013-01-01 00:00:00']\n",
        "data2013 = data.loc['2013-01-01 00:15:00':'2014-01-01 00:00:00']\n",
        "data2014 = data.loc['2014-01-01 00:15:00':'2015-01-01 00:00:00']"
      ],
      "execution_count": 126,
      "outputs": []
    },
    {
      "cell_type": "code",
      "metadata": {
        "id": "Eq4fatz3eFtd",
        "colab": {
          "base_uri": "https://localhost:8080/"
        },
        "outputId": "a72d1dc3-e50b-4a7e-cba5-2c4052c70459"
      },
      "source": [
        "# Check number of days\n",
        "print(data2011.shape[0]/96)\n",
        "print(data2012.shape[0]/96)\n",
        "print(data2013.shape[0]/96)\n",
        "print(data2014.shape[0]/96)"
      ],
      "execution_count": 127,
      "outputs": [
        {
          "output_type": "stream",
          "name": "stdout",
          "text": [
            "365.0\n",
            "366.0\n",
            "365.0\n",
            "365.0\n"
          ]
        }
      ]
    },
    {
      "cell_type": "code",
      "metadata": {
        "id": "iotkoGCgeFth",
        "colab": {
          "base_uri": "https://localhost:8080/"
        },
        "outputId": "69a1b9f8-3b59-4f3f-94ab-50ec1a971fc0"
      },
      "source": [
        "# See number of clients with 0 demand per year\n",
        "print(sum(data2011.mean()==0))\n",
        "print(sum(data2012.mean()==0))\n",
        "print(sum(data2013.mean()==0))\n",
        "print(sum(data2014.mean()==0))"
      ],
      "execution_count": 128,
      "outputs": [
        {
          "output_type": "stream",
          "name": "stdout",
          "text": [
            "210\n",
            "37\n",
            "21\n",
            "1\n"
          ]
        }
      ]
    },
    {
      "cell_type": "code",
      "metadata": {
        "id": "z1O_kTHOeFtk",
        "colab": {
          "base_uri": "https://localhost:8080/"
        },
        "outputId": "564cfa79-3cdb-416f-c95f-924196691853"
      },
      "source": [
        "clients = data2011.columns\n",
        "clients_no_demand = clients[data2013.mean()==0] # clients with 0 demand\n",
        "\n",
        "# Add data of 2014 at the end of df consist of 2013 data\n",
        "\n",
        "data_13_14 = data2013.append(data2014) # appending 2013 and 2014\n",
        "\n",
        "# drop clients with 0 demand\n",
        "data_13_14 = data_13_14.drop(clients_no_demand, axis=1) \n",
        "print(data_13_14.shape)\n",
        "print(sum(data_13_14.mean()==0)) # check that there are no clients with 0 demand"
      ],
      "execution_count": 129,
      "outputs": [
        {
          "output_type": "stream",
          "name": "stdout",
          "text": [
            "(70080, 349)\n",
            "0\n"
          ]
        }
      ]
    },
    {
      "cell_type": "code",
      "metadata": {
        "id": "GlsCu2OybOru",
        "colab": {
          "base_uri": "https://localhost:8080/",
          "height": 834
        },
        "outputId": "b847a983-830c-4e0d-a292-b87ce8451eb4"
      },
      "source": [
        "data_13_14.copy()"
      ],
      "execution_count": 130,
      "outputs": [
        {
          "output_type": "execute_result",
          "data": {
            "text/plain": [
              "                       MT_001     MT_002    MT_003      MT_004     MT_005  \\\n",
              "2013-01-01 00:15:00  2.538071  22.759602  2.606429  138.211382  63.414634   \n",
              "2013-01-01 00:30:00  1.269036  22.759602  2.606429  138.211382  63.414634   \n",
              "2013-01-01 00:45:00  2.538071  22.759602  2.606429  134.146341  60.975610   \n",
              "2013-01-01 01:00:00  1.269036  23.470839  2.606429  130.081301  56.097561   \n",
              "2013-01-01 01:15:00  3.807107  23.470839  2.606429  130.081301  58.536585   \n",
              "...                       ...        ...       ...         ...        ...   \n",
              "2014-12-31 23:00:00  2.538071  22.048364  1.737619  150.406504  85.365854   \n",
              "2014-12-31 23:15:00  2.538071  21.337127  1.737619  166.666667  81.707317   \n",
              "2014-12-31 23:30:00  2.538071  20.625889  1.737619  162.601626  82.926829   \n",
              "2014-12-31 23:45:00  1.269036  21.337127  1.737619  166.666667  85.365854   \n",
              "2015-01-01 00:00:00  2.538071  19.914651  1.737619  178.861789  84.146341   \n",
              "\n",
              "                         MT_006     MT_007      MT_008     MT_009     MT_010  \\\n",
              "2013-01-01 00:15:00  255.952381   4.522329  239.057239  57.692308  78.494624   \n",
              "2013-01-01 00:30:00  264.880952   5.652911  228.956229  57.692308  76.344086   \n",
              "2013-01-01 00:45:00  250.000000   5.652911  239.057239  54.195804  76.344086   \n",
              "2013-01-01 01:00:00  226.190476   6.218202  249.158249  50.699301  75.268817   \n",
              "2013-01-01 01:15:00  229.166667   6.783493  239.057239  57.692308  74.193548   \n",
              "...                         ...        ...         ...        ...        ...   \n",
              "2014-12-31 23:00:00  303.571429  11.305822  282.828283  68.181818  72.043011   \n",
              "2014-12-31 23:15:00  324.404762  11.305822  252.525253  64.685315  72.043011   \n",
              "2014-12-31 23:30:00  318.452381  10.175240  242.424242  61.188811  74.193548   \n",
              "2014-12-31 23:45:00  285.714286  10.175240  225.589226  64.685315  72.043011   \n",
              "2015-01-01 00:00:00  279.761905  10.175240  249.158249  62.937063  69.892473   \n",
              "\n",
              "                     ...      MT_361   MT_362       MT_363       MT_364  \\\n",
              "2013-01-01 00:15:00  ...   64.953605  22300.0   886.075949  1000.000000   \n",
              "2013-01-01 00:30:00  ...   61.384725  21000.0   864.978903   909.090909   \n",
              "2013-01-01 00:45:00  ...   42.826552  18200.0   860.759494   840.909091   \n",
              "2013-01-01 01:00:00  ...   44.254104  15800.0   860.759494   840.909091   \n",
              "2013-01-01 01:15:00  ...   44.254104  15000.0   793.248945   818.181818   \n",
              "...                  ...         ...      ...          ...          ...   \n",
              "2014-12-31 23:00:00  ...  276.945039  28200.0  1616.033755  1363.636364   \n",
              "2014-12-31 23:15:00  ...  279.800143  28300.0  1569.620253  1340.909091   \n",
              "2014-12-31 23:30:00  ...  284.796574  27800.0  1556.962025  1318.181818   \n",
              "2014-12-31 23:45:00  ...  246.252677  28000.0  1443.037975   909.090909   \n",
              "2015-01-01 00:00:00  ...  188.436831  27800.0  1409.282700   954.545455   \n",
              "\n",
              "                        MT_365    MT_366      MT_367      MT_368      MT_369  \\\n",
              "2013-01-01 00:15:00  16.949153  6.436513  616.330114   76.794658  731.671554   \n",
              "2013-01-01 00:30:00  18.252934  3.510825  564.530290   76.794658  727.272727   \n",
              "2013-01-01 00:45:00  16.949153  5.851375  590.869183   68.447412  730.205279   \n",
              "2013-01-01 01:00:00  16.949153  4.095963  575.065847   58.430718  722.873900   \n",
              "2013-01-01 01:15:00  16.949153  4.095963  570.676032   60.100167  748.533724   \n",
              "...                        ...       ...         ...         ...         ...   \n",
              "2014-12-31 23:00:00  29.986962  5.851375  697.102722  176.961603  651.026393   \n",
              "2014-12-31 23:15:00  29.986962  9.947338  671.641791  168.614357  669.354839   \n",
              "2014-12-31 23:30:00  27.379400  9.362200  670.763828  153.589316  670.087977   \n",
              "2014-12-31 23:45:00  26.075619  4.095963  664.618086  146.911519  646.627566   \n",
              "2015-01-01 00:00:00  27.379400  4.095963  628.621598  131.886477  673.020528   \n",
              "\n",
              "                          MT_370  \n",
              "2013-01-01 00:15:00  8086.486486  \n",
              "2013-01-01 00:30:00  8086.486486  \n",
              "2013-01-01 00:45:00  7848.648649  \n",
              "2013-01-01 01:00:00  7848.648649  \n",
              "2013-01-01 01:15:00  7610.810811  \n",
              "...                          ...  \n",
              "2014-12-31 23:00:00  7621.621622  \n",
              "2014-12-31 23:15:00  6702.702703  \n",
              "2014-12-31 23:30:00  6864.864865  \n",
              "2014-12-31 23:45:00  6540.540541  \n",
              "2015-01-01 00:00:00  7135.135135  \n",
              "\n",
              "[70080 rows x 349 columns]"
            ],
            "text/html": [
              "\n",
              "  <div id=\"df-ee7c7ee0-2527-4d86-858c-2e7dcf27f5f8\">\n",
              "    <div class=\"colab-df-container\">\n",
              "      <div>\n",
              "<style scoped>\n",
              "    .dataframe tbody tr th:only-of-type {\n",
              "        vertical-align: middle;\n",
              "    }\n",
              "\n",
              "    .dataframe tbody tr th {\n",
              "        vertical-align: top;\n",
              "    }\n",
              "\n",
              "    .dataframe thead th {\n",
              "        text-align: right;\n",
              "    }\n",
              "</style>\n",
              "<table border=\"1\" class=\"dataframe\">\n",
              "  <thead>\n",
              "    <tr style=\"text-align: right;\">\n",
              "      <th></th>\n",
              "      <th>MT_001</th>\n",
              "      <th>MT_002</th>\n",
              "      <th>MT_003</th>\n",
              "      <th>MT_004</th>\n",
              "      <th>MT_005</th>\n",
              "      <th>MT_006</th>\n",
              "      <th>MT_007</th>\n",
              "      <th>MT_008</th>\n",
              "      <th>MT_009</th>\n",
              "      <th>MT_010</th>\n",
              "      <th>...</th>\n",
              "      <th>MT_361</th>\n",
              "      <th>MT_362</th>\n",
              "      <th>MT_363</th>\n",
              "      <th>MT_364</th>\n",
              "      <th>MT_365</th>\n",
              "      <th>MT_366</th>\n",
              "      <th>MT_367</th>\n",
              "      <th>MT_368</th>\n",
              "      <th>MT_369</th>\n",
              "      <th>MT_370</th>\n",
              "    </tr>\n",
              "  </thead>\n",
              "  <tbody>\n",
              "    <tr>\n",
              "      <th>2013-01-01 00:15:00</th>\n",
              "      <td>2.538071</td>\n",
              "      <td>22.759602</td>\n",
              "      <td>2.606429</td>\n",
              "      <td>138.211382</td>\n",
              "      <td>63.414634</td>\n",
              "      <td>255.952381</td>\n",
              "      <td>4.522329</td>\n",
              "      <td>239.057239</td>\n",
              "      <td>57.692308</td>\n",
              "      <td>78.494624</td>\n",
              "      <td>...</td>\n",
              "      <td>64.953605</td>\n",
              "      <td>22300.0</td>\n",
              "      <td>886.075949</td>\n",
              "      <td>1000.000000</td>\n",
              "      <td>16.949153</td>\n",
              "      <td>6.436513</td>\n",
              "      <td>616.330114</td>\n",
              "      <td>76.794658</td>\n",
              "      <td>731.671554</td>\n",
              "      <td>8086.486486</td>\n",
              "    </tr>\n",
              "    <tr>\n",
              "      <th>2013-01-01 00:30:00</th>\n",
              "      <td>1.269036</td>\n",
              "      <td>22.759602</td>\n",
              "      <td>2.606429</td>\n",
              "      <td>138.211382</td>\n",
              "      <td>63.414634</td>\n",
              "      <td>264.880952</td>\n",
              "      <td>5.652911</td>\n",
              "      <td>228.956229</td>\n",
              "      <td>57.692308</td>\n",
              "      <td>76.344086</td>\n",
              "      <td>...</td>\n",
              "      <td>61.384725</td>\n",
              "      <td>21000.0</td>\n",
              "      <td>864.978903</td>\n",
              "      <td>909.090909</td>\n",
              "      <td>18.252934</td>\n",
              "      <td>3.510825</td>\n",
              "      <td>564.530290</td>\n",
              "      <td>76.794658</td>\n",
              "      <td>727.272727</td>\n",
              "      <td>8086.486486</td>\n",
              "    </tr>\n",
              "    <tr>\n",
              "      <th>2013-01-01 00:45:00</th>\n",
              "      <td>2.538071</td>\n",
              "      <td>22.759602</td>\n",
              "      <td>2.606429</td>\n",
              "      <td>134.146341</td>\n",
              "      <td>60.975610</td>\n",
              "      <td>250.000000</td>\n",
              "      <td>5.652911</td>\n",
              "      <td>239.057239</td>\n",
              "      <td>54.195804</td>\n",
              "      <td>76.344086</td>\n",
              "      <td>...</td>\n",
              "      <td>42.826552</td>\n",
              "      <td>18200.0</td>\n",
              "      <td>860.759494</td>\n",
              "      <td>840.909091</td>\n",
              "      <td>16.949153</td>\n",
              "      <td>5.851375</td>\n",
              "      <td>590.869183</td>\n",
              "      <td>68.447412</td>\n",
              "      <td>730.205279</td>\n",
              "      <td>7848.648649</td>\n",
              "    </tr>\n",
              "    <tr>\n",
              "      <th>2013-01-01 01:00:00</th>\n",
              "      <td>1.269036</td>\n",
              "      <td>23.470839</td>\n",
              "      <td>2.606429</td>\n",
              "      <td>130.081301</td>\n",
              "      <td>56.097561</td>\n",
              "      <td>226.190476</td>\n",
              "      <td>6.218202</td>\n",
              "      <td>249.158249</td>\n",
              "      <td>50.699301</td>\n",
              "      <td>75.268817</td>\n",
              "      <td>...</td>\n",
              "      <td>44.254104</td>\n",
              "      <td>15800.0</td>\n",
              "      <td>860.759494</td>\n",
              "      <td>840.909091</td>\n",
              "      <td>16.949153</td>\n",
              "      <td>4.095963</td>\n",
              "      <td>575.065847</td>\n",
              "      <td>58.430718</td>\n",
              "      <td>722.873900</td>\n",
              "      <td>7848.648649</td>\n",
              "    </tr>\n",
              "    <tr>\n",
              "      <th>2013-01-01 01:15:00</th>\n",
              "      <td>3.807107</td>\n",
              "      <td>23.470839</td>\n",
              "      <td>2.606429</td>\n",
              "      <td>130.081301</td>\n",
              "      <td>58.536585</td>\n",
              "      <td>229.166667</td>\n",
              "      <td>6.783493</td>\n",
              "      <td>239.057239</td>\n",
              "      <td>57.692308</td>\n",
              "      <td>74.193548</td>\n",
              "      <td>...</td>\n",
              "      <td>44.254104</td>\n",
              "      <td>15000.0</td>\n",
              "      <td>793.248945</td>\n",
              "      <td>818.181818</td>\n",
              "      <td>16.949153</td>\n",
              "      <td>4.095963</td>\n",
              "      <td>570.676032</td>\n",
              "      <td>60.100167</td>\n",
              "      <td>748.533724</td>\n",
              "      <td>7610.810811</td>\n",
              "    </tr>\n",
              "    <tr>\n",
              "      <th>...</th>\n",
              "      <td>...</td>\n",
              "      <td>...</td>\n",
              "      <td>...</td>\n",
              "      <td>...</td>\n",
              "      <td>...</td>\n",
              "      <td>...</td>\n",
              "      <td>...</td>\n",
              "      <td>...</td>\n",
              "      <td>...</td>\n",
              "      <td>...</td>\n",
              "      <td>...</td>\n",
              "      <td>...</td>\n",
              "      <td>...</td>\n",
              "      <td>...</td>\n",
              "      <td>...</td>\n",
              "      <td>...</td>\n",
              "      <td>...</td>\n",
              "      <td>...</td>\n",
              "      <td>...</td>\n",
              "      <td>...</td>\n",
              "      <td>...</td>\n",
              "    </tr>\n",
              "    <tr>\n",
              "      <th>2014-12-31 23:00:00</th>\n",
              "      <td>2.538071</td>\n",
              "      <td>22.048364</td>\n",
              "      <td>1.737619</td>\n",
              "      <td>150.406504</td>\n",
              "      <td>85.365854</td>\n",
              "      <td>303.571429</td>\n",
              "      <td>11.305822</td>\n",
              "      <td>282.828283</td>\n",
              "      <td>68.181818</td>\n",
              "      <td>72.043011</td>\n",
              "      <td>...</td>\n",
              "      <td>276.945039</td>\n",
              "      <td>28200.0</td>\n",
              "      <td>1616.033755</td>\n",
              "      <td>1363.636364</td>\n",
              "      <td>29.986962</td>\n",
              "      <td>5.851375</td>\n",
              "      <td>697.102722</td>\n",
              "      <td>176.961603</td>\n",
              "      <td>651.026393</td>\n",
              "      <td>7621.621622</td>\n",
              "    </tr>\n",
              "    <tr>\n",
              "      <th>2014-12-31 23:15:00</th>\n",
              "      <td>2.538071</td>\n",
              "      <td>21.337127</td>\n",
              "      <td>1.737619</td>\n",
              "      <td>166.666667</td>\n",
              "      <td>81.707317</td>\n",
              "      <td>324.404762</td>\n",
              "      <td>11.305822</td>\n",
              "      <td>252.525253</td>\n",
              "      <td>64.685315</td>\n",
              "      <td>72.043011</td>\n",
              "      <td>...</td>\n",
              "      <td>279.800143</td>\n",
              "      <td>28300.0</td>\n",
              "      <td>1569.620253</td>\n",
              "      <td>1340.909091</td>\n",
              "      <td>29.986962</td>\n",
              "      <td>9.947338</td>\n",
              "      <td>671.641791</td>\n",
              "      <td>168.614357</td>\n",
              "      <td>669.354839</td>\n",
              "      <td>6702.702703</td>\n",
              "    </tr>\n",
              "    <tr>\n",
              "      <th>2014-12-31 23:30:00</th>\n",
              "      <td>2.538071</td>\n",
              "      <td>20.625889</td>\n",
              "      <td>1.737619</td>\n",
              "      <td>162.601626</td>\n",
              "      <td>82.926829</td>\n",
              "      <td>318.452381</td>\n",
              "      <td>10.175240</td>\n",
              "      <td>242.424242</td>\n",
              "      <td>61.188811</td>\n",
              "      <td>74.193548</td>\n",
              "      <td>...</td>\n",
              "      <td>284.796574</td>\n",
              "      <td>27800.0</td>\n",
              "      <td>1556.962025</td>\n",
              "      <td>1318.181818</td>\n",
              "      <td>27.379400</td>\n",
              "      <td>9.362200</td>\n",
              "      <td>670.763828</td>\n",
              "      <td>153.589316</td>\n",
              "      <td>670.087977</td>\n",
              "      <td>6864.864865</td>\n",
              "    </tr>\n",
              "    <tr>\n",
              "      <th>2014-12-31 23:45:00</th>\n",
              "      <td>1.269036</td>\n",
              "      <td>21.337127</td>\n",
              "      <td>1.737619</td>\n",
              "      <td>166.666667</td>\n",
              "      <td>85.365854</td>\n",
              "      <td>285.714286</td>\n",
              "      <td>10.175240</td>\n",
              "      <td>225.589226</td>\n",
              "      <td>64.685315</td>\n",
              "      <td>72.043011</td>\n",
              "      <td>...</td>\n",
              "      <td>246.252677</td>\n",
              "      <td>28000.0</td>\n",
              "      <td>1443.037975</td>\n",
              "      <td>909.090909</td>\n",
              "      <td>26.075619</td>\n",
              "      <td>4.095963</td>\n",
              "      <td>664.618086</td>\n",
              "      <td>146.911519</td>\n",
              "      <td>646.627566</td>\n",
              "      <td>6540.540541</td>\n",
              "    </tr>\n",
              "    <tr>\n",
              "      <th>2015-01-01 00:00:00</th>\n",
              "      <td>2.538071</td>\n",
              "      <td>19.914651</td>\n",
              "      <td>1.737619</td>\n",
              "      <td>178.861789</td>\n",
              "      <td>84.146341</td>\n",
              "      <td>279.761905</td>\n",
              "      <td>10.175240</td>\n",
              "      <td>249.158249</td>\n",
              "      <td>62.937063</td>\n",
              "      <td>69.892473</td>\n",
              "      <td>...</td>\n",
              "      <td>188.436831</td>\n",
              "      <td>27800.0</td>\n",
              "      <td>1409.282700</td>\n",
              "      <td>954.545455</td>\n",
              "      <td>27.379400</td>\n",
              "      <td>4.095963</td>\n",
              "      <td>628.621598</td>\n",
              "      <td>131.886477</td>\n",
              "      <td>673.020528</td>\n",
              "      <td>7135.135135</td>\n",
              "    </tr>\n",
              "  </tbody>\n",
              "</table>\n",
              "<p>70080 rows × 349 columns</p>\n",
              "</div>\n",
              "      <button class=\"colab-df-convert\" onclick=\"convertToInteractive('df-ee7c7ee0-2527-4d86-858c-2e7dcf27f5f8')\"\n",
              "              title=\"Convert this dataframe to an interactive table.\"\n",
              "              style=\"display:none;\">\n",
              "        \n",
              "  <svg xmlns=\"http://www.w3.org/2000/svg\" height=\"24px\"viewBox=\"0 0 24 24\"\n",
              "       width=\"24px\">\n",
              "    <path d=\"M0 0h24v24H0V0z\" fill=\"none\"/>\n",
              "    <path d=\"M18.56 5.44l.94 2.06.94-2.06 2.06-.94-2.06-.94-.94-2.06-.94 2.06-2.06.94zm-11 1L8.5 8.5l.94-2.06 2.06-.94-2.06-.94L8.5 2.5l-.94 2.06-2.06.94zm10 10l.94 2.06.94-2.06 2.06-.94-2.06-.94-.94-2.06-.94 2.06-2.06.94z\"/><path d=\"M17.41 7.96l-1.37-1.37c-.4-.4-.92-.59-1.43-.59-.52 0-1.04.2-1.43.59L10.3 9.45l-7.72 7.72c-.78.78-.78 2.05 0 2.83L4 21.41c.39.39.9.59 1.41.59.51 0 1.02-.2 1.41-.59l7.78-7.78 2.81-2.81c.8-.78.8-2.07 0-2.86zM5.41 20L4 18.59l7.72-7.72 1.47 1.35L5.41 20z\"/>\n",
              "  </svg>\n",
              "      </button>\n",
              "      \n",
              "  <style>\n",
              "    .colab-df-container {\n",
              "      display:flex;\n",
              "      flex-wrap:wrap;\n",
              "      gap: 12px;\n",
              "    }\n",
              "\n",
              "    .colab-df-convert {\n",
              "      background-color: #E8F0FE;\n",
              "      border: none;\n",
              "      border-radius: 50%;\n",
              "      cursor: pointer;\n",
              "      display: none;\n",
              "      fill: #1967D2;\n",
              "      height: 32px;\n",
              "      padding: 0 0 0 0;\n",
              "      width: 32px;\n",
              "    }\n",
              "\n",
              "    .colab-df-convert:hover {\n",
              "      background-color: #E2EBFA;\n",
              "      box-shadow: 0px 1px 2px rgba(60, 64, 67, 0.3), 0px 1px 3px 1px rgba(60, 64, 67, 0.15);\n",
              "      fill: #174EA6;\n",
              "    }\n",
              "\n",
              "    [theme=dark] .colab-df-convert {\n",
              "      background-color: #3B4455;\n",
              "      fill: #D2E3FC;\n",
              "    }\n",
              "\n",
              "    [theme=dark] .colab-df-convert:hover {\n",
              "      background-color: #434B5C;\n",
              "      box-shadow: 0px 1px 3px 1px rgba(0, 0, 0, 0.15);\n",
              "      filter: drop-shadow(0px 1px 2px rgba(0, 0, 0, 0.3));\n",
              "      fill: #FFFFFF;\n",
              "    }\n",
              "  </style>\n",
              "\n",
              "      <script>\n",
              "        const buttonEl =\n",
              "          document.querySelector('#df-ee7c7ee0-2527-4d86-858c-2e7dcf27f5f8 button.colab-df-convert');\n",
              "        buttonEl.style.display =\n",
              "          google.colab.kernel.accessAllowed ? 'block' : 'none';\n",
              "\n",
              "        async function convertToInteractive(key) {\n",
              "          const element = document.querySelector('#df-ee7c7ee0-2527-4d86-858c-2e7dcf27f5f8');\n",
              "          const dataTable =\n",
              "            await google.colab.kernel.invokeFunction('convertToInteractive',\n",
              "                                                     [key], {});\n",
              "          if (!dataTable) return;\n",
              "\n",
              "          const docLinkHtml = 'Like what you see? Visit the ' +\n",
              "            '<a target=\"_blank\" href=https://colab.research.google.com/notebooks/data_table.ipynb>data table notebook</a>'\n",
              "            + ' to learn more about interactive tables.';\n",
              "          element.innerHTML = '';\n",
              "          dataTable['output_type'] = 'display_data';\n",
              "          await google.colab.output.renderOutput(dataTable, element);\n",
              "          const docLink = document.createElement('div');\n",
              "          docLink.innerHTML = docLinkHtml;\n",
              "          element.appendChild(docLink);\n",
              "        }\n",
              "      </script>\n",
              "    </div>\n",
              "  </div>\n",
              "  "
            ]
          },
          "metadata": {},
          "execution_count": 130
        }
      ]
    },
    {
      "cell_type": "markdown",
      "metadata": {
        "id": "u-Pw3ZfYeFtn"
      },
      "source": [
        "## Getting average curves per client"
      ]
    },
    {
      "cell_type": "code",
      "metadata": {
        "id": "dvsE97B3eFto"
      },
      "source": [
        "data = data_13_14.copy() # weekdays weekends, data2011, data2012, data2013, data2014"
      ],
      "execution_count": 131,
      "outputs": []
    },
    {
      "cell_type": "code",
      "metadata": {
        "id": "Xge2M5FGeFtq"
      },
      "source": [
        "data['hour'] = data.index.map(lambda x: x[11:])"
      ],
      "execution_count": 132,
      "outputs": []
    },
    {
      "cell_type": "code",
      "metadata": {
        "id": "IyJgCOkoeFts",
        "colab": {
          "base_uri": "https://localhost:8080/",
          "height": 341
        },
        "outputId": "b00724c3-95aa-4666-cf38-2315fa54b426"
      },
      "source": [
        "data.head(3)"
      ],
      "execution_count": 133,
      "outputs": [
        {
          "output_type": "execute_result",
          "data": {
            "text/plain": [
              "                       MT_001     MT_002    MT_003      MT_004     MT_005  \\\n",
              "2013-01-01 00:15:00  2.538071  22.759602  2.606429  138.211382  63.414634   \n",
              "2013-01-01 00:30:00  1.269036  22.759602  2.606429  138.211382  63.414634   \n",
              "2013-01-01 00:45:00  2.538071  22.759602  2.606429  134.146341  60.975610   \n",
              "\n",
              "                         MT_006    MT_007      MT_008     MT_009     MT_010  \\\n",
              "2013-01-01 00:15:00  255.952381  4.522329  239.057239  57.692308  78.494624   \n",
              "2013-01-01 00:30:00  264.880952  5.652911  228.956229  57.692308  76.344086   \n",
              "2013-01-01 00:45:00  250.000000  5.652911  239.057239  54.195804  76.344086   \n",
              "\n",
              "                     ...   MT_362      MT_363       MT_364     MT_365  \\\n",
              "2013-01-01 00:15:00  ...  22300.0  886.075949  1000.000000  16.949153   \n",
              "2013-01-01 00:30:00  ...  21000.0  864.978903   909.090909  18.252934   \n",
              "2013-01-01 00:45:00  ...  18200.0  860.759494   840.909091  16.949153   \n",
              "\n",
              "                       MT_366      MT_367     MT_368      MT_369       MT_370  \\\n",
              "2013-01-01 00:15:00  6.436513  616.330114  76.794658  731.671554  8086.486486   \n",
              "2013-01-01 00:30:00  3.510825  564.530290  76.794658  727.272727  8086.486486   \n",
              "2013-01-01 00:45:00  5.851375  590.869183  68.447412  730.205279  7848.648649   \n",
              "\n",
              "                         hour  \n",
              "2013-01-01 00:15:00  00:15:00  \n",
              "2013-01-01 00:30:00  00:30:00  \n",
              "2013-01-01 00:45:00  00:45:00  \n",
              "\n",
              "[3 rows x 350 columns]"
            ],
            "text/html": [
              "\n",
              "  <div id=\"df-dc24a77f-022d-4874-803e-c69c227e475b\">\n",
              "    <div class=\"colab-df-container\">\n",
              "      <div>\n",
              "<style scoped>\n",
              "    .dataframe tbody tr th:only-of-type {\n",
              "        vertical-align: middle;\n",
              "    }\n",
              "\n",
              "    .dataframe tbody tr th {\n",
              "        vertical-align: top;\n",
              "    }\n",
              "\n",
              "    .dataframe thead th {\n",
              "        text-align: right;\n",
              "    }\n",
              "</style>\n",
              "<table border=\"1\" class=\"dataframe\">\n",
              "  <thead>\n",
              "    <tr style=\"text-align: right;\">\n",
              "      <th></th>\n",
              "      <th>MT_001</th>\n",
              "      <th>MT_002</th>\n",
              "      <th>MT_003</th>\n",
              "      <th>MT_004</th>\n",
              "      <th>MT_005</th>\n",
              "      <th>MT_006</th>\n",
              "      <th>MT_007</th>\n",
              "      <th>MT_008</th>\n",
              "      <th>MT_009</th>\n",
              "      <th>MT_010</th>\n",
              "      <th>...</th>\n",
              "      <th>MT_362</th>\n",
              "      <th>MT_363</th>\n",
              "      <th>MT_364</th>\n",
              "      <th>MT_365</th>\n",
              "      <th>MT_366</th>\n",
              "      <th>MT_367</th>\n",
              "      <th>MT_368</th>\n",
              "      <th>MT_369</th>\n",
              "      <th>MT_370</th>\n",
              "      <th>hour</th>\n",
              "    </tr>\n",
              "  </thead>\n",
              "  <tbody>\n",
              "    <tr>\n",
              "      <th>2013-01-01 00:15:00</th>\n",
              "      <td>2.538071</td>\n",
              "      <td>22.759602</td>\n",
              "      <td>2.606429</td>\n",
              "      <td>138.211382</td>\n",
              "      <td>63.414634</td>\n",
              "      <td>255.952381</td>\n",
              "      <td>4.522329</td>\n",
              "      <td>239.057239</td>\n",
              "      <td>57.692308</td>\n",
              "      <td>78.494624</td>\n",
              "      <td>...</td>\n",
              "      <td>22300.0</td>\n",
              "      <td>886.075949</td>\n",
              "      <td>1000.000000</td>\n",
              "      <td>16.949153</td>\n",
              "      <td>6.436513</td>\n",
              "      <td>616.330114</td>\n",
              "      <td>76.794658</td>\n",
              "      <td>731.671554</td>\n",
              "      <td>8086.486486</td>\n",
              "      <td>00:15:00</td>\n",
              "    </tr>\n",
              "    <tr>\n",
              "      <th>2013-01-01 00:30:00</th>\n",
              "      <td>1.269036</td>\n",
              "      <td>22.759602</td>\n",
              "      <td>2.606429</td>\n",
              "      <td>138.211382</td>\n",
              "      <td>63.414634</td>\n",
              "      <td>264.880952</td>\n",
              "      <td>5.652911</td>\n",
              "      <td>228.956229</td>\n",
              "      <td>57.692308</td>\n",
              "      <td>76.344086</td>\n",
              "      <td>...</td>\n",
              "      <td>21000.0</td>\n",
              "      <td>864.978903</td>\n",
              "      <td>909.090909</td>\n",
              "      <td>18.252934</td>\n",
              "      <td>3.510825</td>\n",
              "      <td>564.530290</td>\n",
              "      <td>76.794658</td>\n",
              "      <td>727.272727</td>\n",
              "      <td>8086.486486</td>\n",
              "      <td>00:30:00</td>\n",
              "    </tr>\n",
              "    <tr>\n",
              "      <th>2013-01-01 00:45:00</th>\n",
              "      <td>2.538071</td>\n",
              "      <td>22.759602</td>\n",
              "      <td>2.606429</td>\n",
              "      <td>134.146341</td>\n",
              "      <td>60.975610</td>\n",
              "      <td>250.000000</td>\n",
              "      <td>5.652911</td>\n",
              "      <td>239.057239</td>\n",
              "      <td>54.195804</td>\n",
              "      <td>76.344086</td>\n",
              "      <td>...</td>\n",
              "      <td>18200.0</td>\n",
              "      <td>860.759494</td>\n",
              "      <td>840.909091</td>\n",
              "      <td>16.949153</td>\n",
              "      <td>5.851375</td>\n",
              "      <td>590.869183</td>\n",
              "      <td>68.447412</td>\n",
              "      <td>730.205279</td>\n",
              "      <td>7848.648649</td>\n",
              "      <td>00:45:00</td>\n",
              "    </tr>\n",
              "  </tbody>\n",
              "</table>\n",
              "<p>3 rows × 350 columns</p>\n",
              "</div>\n",
              "      <button class=\"colab-df-convert\" onclick=\"convertToInteractive('df-dc24a77f-022d-4874-803e-c69c227e475b')\"\n",
              "              title=\"Convert this dataframe to an interactive table.\"\n",
              "              style=\"display:none;\">\n",
              "        \n",
              "  <svg xmlns=\"http://www.w3.org/2000/svg\" height=\"24px\"viewBox=\"0 0 24 24\"\n",
              "       width=\"24px\">\n",
              "    <path d=\"M0 0h24v24H0V0z\" fill=\"none\"/>\n",
              "    <path d=\"M18.56 5.44l.94 2.06.94-2.06 2.06-.94-2.06-.94-.94-2.06-.94 2.06-2.06.94zm-11 1L8.5 8.5l.94-2.06 2.06-.94-2.06-.94L8.5 2.5l-.94 2.06-2.06.94zm10 10l.94 2.06.94-2.06 2.06-.94-2.06-.94-.94-2.06-.94 2.06-2.06.94z\"/><path d=\"M17.41 7.96l-1.37-1.37c-.4-.4-.92-.59-1.43-.59-.52 0-1.04.2-1.43.59L10.3 9.45l-7.72 7.72c-.78.78-.78 2.05 0 2.83L4 21.41c.39.39.9.59 1.41.59.51 0 1.02-.2 1.41-.59l7.78-7.78 2.81-2.81c.8-.78.8-2.07 0-2.86zM5.41 20L4 18.59l7.72-7.72 1.47 1.35L5.41 20z\"/>\n",
              "  </svg>\n",
              "      </button>\n",
              "      \n",
              "  <style>\n",
              "    .colab-df-container {\n",
              "      display:flex;\n",
              "      flex-wrap:wrap;\n",
              "      gap: 12px;\n",
              "    }\n",
              "\n",
              "    .colab-df-convert {\n",
              "      background-color: #E8F0FE;\n",
              "      border: none;\n",
              "      border-radius: 50%;\n",
              "      cursor: pointer;\n",
              "      display: none;\n",
              "      fill: #1967D2;\n",
              "      height: 32px;\n",
              "      padding: 0 0 0 0;\n",
              "      width: 32px;\n",
              "    }\n",
              "\n",
              "    .colab-df-convert:hover {\n",
              "      background-color: #E2EBFA;\n",
              "      box-shadow: 0px 1px 2px rgba(60, 64, 67, 0.3), 0px 1px 3px 1px rgba(60, 64, 67, 0.15);\n",
              "      fill: #174EA6;\n",
              "    }\n",
              "\n",
              "    [theme=dark] .colab-df-convert {\n",
              "      background-color: #3B4455;\n",
              "      fill: #D2E3FC;\n",
              "    }\n",
              "\n",
              "    [theme=dark] .colab-df-convert:hover {\n",
              "      background-color: #434B5C;\n",
              "      box-shadow: 0px 1px 3px 1px rgba(0, 0, 0, 0.15);\n",
              "      filter: drop-shadow(0px 1px 2px rgba(0, 0, 0, 0.3));\n",
              "      fill: #FFFFFF;\n",
              "    }\n",
              "  </style>\n",
              "\n",
              "      <script>\n",
              "        const buttonEl =\n",
              "          document.querySelector('#df-dc24a77f-022d-4874-803e-c69c227e475b button.colab-df-convert');\n",
              "        buttonEl.style.display =\n",
              "          google.colab.kernel.accessAllowed ? 'block' : 'none';\n",
              "\n",
              "        async function convertToInteractive(key) {\n",
              "          const element = document.querySelector('#df-dc24a77f-022d-4874-803e-c69c227e475b');\n",
              "          const dataTable =\n",
              "            await google.colab.kernel.invokeFunction('convertToInteractive',\n",
              "                                                     [key], {});\n",
              "          if (!dataTable) return;\n",
              "\n",
              "          const docLinkHtml = 'Like what you see? Visit the ' +\n",
              "            '<a target=\"_blank\" href=https://colab.research.google.com/notebooks/data_table.ipynb>data table notebook</a>'\n",
              "            + ' to learn more about interactive tables.';\n",
              "          element.innerHTML = '';\n",
              "          dataTable['output_type'] = 'display_data';\n",
              "          await google.colab.output.renderOutput(dataTable, element);\n",
              "          const docLink = document.createElement('div');\n",
              "          docLink.innerHTML = docLinkHtml;\n",
              "          element.appendChild(docLink);\n",
              "        }\n",
              "      </script>\n",
              "    </div>\n",
              "  </div>\n",
              "  "
            ]
          },
          "metadata": {},
          "execution_count": 133
        }
      ]
    },
    {
      "cell_type": "markdown",
      "metadata": {
        "id": "-iMNh_XJeFtu"
      },
      "source": [
        "### Getting average curves per client"
      ]
    },
    {
      "cell_type": "code",
      "metadata": {
        "id": "Ta0Pv4UueFtv",
        "colab": {
          "base_uri": "https://localhost:8080/"
        },
        "outputId": "86c760eb-380b-415f-ffb1-6519b3f73e39"
      },
      "source": [
        "datagrouped = data.groupby(\"hour\")\n",
        "average_curves = datagrouped.agg(\"mean\")\n",
        "average_curves.shape "
      ],
      "execution_count": 134,
      "outputs": [
        {
          "output_type": "execute_result",
          "data": {
            "text/plain": [
              "(96, 349)"
            ]
          },
          "metadata": {},
          "execution_count": 134
        }
      ]
    },
    {
      "cell_type": "markdown",
      "metadata": {
        "id": "9-UI2QT3eFtz"
      },
      "source": [
        "#### The dataframe average_curves contains the 349 typical weekday electric demands\n",
        "\n",
        "#### We now divide each curve by its mean, so that all curves have mean 1"
      ]
    },
    {
      "cell_type": "code",
      "metadata": {
        "id": "pedcHflceFt0"
      },
      "source": [
        "average_curves_norm = average_curves/(average_curves.mean())"
      ],
      "execution_count": 135,
      "outputs": []
    },
    {
      "cell_type": "markdown",
      "metadata": {
        "id": "Q4TAlxigeFt2"
      },
      "source": [
        "#### Plot the first 2 and last 2 clients"
      ]
    },
    {
      "cell_type": "code",
      "metadata": {
        "id": "jYVLs9z9eFt2",
        "colab": {
          "base_uri": "https://localhost:8080/",
          "height": 279
        },
        "outputId": "edc9b90c-8a51-4189-92aa-a5994f68000f"
      },
      "source": [
        "average_curves_norm[['MT_001','MT_002','MT_369','MT_370']].plot()\n",
        "plt.show()"
      ],
      "execution_count": 136,
      "outputs": [
        {
          "output_type": "display_data",
          "data": {
            "text/plain": [
              "<Figure size 432x288 with 1 Axes>"
            ],
            "image/png": "[encoded data removed]"
          },
          "metadata": {
            "needs_background": "light"
          }
        }
      ]
    },
    {
      "cell_type": "markdown",
      "metadata": {
        "id": "_Wtuy8SYeFt8"
      },
      "source": [
        "## Exercise 1:\n",
        "\n",
        "a. Using the functions described in Module 3, determine what is the optimal number of clusters based on _intertia_ and based on _silhouette_. Justify your choice\n",
        "\n",
        "b. Make a plot for each cluster, that includes:\n",
        "    - The number of clients in the cluster (you can put this in the title of the plot)\n",
        "    - All the curves in the cluster\n",
        "    - The curve corresponding to the centroid of the cluster (make this curve thicker to distinguish it from the individual curves)\n",
        "    \n",
        "You can do 2 separate plots for each cluster if you prefer (one for the individual curves, one for the centroid)"
      ]
    },
    {
      "cell_type": "code",
      "metadata": {
        "id": "aCeIaArFJUnR"
      },
      "source": [
        "#function for calculating inertia\n",
        "def getInertia(X,kmeans):\n",
        "    ''' This function returns the exact same value as the attribute inertia_ of kmeans'''\n",
        "    inertia = 0\n",
        "    for J in range(len(X)):\n",
        "        inertia = inertia + np.linalg.norm(X[J] - kmeans.cluster_centers_[kmeans.labels_[J]])**2\n",
        "    return inertia"
      ],
      "execution_count": 137,
      "outputs": []
    },
    {
      "cell_type": "code",
      "source": [
        "X=data\n",
        "getInertia(X,1)"
      ],
      "metadata": {
        "colab": {
          "base_uri": "https://localhost:8080/",
          "height": 523
        },
        "id": "bBcmzFJhqY1N",
        "outputId": "d8caa3ef-d8a1-4ef2-f296-bc22ec3a0dfe"
      },
      "execution_count": 150,
      "outputs": [
        {
          "output_type": "error",
          "ename": "KeyError",
          "evalue": "ignored",
          "traceback": [
            "\u001b[0;31m---------------------------------------------------------------------------\u001b[0m",
            "\u001b[0;31mKeyError\u001b[0m                                  Traceback (most recent call last)",
            "\u001b[0;32m/usr/local/lib/python3.8/dist-packages/pandas/core/indexes/base.py\u001b[0m in \u001b[0;36mget_loc\u001b[0;34m(self, key, method, tolerance)\u001b[0m\n\u001b[1;32m   3360\u001b[0m             \u001b[0;32mtry\u001b[0m\u001b[0;34m:\u001b[0m\u001b[0;34m\u001b[0m\u001b[0;34m\u001b[0m\u001b[0m\n\u001b[0;32m-> 3361\u001b[0;31m                 \u001b[0;32mreturn\u001b[0m \u001b[0mself\u001b[0m\u001b[0;34m.\u001b[0m\u001b[0m_engine\u001b[0m\u001b[0;34m.\u001b[0m\u001b[0mget_loc\u001b[0m\u001b[0;34m(\u001b[0m\u001b[0mcasted_key\u001b[0m\u001b[0;34m)\u001b[0m\u001b[0;34m\u001b[0m\u001b[0;34m\u001b[0m\u001b[0m\n\u001b[0m\u001b[1;32m   3362\u001b[0m             \u001b[0;32mexcept\u001b[0m \u001b[0mKeyError\u001b[0m \u001b[0;32mas\u001b[0m \u001b[0merr\u001b[0m\u001b[0;34m:\u001b[0m\u001b[0;34m\u001b[0m\u001b[0;34m\u001b[0m\u001b[0m\n",
            "\u001b[0;32m/usr/local/lib/python3.8/dist-packages/pandas/_libs/index.pyx\u001b[0m in \u001b[0;36mpandas._libs.index.IndexEngine.get_loc\u001b[0;34m()\u001b[0m\n",
            "\u001b[0;32m/usr/local/lib/python3.8/dist-packages/pandas/_libs/index.pyx\u001b[0m in \u001b[0;36mpandas._libs.index.IndexEngine.get_loc\u001b[0;34m()\u001b[0m\n",
            "\u001b[0;32mpandas/_libs/hashtable_class_helper.pxi\u001b[0m in \u001b[0;36mpandas._libs.hashtable.PyObjectHashTable.get_item\u001b[0;34m()\u001b[0m\n",
            "\u001b[0;32mpandas/_libs/hashtable_class_helper.pxi\u001b[0m in \u001b[0;36mpandas._libs.hashtable.PyObjectHashTable.get_item\u001b[0;34m()\u001b[0m\n",
            "\u001b[0;31mKeyError\u001b[0m: 0",
            "\nThe above exception was the direct cause of the following exception:\n",
            "\u001b[0;31mKeyError\u001b[0m                                  Traceback (most recent call last)",
            "\u001b[0;32m<ipython-input-150-22063419b741>\u001b[0m in \u001b[0;36m<module>\u001b[0;34m\u001b[0m\n\u001b[1;32m      1\u001b[0m \u001b[0mX\u001b[0m\u001b[0;34m=\u001b[0m\u001b[0mdata\u001b[0m\u001b[0;34m\u001b[0m\u001b[0;34m\u001b[0m\u001b[0m\n\u001b[0;32m----> 2\u001b[0;31m \u001b[0mgetInertia\u001b[0m\u001b[0;34m(\u001b[0m\u001b[0mX\u001b[0m\u001b[0;34m,\u001b[0m\u001b[0;36m1\u001b[0m\u001b[0;34m)\u001b[0m\u001b[0;34m\u001b[0m\u001b[0;34m\u001b[0m\u001b[0m\n\u001b[0m",
            "\u001b[0;32m<ipython-input-137-0cd0cc43a3d3>\u001b[0m in \u001b[0;36mgetInertia\u001b[0;34m(X, kmeans)\u001b[0m\n\u001b[1;32m      4\u001b[0m     \u001b[0minertia\u001b[0m \u001b[0;34m=\u001b[0m \u001b[0;36m0\u001b[0m\u001b[0;34m\u001b[0m\u001b[0;34m\u001b[0m\u001b[0m\n\u001b[1;32m      5\u001b[0m     \u001b[0;32mfor\u001b[0m \u001b[0mJ\u001b[0m \u001b[0;32min\u001b[0m \u001b[0mrange\u001b[0m\u001b[0;34m(\u001b[0m\u001b[0mlen\u001b[0m\u001b[0;34m(\u001b[0m\u001b[0mX\u001b[0m\u001b[0;34m)\u001b[0m\u001b[0;34m)\u001b[0m\u001b[0;34m:\u001b[0m\u001b[0;34m\u001b[0m\u001b[0;34m\u001b[0m\u001b[0m\n\u001b[0;32m----> 6\u001b[0;31m         \u001b[0minertia\u001b[0m \u001b[0;34m=\u001b[0m \u001b[0minertia\u001b[0m \u001b[0;34m+\u001b[0m \u001b[0mnp\u001b[0m\u001b[0;34m.\u001b[0m\u001b[0mlinalg\u001b[0m\u001b[0;34m.\u001b[0m\u001b[0mnorm\u001b[0m\u001b[0;34m(\u001b[0m\u001b[0mX\u001b[0m\u001b[0;34m[\u001b[0m\u001b[0mJ\u001b[0m\u001b[0;34m]\u001b[0m \u001b[0;34m-\u001b[0m \u001b[0mkmeans\u001b[0m\u001b[0;34m.\u001b[0m\u001b[0mcluster_centers_\u001b[0m\u001b[0;34m[\u001b[0m\u001b[0mkmeans\u001b[0m\u001b[0;34m.\u001b[0m\u001b[0mlabels_\u001b[0m\u001b[0;34m[\u001b[0m\u001b[0mJ\u001b[0m\u001b[0;34m]\u001b[0m\u001b[0;34m]\u001b[0m\u001b[0;34m)\u001b[0m\u001b[0;34m**\u001b[0m\u001b[0;36m2\u001b[0m\u001b[0;34m\u001b[0m\u001b[0;34m\u001b[0m\u001b[0m\n\u001b[0m\u001b[1;32m      7\u001b[0m     \u001b[0;32mreturn\u001b[0m \u001b[0minertia\u001b[0m\u001b[0;34m\u001b[0m\u001b[0;34m\u001b[0m\u001b[0m\n",
            "\u001b[0;32m/usr/local/lib/python3.8/dist-packages/pandas/core/frame.py\u001b[0m in \u001b[0;36m__getitem__\u001b[0;34m(self, key)\u001b[0m\n\u001b[1;32m   3456\u001b[0m             \u001b[0;32mif\u001b[0m \u001b[0mself\u001b[0m\u001b[0;34m.\u001b[0m\u001b[0mcolumns\u001b[0m\u001b[0;34m.\u001b[0m\u001b[0mnlevels\u001b[0m \u001b[0;34m>\u001b[0m \u001b[0;36m1\u001b[0m\u001b[0;34m:\u001b[0m\u001b[0;34m\u001b[0m\u001b[0;34m\u001b[0m\u001b[0m\n\u001b[1;32m   3457\u001b[0m                 \u001b[0;32mreturn\u001b[0m \u001b[0mself\u001b[0m\u001b[0;34m.\u001b[0m\u001b[0m_getitem_multilevel\u001b[0m\u001b[0;34m(\u001b[0m\u001b[0mkey\u001b[0m\u001b[0;34m)\u001b[0m\u001b[0;34m\u001b[0m\u001b[0;34m\u001b[0m\u001b[0m\n\u001b[0;32m-> 3458\u001b[0;31m             \u001b[0mindexer\u001b[0m \u001b[0;34m=\u001b[0m \u001b[0mself\u001b[0m\u001b[0;34m.\u001b[0m\u001b[0mcolumns\u001b[0m\u001b[0;34m.\u001b[0m\u001b[0mget_loc\u001b[0m\u001b[0;34m(\u001b[0m\u001b[0mkey\u001b[0m\u001b[0;34m)\u001b[0m\u001b[0;34m\u001b[0m\u001b[0;34m\u001b[0m\u001b[0m\n\u001b[0m\u001b[1;32m   3459\u001b[0m             \u001b[0;32mif\u001b[0m \u001b[0mis_integer\u001b[0m\u001b[0;34m(\u001b[0m\u001b[0mindexer\u001b[0m\u001b[0;34m)\u001b[0m\u001b[0;34m:\u001b[0m\u001b[0;34m\u001b[0m\u001b[0;34m\u001b[0m\u001b[0m\n\u001b[1;32m   3460\u001b[0m                 \u001b[0mindexer\u001b[0m \u001b[0;34m=\u001b[0m \u001b[0;34m[\u001b[0m\u001b[0mindexer\u001b[0m\u001b[0;34m]\u001b[0m\u001b[0;34m\u001b[0m\u001b[0;34m\u001b[0m\u001b[0m\n",
            "\u001b[0;32m/usr/local/lib/python3.8/dist-packages/pandas/core/indexes/base.py\u001b[0m in \u001b[0;36mget_loc\u001b[0;34m(self, key, method, tolerance)\u001b[0m\n\u001b[1;32m   3361\u001b[0m                 \u001b[0;32mreturn\u001b[0m \u001b[0mself\u001b[0m\u001b[0;34m.\u001b[0m\u001b[0m_engine\u001b[0m\u001b[0;34m.\u001b[0m\u001b[0mget_loc\u001b[0m\u001b[0;34m(\u001b[0m\u001b[0mcasted_key\u001b[0m\u001b[0;34m)\u001b[0m\u001b[0;34m\u001b[0m\u001b[0;34m\u001b[0m\u001b[0m\n\u001b[1;32m   3362\u001b[0m             \u001b[0;32mexcept\u001b[0m \u001b[0mKeyError\u001b[0m \u001b[0;32mas\u001b[0m \u001b[0merr\u001b[0m\u001b[0;34m:\u001b[0m\u001b[0;34m\u001b[0m\u001b[0;34m\u001b[0m\u001b[0m\n\u001b[0;32m-> 3363\u001b[0;31m                 \u001b[0;32mraise\u001b[0m \u001b[0mKeyError\u001b[0m\u001b[0;34m(\u001b[0m\u001b[0mkey\u001b[0m\u001b[0;34m)\u001b[0m \u001b[0;32mfrom\u001b[0m \u001b[0merr\u001b[0m\u001b[0;34m\u001b[0m\u001b[0;34m\u001b[0m\u001b[0m\n\u001b[0m\u001b[1;32m   3364\u001b[0m \u001b[0;34m\u001b[0m\u001b[0m\n\u001b[1;32m   3365\u001b[0m         \u001b[0;32mif\u001b[0m \u001b[0mis_scalar\u001b[0m\u001b[0;34m(\u001b[0m\u001b[0mkey\u001b[0m\u001b[0;34m)\u001b[0m \u001b[0;32mand\u001b[0m \u001b[0misna\u001b[0m\u001b[0;34m(\u001b[0m\u001b[0mkey\u001b[0m\u001b[0;34m)\u001b[0m \u001b[0;32mand\u001b[0m \u001b[0;32mnot\u001b[0m \u001b[0mself\u001b[0m\u001b[0;34m.\u001b[0m\u001b[0mhasnans\u001b[0m\u001b[0;34m:\u001b[0m\u001b[0;34m\u001b[0m\u001b[0;34m\u001b[0m\u001b[0m\n",
            "\u001b[0;31mKeyError\u001b[0m: 0"
          ]
        }
      ]
    },
    {
      "cell_type": "markdown",
      "metadata": {
        "id": "ozCK5tLiMD9h"
      },
      "source": [
        "Clustering Analysis on the average normizalied curves"
      ]
    },
    {
      "cell_type": "code",
      "metadata": {
        "id": "BxuYK6tGMD9i"
      },
      "source": [
        "X = average_curves_norm.copy()\n",
        "X = np.array(X.T) # put it on the right format"
      ],
      "execution_count": 138,
      "outputs": []
    },
    {
      "cell_type": "code",
      "metadata": {
        "id": "59xcTJSSJUnW"
      },
      "source": [
        "#try different K values for clustering and find the optimal K\n",
        "inertias_1 = []\n",
        "silhouette_avgs = []\n",
        "max_K = 15\n",
        "for k in np.arange(1,max_K+1):\n",
        "    kmeans = KMeans(n_clusters=k, random_state=0).fit(X)    \n",
        "    inertias_1 = inertias_1 + [kmeans.inertia_]\n",
        "    if k>1:\n",
        "        silhouette_avgs = silhouette_avgs + [silhouette_score(X, kmeans.labels_)]"
      ],
      "execution_count": 139,
      "outputs": []
    },
    {
      "cell_type": "code",
      "metadata": {
        "id": "0dfJSVPKMB0-",
        "colab": {
          "base_uri": "https://localhost:8080/"
        },
        "outputId": "fd8f01aa-7f17-4191-f709-7a9b098f7632"
      },
      "source": [
        "getInertia(X,kmeans)"
      ],
      "execution_count": 148,
      "outputs": [
        {
          "output_type": "execute_result",
          "data": {
            "text/plain": [
              "1202736.9602412528"
            ]
          },
          "metadata": {},
          "execution_count": 148
        }
      ]
    },
    {
      "cell_type": "code",
      "metadata": {
        "id": "dcib9gxnMBy0"
      },
      "source": [],
      "execution_count": 140,
      "outputs": []
    },
    {
      "cell_type": "code",
      "metadata": {
        "id": "m-WoUU2AMBwS"
      },
      "source": [],
      "execution_count": 140,
      "outputs": []
    },
    {
      "cell_type": "code",
      "metadata": {
        "id": "2q5rBG0kMBts"
      },
      "source": [],
      "execution_count": 140,
      "outputs": []
    },
    {
      "cell_type": "markdown",
      "metadata": {
        "id": "y4szukndeFt9"
      },
      "source": [
        "## Exercises 2\n",
        "\n",
        "In this exercise you work with the daily curves of 1 single client.\n",
        "\n",
        "First you create a list of arrays, each array containing a normalized curve for a day. The list contains 730 arrays, one for each of the days of 2013 and 2014.\n",
        "\n",
        "a. Determine the optimal value for k-means. \n",
        "\n",
        "b. What are the clusters that you obtained represent?"
      ]
    },
    {
      "cell_type": "code",
      "metadata": {
        "id": "xuV6O2-leFt-"
      },
      "source": [
        "client = 'MT_022'\n",
        "oneClient = data_13_14[client]\n",
        "X = [] # a list of arrays, each array being a normalized curve for a day\n",
        "for J in range(2*365):\n",
        "    X.extend([np.array(oneClient[J*96:(J+1)*96])])#/np.mean(oneClient[J*96:(J+1)*96])]) "
      ],
      "execution_count": 141,
      "outputs": []
    },
    {
      "cell_type": "markdown",
      "metadata": {
        "id": "EyXcYKJWeFuA"
      },
      "source": [
        "#### The following cell generates a list of all the days in the two years 2013-2014, which is helpful to answer part (b)"
      ]
    },
    {
      "cell_type": "code",
      "metadata": {
        "id": "ZKxlgTXReFuB"
      },
      "source": [
        "from datetime import date, timedelta\n",
        "\n",
        "d1 = date(2013, 1, 1)  # start date\n",
        "d2 = date(2014, 12, 31)  # end date\n",
        "delta = d2 - d1         # timedelta\n",
        "daysyear = []\n",
        "D = {0:'mon', 1:'tue', 2:'wed', 3:'thu', 4:'fri', 5:'sat', 6:'sun'}\n",
        "for i in range(delta.days + 1):\n",
        "    daysyear.extend([D[(d1 + timedelta(days=i)).weekday()]+\"-\"+str(d1 + timedelta(days=i))])"
      ],
      "execution_count": 142,
      "outputs": []
    },
    {
      "cell_type": "markdown",
      "metadata": {
        "id": "K5a13p1geFuE"
      },
      "source": [
        "#### The following cell shows you how to do the following: given a list L, and a list of booleans B (True, False), get the sublist of L that corresponds to the True values in B. For example if L=[1,2,3,4] and B=[False,True,True,False], then the results is [2,3]. This is also helpful for pard (b)"
      ]
    },
    {
      "cell_type": "code",
      "metadata": {
        "id": "CXloX8I8eFuF",
        "colab": {
          "base_uri": "https://localhost:8080/"
        },
        "outputId": "225a317b-b38a-41a2-a0c9-0613c7410f17"
      },
      "source": [
        "from itertools import compress\n",
        "L = [1,2,3,4]\n",
        "B = [False, True, True, False]\n",
        "list(compress(L, B))"
      ],
      "execution_count": 143,
      "outputs": [
        {
          "output_type": "execute_result",
          "data": {
            "text/plain": [
              "[2, 3]"
            ]
          },
          "metadata": {},
          "execution_count": 143
        }
      ]
    },
    {
      "cell_type": "code",
      "metadata": {
        "id": "mLpMvp-w8-99"
      },
      "source": [
        "#try different K values for clustering and find the optimal K\n",
        "inertias_1 = []\n",
        "silhouette_avgs = []\n",
        "max_K = 15\n",
        "for k in np.arange(1,max_K+1):\n",
        "    kmeans = KMeans(n_clusters=k, random_state=0).fit(X)    \n",
        "    inertias_1 = inertias_1 + [kmeans.inertia_]\n",
        "    if k>1:\n",
        "        silhouette_avgs = silhouette_avgs + [silhouette_score(X, kmeans.labels_)]"
      ],
      "execution_count": 144,
      "outputs": []
    },
    {
      "cell_type": "code",
      "metadata": {
        "id": "G38hXEogMLF5"
      },
      "source": [],
      "execution_count": 144,
      "outputs": []
    },
    {
      "cell_type": "code",
      "metadata": {
        "id": "hwigPuuVMLDG"
      },
      "source": [],
      "execution_count": 144,
      "outputs": []
    },
    {
      "cell_type": "code",
      "metadata": {
        "id": "RLllEFQKMLAi"
      },
      "source": [],
      "execution_count": 144,
      "outputs": []
    },
    {
      "cell_type": "code",
      "metadata": {
        "id": "BuxJkUYj9DYk"
      },
      "source": [],
      "execution_count": 144,
      "outputs": []
    }
  ]
}