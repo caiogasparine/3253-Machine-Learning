{
  "nbformat": 4,
  "nbformat_minor": 0,
  "metadata": {
    "colab": {
      "provenance": [],
      "include_colab_link": true
    },
    "kernelspec": {
      "name": "python3",
      "display_name": "Python 3"
    },
    "accelerator": "TPU",
    "gpuClass": "standard"
  },
  "cells": [
    {
      "cell_type": "markdown",
      "metadata": {
        "id": "view-in-github",
        "colab_type": "text"
      },
      "source": [
        "<a href=\"https://colab.research.google.com/github/caiogasparine/3253-Machine-Learning/blob/main/Caio_W4_Clustering_Assignment_GoogleColab_TPU_V2_0.ipynb\" target=\"_parent\"><img src=\"https://colab.research.google.com/assets/colab-badge.svg\" alt=\"Open In Colab\"/></a>"
      ]
    },
    {
      "cell_type": "markdown",
      "metadata": {
        "id": "9FccDrj3eFs5"
      },
      "source": [
        "# Important Notes:\n",
        "\n",
        "---\n",
        "1- Due to file size, you are unable to run this notebook using default runtime setting. You need to switch to TPU or GPU to be able to import data.  Learn more about TPU (Tensorflow Processing Unit) or GPU  [here](https://en.wikipedia.org/wiki/Tensor_processing_unit)  and  [here](https://en.wikipedia.org/wiki/Graphics_processing_unit) respectively. You can see the benfit of TPU [here](https://cloud.google.com/tpu/))\n",
        "\n",
        "# Follow below steps to change your default runtime:\n",
        "* From menu bar, open \"Runtime\"\n",
        "* Navigate to \"Change Runtime Type\"\n",
        "\n",
        "[See this screenshot](https://drive.google.com/open?id=1up4zIBrXk6P0eNcQIZ5MxygN6A8TWB0s)\n",
        "* And change your \"Hardware Accelerator\" to \"TPU\" or \"GPU\"\n",
        "* Hit \"Save\"\n",
        "\n",
        "\n",
        "---\n",
        "\n",
        "\n",
        "2- Do not make direct changes into this file. Create your own file. How? Follow below instructions\n",
        "\n",
        "**Instructios to create your copy**\n",
        "\n",
        "*   From this Notebook, go to **\"File\"**  menu\n",
        "*   select \"**Save a copy in Drive**\". \n",
        "*   Find the file in your \"**Colab Notebook**\" folders in your Google Drive root\n",
        "*   Create a copy for yourself by right clicking on the file name and selecting \"**Make a COPY**\"\n",
        "*   Rename it by replacing your last name and UTORid and move the notebook if you need. Develop the code. \n",
        "*   Once you finish the code, get shareable URL (use this  [Guide ](https://support.google.com/drive/answer/2494822?co=GENIE.Platform%3DDesktop&hl=en)  from Google if you need for your notebook and submit it as part of your assignment submission.\n",
        "\n",
        "Make sure I have Edit access to your notebook when sharing so I can leave remarks if needed.\n",
        "\n",
        "Once complete this notebook, respond to the questions in the Quiz section"
      ]
    },
    {
      "cell_type": "markdown",
      "metadata": {
        "id": "RSr7h-pNeFs6"
      },
      "source": [
        "# Assignment for Module 4: Clustering\n",
        "\n",
        "## Description\n",
        "\n",
        "In this assignment you will study the electric demand (power) of clients in Portugal, during 2013 and 2014.\n",
        "\n",
        "The data$^1$ available contains 370 time series, corresponding to the electric demand$^2$ for 370 clients, between 2011 and 2014. \n",
        "\n",
        "In this guided exercise you will use clustering techniques to understand the typical behaviour during 2013-2014.\n",
        "\n",
        "#### 1. Data:\n",
        "https://archive.ics.uci.edu/ml/datasets/ElectricityLoadDiagrams20112014#\n"
      ]
    },
    {
      "cell_type": "markdown",
      "metadata": {
        "id": "y31sswSReFs7"
      },
      "source": [
        "## Data Preparation\n",
        "\n",
        "Start by downloading the data to a local directory and modify the \"pathToFile\" and \"fileName\" variables, if needed\n",
        "\n",
        "### Import CSV into Google Colab.\n",
        "If you do not remember how, you can refer to this document"
      ]
    },
    {
      "cell_type": "code",
      "metadata": {
        "id": "uNUHOfAReFs-",
        "colab": {
          "base_uri": "https://localhost:8080/"
        },
        "outputId": "3c825509-0bf0-4b51-9368-fbd6d0448d68"
      },
      "source": [
        "!pip install skforecast\n",
        "\n",
        "###\n",
        "# Data manipulation\n",
        "# ==============================================================================\n",
        "import numpy as np\n",
        "import pandas as pd\n",
        "\n",
        "# Plots\n",
        "# ==============================================================================\n",
        "import matplotlib.pyplot as plt\n",
        "import seaborn as sns\n",
        "%matplotlib inline\n",
        "from statsmodels.graphics.tsaplots import plot_acf\n",
        "from statsmodels.graphics.tsaplots import plot_pacf\n",
        "plt.style.use('fivethirtyeight')\n",
        "\n",
        "# Modelling and Forecasting\n",
        "# ==============================================================================\n",
        "from sklearn.linear_model import Ridge\n",
        "from lightgbm import LGBMRegressor\n",
        "from sklearn.preprocessing import StandardScaler\n",
        "from sklearn.metrics import mean_absolute_error\n",
        "from skforecast.ForecasterAutoreg import ForecasterAutoreg\n",
        "from skforecast.ForecasterAutoregDirect import ForecasterAutoregDirect\n",
        "from skforecast.model_selection import grid_search_forecaster\n",
        "from skforecast.model_selection import backtesting_forecaster\n",
        "\n",
        "# Warnings configuration\n",
        "# ==============================================================================\n",
        "import warnings\n",
        "warnings.filterwarnings('ignore')\n",
        "###\n",
        "\n",
        "\n",
        "\n",
        "import numpy as np\n",
        "from sklearn.cluster import KMeans\n",
        "import matplotlib.pyplot as plt\n",
        "import random\n",
        "from sklearn.metrics import silhouette_score\n",
        "from sklearn.cluster import AgglomerativeClustering\n",
        "random.seed(42)\n",
        "#Mount your Google drive so you can read them easily\n",
        "from google.colab import drive\n",
        "drive.mount('/content/gdrive')"
      ],
      "execution_count": 278,
      "outputs": [
        {
          "output_type": "stream",
          "name": "stdout",
          "text": [
            "Looking in indexes: https://pypi.org/simple, https://us-python.pkg.dev/colab-wheels/public/simple/\n",
            "Requirement already satisfied: skforecast in /usr/local/lib/python3.8/dist-packages (0.6.0)\n",
            "Requirement already satisfied: scikit-optimize==0.9.0 in /usr/local/lib/python3.8/dist-packages (from skforecast) (0.9.0)\n",
            "Requirement already satisfied: scikit-learn<1.2,>=1.0 in /usr/local/lib/python3.8/dist-packages (from skforecast) (1.0.2)\n",
            "Requirement already satisfied: optuna<3.1,>=2.10.0 in /usr/local/lib/python3.8/dist-packages (from skforecast) (3.0.5)\n",
            "Requirement already satisfied: joblib<1.3.0,>=1.1.0 in /usr/local/lib/python3.8/dist-packages (from skforecast) (1.2.0)\n",
            "Requirement already satisfied: tqdm<4.65,>=4.57.0 in /usr/local/lib/python3.8/dist-packages (from skforecast) (4.64.1)\n",
            "Requirement already satisfied: pandas<1.6,>=1.2 in /usr/local/lib/python3.8/dist-packages (from skforecast) (1.3.5)\n",
            "Requirement already satisfied: numpy<1.24,>=1.20 in /usr/local/lib/python3.8/dist-packages (from skforecast) (1.21.6)\n",
            "Requirement already satisfied: scipy>=0.19.1 in /usr/local/lib/python3.8/dist-packages (from scikit-optimize==0.9.0->skforecast) (1.7.3)\n",
            "Requirement already satisfied: pyaml>=16.9 in /usr/local/lib/python3.8/dist-packages (from scikit-optimize==0.9.0->skforecast) (21.10.1)\n",
            "Requirement already satisfied: importlib-metadata<5.0.0 in /usr/local/lib/python3.8/dist-packages (from optuna<3.1,>=2.10.0->skforecast) (4.13.0)\n",
            "Requirement already satisfied: cliff in /usr/local/lib/python3.8/dist-packages (from optuna<3.1,>=2.10.0->skforecast) (4.1.0)\n",
            "Requirement already satisfied: sqlalchemy>=1.3.0 in /usr/local/lib/python3.8/dist-packages (from optuna<3.1,>=2.10.0->skforecast) (1.4.46)\n",
            "Requirement already satisfied: PyYAML in /usr/local/lib/python3.8/dist-packages (from optuna<3.1,>=2.10.0->skforecast) (6.0)\n",
            "Requirement already satisfied: packaging>=20.0 in /usr/local/lib/python3.8/dist-packages (from optuna<3.1,>=2.10.0->skforecast) (23.0)\n",
            "Requirement already satisfied: alembic>=1.5.0 in /usr/local/lib/python3.8/dist-packages (from optuna<3.1,>=2.10.0->skforecast) (1.9.3)\n",
            "Requirement already satisfied: colorlog in /usr/local/lib/python3.8/dist-packages (from optuna<3.1,>=2.10.0->skforecast) (6.7.0)\n",
            "Requirement already satisfied: cmaes>=0.8.2 in /usr/local/lib/python3.8/dist-packages (from optuna<3.1,>=2.10.0->skforecast) (0.9.1)\n",
            "Requirement already satisfied: python-dateutil>=2.7.3 in /usr/local/lib/python3.8/dist-packages (from pandas<1.6,>=1.2->skforecast) (2.8.2)\n",
            "Requirement already satisfied: pytz>=2017.3 in /usr/local/lib/python3.8/dist-packages (from pandas<1.6,>=1.2->skforecast) (2022.7.1)\n",
            "Requirement already satisfied: threadpoolctl>=2.0.0 in /usr/local/lib/python3.8/dist-packages (from scikit-learn<1.2,>=1.0->skforecast) (3.1.0)\n",
            "Requirement already satisfied: Mako in /usr/local/lib/python3.8/dist-packages (from alembic>=1.5.0->optuna<3.1,>=2.10.0->skforecast) (1.2.4)\n",
            "Requirement already satisfied: importlib-resources in /usr/local/lib/python3.8/dist-packages (from alembic>=1.5.0->optuna<3.1,>=2.10.0->skforecast) (5.10.2)\n",
            "Requirement already satisfied: zipp>=0.5 in /usr/local/lib/python3.8/dist-packages (from importlib-metadata<5.0.0->optuna<3.1,>=2.10.0->skforecast) (3.12.1)\n",
            "Requirement already satisfied: six>=1.5 in /usr/local/lib/python3.8/dist-packages (from python-dateutil>=2.7.3->pandas<1.6,>=1.2->skforecast) (1.15.0)\n",
            "Requirement already satisfied: greenlet!=0.4.17 in /usr/local/lib/python3.8/dist-packages (from sqlalchemy>=1.3.0->optuna<3.1,>=2.10.0->skforecast) (2.0.2)\n",
            "Requirement already satisfied: cmd2>=1.0.0 in /usr/local/lib/python3.8/dist-packages (from cliff->optuna<3.1,>=2.10.0->skforecast) (2.4.3)\n",
            "Requirement already satisfied: stevedore>=2.0.1 in /usr/local/lib/python3.8/dist-packages (from cliff->optuna<3.1,>=2.10.0->skforecast) (5.0.0)\n",
            "Requirement already satisfied: PrettyTable>=0.7.2 in /usr/local/lib/python3.8/dist-packages (from cliff->optuna<3.1,>=2.10.0->skforecast) (3.6.0)\n",
            "Requirement already satisfied: autopage>=0.4.0 in /usr/local/lib/python3.8/dist-packages (from cliff->optuna<3.1,>=2.10.0->skforecast) (0.5.1)\n",
            "Requirement already satisfied: wcwidth>=0.1.7 in /usr/local/lib/python3.8/dist-packages (from cmd2>=1.0.0->cliff->optuna<3.1,>=2.10.0->skforecast) (0.2.6)\n",
            "Requirement already satisfied: attrs>=16.3.0 in /usr/local/lib/python3.8/dist-packages (from cmd2>=1.0.0->cliff->optuna<3.1,>=2.10.0->skforecast) (22.2.0)\n",
            "Requirement already satisfied: pyperclip>=1.6 in /usr/local/lib/python3.8/dist-packages (from cmd2>=1.0.0->cliff->optuna<3.1,>=2.10.0->skforecast) (1.8.2)\n",
            "Requirement already satisfied: pbr!=2.1.0,>=2.0.0 in /usr/local/lib/python3.8/dist-packages (from stevedore>=2.0.1->cliff->optuna<3.1,>=2.10.0->skforecast) (5.11.1)\n",
            "Requirement already satisfied: MarkupSafe>=0.9.2 in /usr/local/lib/python3.8/dist-packages (from Mako->alembic>=1.5.0->optuna<3.1,>=2.10.0->skforecast) (2.0.1)\n",
            "Drive already mounted at /content/gdrive; to attempt to forcibly remount, call drive.mount(\"/content/gdrive\", force_remount=True).\n"
          ]
        }
      ]
    },
    {
      "cell_type": "markdown",
      "source": [
        "# Data Source\n"
      ],
      "metadata": {
        "id": "u207RrjK5A5Q"
      }
    },
    {
      "cell_type": "code",
      "metadata": {
        "id": "qdHJIAmjeFtA"
      },
      "source": [
        "import fileinput\n",
        "\n",
        "#STEP 1: Download data file from server (https://archive.ics.uci.edu/ml/machine-learning-databases/00321/LD2011_2014.txt.zip)\n",
        "#STEP 2: Unzip the file and upload it to your Google Drive - Remember where you stored it \n",
        "\n",
        "#Update below address to point to your google drive\n",
        "filePath =\"/content/gdrive/MyDrive/LD2011_2014.txt\"\n"
      ],
      "execution_count": 279,
      "outputs": []
    },
    {
      "cell_type": "code",
      "metadata": {
        "id": "pnyFLwDLeFtD"
      },
      "source": [
        "# Create dataframe\n",
        "import pandas as pd\n",
        "data = pd.read_csv(filePath, sep=\";\", low_memory=False, index_col=0, decimal=',')"
      ],
      "execution_count": 280,
      "outputs": []
    },
    {
      "cell_type": "code",
      "metadata": {
        "id": "R_Tg4zRoOqHm",
        "colab": {
          "base_uri": "https://localhost:8080/"
        },
        "outputId": "fbd27e90-488f-48d3-c4a7-34a08acffde4"
      },
      "source": [
        "# To ensure you have the right data, make sure your data.shape output is (140256, 370). \n",
        "# Otherwise, you data file is corrupt and have to read data again. Copy the original file from Saeid's shared Google Drive and run the code again.\n",
        "data.shape"
      ],
      "execution_count": 281,
      "outputs": [
        {
          "output_type": "execute_result",
          "data": {
            "text/plain": [
              "(140256, 370)"
            ]
          },
          "metadata": {},
          "execution_count": 281
        }
      ]
    },
    {
      "cell_type": "code",
      "metadata": {
        "id": "vwxoS-0ECCu1",
        "colab": {
          "base_uri": "https://localhost:8080/"
        },
        "outputId": "74e890ce-4c58-4e0b-de92-2aa640676a05"
      },
      "source": [
        "# Write the code to answer Question1 in assignment 4\n",
        "#(1)What is the mean value of the 257th column (i.e. column index 256, as Python index starts from 0) ?\n",
        "data[['MT_257']].mean(axis=0)"
      ],
      "execution_count": 282,
      "outputs": [
        {
          "output_type": "execute_result",
          "data": {
            "text/plain": [
              "MT_257    156.41464\n",
              "dtype: float64"
            ]
          },
          "metadata": {},
          "execution_count": 282
        }
      ]
    },
    {
      "cell_type": "code",
      "source": [
        "data.describe()"
      ],
      "metadata": {
        "colab": {
          "base_uri": "https://localhost:8080/",
          "height": 393
        },
        "id": "AHD0H5CInhNR",
        "outputId": "af98d3c3-4581-4658-e4d8-659aaf4c7054"
      },
      "execution_count": 283,
      "outputs": [
        {
          "output_type": "execute_result",
          "data": {
            "text/plain": [
              "              MT_001         MT_002         MT_003         MT_004  \\\n",
              "count  140256.000000  140256.000000  140256.000000  140256.000000   \n",
              "mean        3.970785      20.768480       2.918308      82.184490   \n",
              "std         5.983965      13.272415      11.014456      58.248392   \n",
              "min         0.000000       0.000000       0.000000       0.000000   \n",
              "25%         0.000000       2.844950       0.000000      36.585366   \n",
              "50%         1.269036      24.893314       1.737619      87.398374   \n",
              "75%         2.538071      29.871977       1.737619     115.853659   \n",
              "max        48.223350     115.220484     151.172893     321.138211   \n",
              "\n",
              "              MT_005         MT_006         MT_007         MT_008  \\\n",
              "count  140256.000000  140256.000000  140256.000000  140256.000000   \n",
              "mean       37.240309     141.227385       4.521338     191.401476   \n",
              "std        26.461327      98.439984       6.485684     121.981187   \n",
              "min         0.000000       0.000000       0.000000       0.000000   \n",
              "25%        15.853659      71.428571       0.565291     111.111111   \n",
              "50%        39.024390     157.738095       2.826456     222.222222   \n",
              "75%        54.878049     205.357143       4.522329     279.461279   \n",
              "max       150.000000     535.714286      44.657999     552.188552   \n",
              "\n",
              "              MT_009         MT_010  ...         MT_361         MT_362  \\\n",
              "count  140256.000000  140256.000000  ...  140256.000000  140256.000000   \n",
              "mean       39.975354      42.205152  ...     218.213701   37607.987537   \n",
              "std        29.814595      33.401251  ...     204.833532   38691.954832   \n",
              "min         0.000000       0.000000  ...       0.000000       0.000000   \n",
              "25%        13.986014       9.677419  ...       5.710207       0.000000   \n",
              "50%        40.209790      40.860215  ...     131.334761   24100.000000   \n",
              "75%        57.692308      61.290323  ...     403.283369   54800.000000   \n",
              "max       157.342657     198.924731  ...     852.962170  192800.000000   \n",
              "\n",
              "              MT_363         MT_364         MT_365         MT_366  \\\n",
              "count  140256.000000  140256.000000  140256.000000  140256.000000   \n",
              "mean     1887.427366    2940.031734      65.413150       9.269709   \n",
              "std      1801.486488    2732.251967      65.007818      10.016782   \n",
              "min         0.000000       0.000000       0.000000       0.000000   \n",
              "25%         0.000000       0.000000      13.037810       0.000000   \n",
              "50%      1050.632911    2136.363636      31.290743       7.021650   \n",
              "75%      3312.236287    5363.636364     108.213820      11.702750   \n",
              "max      7751.054852   12386.363636     335.071708      60.269163   \n",
              "\n",
              "              MT_367         MT_368         MT_369         MT_370  \n",
              "count  140256.000000  140256.000000  140256.000000  140256.000000  \n",
              "mean      424.262904      94.704717     625.251734    8722.355145  \n",
              "std       274.337122      80.297301     380.656042    9195.155777  \n",
              "min         0.000000       0.000000       0.000000       0.000000  \n",
              "25%         0.000000      30.050083      83.944282       0.000000  \n",
              "50%       525.899912      76.794658     758.064516       0.000000  \n",
              "75%       627.743635     151.919866     875.366569   17783.783784  \n",
              "max      1138.718174     362.270451    1549.120235   30918.918919  \n",
              "\n",
              "[8 rows x 370 columns]"
            ],
            "text/html": [
              "\n",
              "  <div id=\"df-8281e8ed-c94a-4c79-b704-d69a3a0ef5df\">\n",
              "    <div class=\"colab-df-container\">\n",
              "      <div>\n",
              "<style scoped>\n",
              "    .dataframe tbody tr th:only-of-type {\n",
              "        vertical-align: middle;\n",
              "    }\n",
              "\n",
              "    .dataframe tbody tr th {\n",
              "        vertical-align: top;\n",
              "    }\n",
              "\n",
              "    .dataframe thead th {\n",
              "        text-align: right;\n",
              "    }\n",
              "</style>\n",
              "<table border=\"1\" class=\"dataframe\">\n",
              "  <thead>\n",
              "    <tr style=\"text-align: right;\">\n",
              "      <th></th>\n",
              "      <th>MT_001</th>\n",
              "      <th>MT_002</th>\n",
              "      <th>MT_003</th>\n",
              "      <th>MT_004</th>\n",
              "      <th>MT_005</th>\n",
              "      <th>MT_006</th>\n",
              "      <th>MT_007</th>\n",
              "      <th>MT_008</th>\n",
              "      <th>MT_009</th>\n",
              "      <th>MT_010</th>\n",
              "      <th>...</th>\n",
              "      <th>MT_361</th>\n",
              "      <th>MT_362</th>\n",
              "      <th>MT_363</th>\n",
              "      <th>MT_364</th>\n",
              "      <th>MT_365</th>\n",
              "      <th>MT_366</th>\n",
              "      <th>MT_367</th>\n",
              "      <th>MT_368</th>\n",
              "      <th>MT_369</th>\n",
              "      <th>MT_370</th>\n",
              "    </tr>\n",
              "  </thead>\n",
              "  <tbody>\n",
              "    <tr>\n",
              "      <th>count</th>\n",
              "      <td>140256.000000</td>\n",
              "      <td>140256.000000</td>\n",
              "      <td>140256.000000</td>\n",
              "      <td>140256.000000</td>\n",
              "      <td>140256.000000</td>\n",
              "      <td>140256.000000</td>\n",
              "      <td>140256.000000</td>\n",
              "      <td>140256.000000</td>\n",
              "      <td>140256.000000</td>\n",
              "      <td>140256.000000</td>\n",
              "      <td>...</td>\n",
              "      <td>140256.000000</td>\n",
              "      <td>140256.000000</td>\n",
              "      <td>140256.000000</td>\n",
              "      <td>140256.000000</td>\n",
              "      <td>140256.000000</td>\n",
              "      <td>140256.000000</td>\n",
              "      <td>140256.000000</td>\n",
              "      <td>140256.000000</td>\n",
              "      <td>140256.000000</td>\n",
              "      <td>140256.000000</td>\n",
              "    </tr>\n",
              "    <tr>\n",
              "      <th>mean</th>\n",
              "      <td>3.970785</td>\n",
              "      <td>20.768480</td>\n",
              "      <td>2.918308</td>\n",
              "      <td>82.184490</td>\n",
              "      <td>37.240309</td>\n",
              "      <td>141.227385</td>\n",
              "      <td>4.521338</td>\n",
              "      <td>191.401476</td>\n",
              "      <td>39.975354</td>\n",
              "      <td>42.205152</td>\n",
              "      <td>...</td>\n",
              "      <td>218.213701</td>\n",
              "      <td>37607.987537</td>\n",
              "      <td>1887.427366</td>\n",
              "      <td>2940.031734</td>\n",
              "      <td>65.413150</td>\n",
              "      <td>9.269709</td>\n",
              "      <td>424.262904</td>\n",
              "      <td>94.704717</td>\n",
              "      <td>625.251734</td>\n",
              "      <td>8722.355145</td>\n",
              "    </tr>\n",
              "    <tr>\n",
              "      <th>std</th>\n",
              "      <td>5.983965</td>\n",
              "      <td>13.272415</td>\n",
              "      <td>11.014456</td>\n",
              "      <td>58.248392</td>\n",
              "      <td>26.461327</td>\n",
              "      <td>98.439984</td>\n",
              "      <td>6.485684</td>\n",
              "      <td>121.981187</td>\n",
              "      <td>29.814595</td>\n",
              "      <td>33.401251</td>\n",
              "      <td>...</td>\n",
              "      <td>204.833532</td>\n",
              "      <td>38691.954832</td>\n",
              "      <td>1801.486488</td>\n",
              "      <td>2732.251967</td>\n",
              "      <td>65.007818</td>\n",
              "      <td>10.016782</td>\n",
              "      <td>274.337122</td>\n",
              "      <td>80.297301</td>\n",
              "      <td>380.656042</td>\n",
              "      <td>9195.155777</td>\n",
              "    </tr>\n",
              "    <tr>\n",
              "      <th>min</th>\n",
              "      <td>0.000000</td>\n",
              "      <td>0.000000</td>\n",
              "      <td>0.000000</td>\n",
              "      <td>0.000000</td>\n",
              "      <td>0.000000</td>\n",
              "      <td>0.000000</td>\n",
              "      <td>0.000000</td>\n",
              "      <td>0.000000</td>\n",
              "      <td>0.000000</td>\n",
              "      <td>0.000000</td>\n",
              "      <td>...</td>\n",
              "      <td>0.000000</td>\n",
              "      <td>0.000000</td>\n",
              "      <td>0.000000</td>\n",
              "      <td>0.000000</td>\n",
              "      <td>0.000000</td>\n",
              "      <td>0.000000</td>\n",
              "      <td>0.000000</td>\n",
              "      <td>0.000000</td>\n",
              "      <td>0.000000</td>\n",
              "      <td>0.000000</td>\n",
              "    </tr>\n",
              "    <tr>\n",
              "      <th>25%</th>\n",
              "      <td>0.000000</td>\n",
              "      <td>2.844950</td>\n",
              "      <td>0.000000</td>\n",
              "      <td>36.585366</td>\n",
              "      <td>15.853659</td>\n",
              "      <td>71.428571</td>\n",
              "      <td>0.565291</td>\n",
              "      <td>111.111111</td>\n",
              "      <td>13.986014</td>\n",
              "      <td>9.677419</td>\n",
              "      <td>...</td>\n",
              "      <td>5.710207</td>\n",
              "      <td>0.000000</td>\n",
              "      <td>0.000000</td>\n",
              "      <td>0.000000</td>\n",
              "      <td>13.037810</td>\n",
              "      <td>0.000000</td>\n",
              "      <td>0.000000</td>\n",
              "      <td>30.050083</td>\n",
              "      <td>83.944282</td>\n",
              "      <td>0.000000</td>\n",
              "    </tr>\n",
              "    <tr>\n",
              "      <th>50%</th>\n",
              "      <td>1.269036</td>\n",
              "      <td>24.893314</td>\n",
              "      <td>1.737619</td>\n",
              "      <td>87.398374</td>\n",
              "      <td>39.024390</td>\n",
              "      <td>157.738095</td>\n",
              "      <td>2.826456</td>\n",
              "      <td>222.222222</td>\n",
              "      <td>40.209790</td>\n",
              "      <td>40.860215</td>\n",
              "      <td>...</td>\n",
              "      <td>131.334761</td>\n",
              "      <td>24100.000000</td>\n",
              "      <td>1050.632911</td>\n",
              "      <td>2136.363636</td>\n",
              "      <td>31.290743</td>\n",
              "      <td>7.021650</td>\n",
              "      <td>525.899912</td>\n",
              "      <td>76.794658</td>\n",
              "      <td>758.064516</td>\n",
              "      <td>0.000000</td>\n",
              "    </tr>\n",
              "    <tr>\n",
              "      <th>75%</th>\n",
              "      <td>2.538071</td>\n",
              "      <td>29.871977</td>\n",
              "      <td>1.737619</td>\n",
              "      <td>115.853659</td>\n",
              "      <td>54.878049</td>\n",
              "      <td>205.357143</td>\n",
              "      <td>4.522329</td>\n",
              "      <td>279.461279</td>\n",
              "      <td>57.692308</td>\n",
              "      <td>61.290323</td>\n",
              "      <td>...</td>\n",
              "      <td>403.283369</td>\n",
              "      <td>54800.000000</td>\n",
              "      <td>3312.236287</td>\n",
              "      <td>5363.636364</td>\n",
              "      <td>108.213820</td>\n",
              "      <td>11.702750</td>\n",
              "      <td>627.743635</td>\n",
              "      <td>151.919866</td>\n",
              "      <td>875.366569</td>\n",
              "      <td>17783.783784</td>\n",
              "    </tr>\n",
              "    <tr>\n",
              "      <th>max</th>\n",
              "      <td>48.223350</td>\n",
              "      <td>115.220484</td>\n",
              "      <td>151.172893</td>\n",
              "      <td>321.138211</td>\n",
              "      <td>150.000000</td>\n",
              "      <td>535.714286</td>\n",
              "      <td>44.657999</td>\n",
              "      <td>552.188552</td>\n",
              "      <td>157.342657</td>\n",
              "      <td>198.924731</td>\n",
              "      <td>...</td>\n",
              "      <td>852.962170</td>\n",
              "      <td>192800.000000</td>\n",
              "      <td>7751.054852</td>\n",
              "      <td>12386.363636</td>\n",
              "      <td>335.071708</td>\n",
              "      <td>60.269163</td>\n",
              "      <td>1138.718174</td>\n",
              "      <td>362.270451</td>\n",
              "      <td>1549.120235</td>\n",
              "      <td>30918.918919</td>\n",
              "    </tr>\n",
              "  </tbody>\n",
              "</table>\n",
              "<p>8 rows × 370 columns</p>\n",
              "</div>\n",
              "      <button class=\"colab-df-convert\" onclick=\"convertToInteractive('df-8281e8ed-c94a-4c79-b704-d69a3a0ef5df')\"\n",
              "              title=\"Convert this dataframe to an interactive table.\"\n",
              "              style=\"display:none;\">\n",
              "        \n",
              "  <svg xmlns=\"http://www.w3.org/2000/svg\" height=\"24px\"viewBox=\"0 0 24 24\"\n",
              "       width=\"24px\">\n",
              "    <path d=\"M0 0h24v24H0V0z\" fill=\"none\"/>\n",
              "    <path d=\"M18.56 5.44l.94 2.06.94-2.06 2.06-.94-2.06-.94-.94-2.06-.94 2.06-2.06.94zm-11 1L8.5 8.5l.94-2.06 2.06-.94-2.06-.94L8.5 2.5l-.94 2.06-2.06.94zm10 10l.94 2.06.94-2.06 2.06-.94-2.06-.94-.94-2.06-.94 2.06-2.06.94z\"/><path d=\"M17.41 7.96l-1.37-1.37c-.4-.4-.92-.59-1.43-.59-.52 0-1.04.2-1.43.59L10.3 9.45l-7.72 7.72c-.78.78-.78 2.05 0 2.83L4 21.41c.39.39.9.59 1.41.59.51 0 1.02-.2 1.41-.59l7.78-7.78 2.81-2.81c.8-.78.8-2.07 0-2.86zM5.41 20L4 18.59l7.72-7.72 1.47 1.35L5.41 20z\"/>\n",
              "  </svg>\n",
              "      </button>\n",
              "      \n",
              "  <style>\n",
              "    .colab-df-container {\n",
              "      display:flex;\n",
              "      flex-wrap:wrap;\n",
              "      gap: 12px;\n",
              "    }\n",
              "\n",
              "    .colab-df-convert {\n",
              "      background-color: #E8F0FE;\n",
              "      border: none;\n",
              "      border-radius: 50%;\n",
              "      cursor: pointer;\n",
              "      display: none;\n",
              "      fill: #1967D2;\n",
              "      height: 32px;\n",
              "      padding: 0 0 0 0;\n",
              "      width: 32px;\n",
              "    }\n",
              "\n",
              "    .colab-df-convert:hover {\n",
              "      background-color: #E2EBFA;\n",
              "      box-shadow: 0px 1px 2px rgba(60, 64, 67, 0.3), 0px 1px 3px 1px rgba(60, 64, 67, 0.15);\n",
              "      fill: #174EA6;\n",
              "    }\n",
              "\n",
              "    [theme=dark] .colab-df-convert {\n",
              "      background-color: #3B4455;\n",
              "      fill: #D2E3FC;\n",
              "    }\n",
              "\n",
              "    [theme=dark] .colab-df-convert:hover {\n",
              "      background-color: #434B5C;\n",
              "      box-shadow: 0px 1px 3px 1px rgba(0, 0, 0, 0.15);\n",
              "      filter: drop-shadow(0px 1px 2px rgba(0, 0, 0, 0.3));\n",
              "      fill: #FFFFFF;\n",
              "    }\n",
              "  </style>\n",
              "\n",
              "      <script>\n",
              "        const buttonEl =\n",
              "          document.querySelector('#df-8281e8ed-c94a-4c79-b704-d69a3a0ef5df button.colab-df-convert');\n",
              "        buttonEl.style.display =\n",
              "          google.colab.kernel.accessAllowed ? 'block' : 'none';\n",
              "\n",
              "        async function convertToInteractive(key) {\n",
              "          const element = document.querySelector('#df-8281e8ed-c94a-4c79-b704-d69a3a0ef5df');\n",
              "          const dataTable =\n",
              "            await google.colab.kernel.invokeFunction('convertToInteractive',\n",
              "                                                     [key], {});\n",
              "          if (!dataTable) return;\n",
              "\n",
              "          const docLinkHtml = 'Like what you see? Visit the ' +\n",
              "            '<a target=\"_blank\" href=https://colab.research.google.com/notebooks/data_table.ipynb>data table notebook</a>'\n",
              "            + ' to learn more about interactive tables.';\n",
              "          element.innerHTML = '';\n",
              "          dataTable['output_type'] = 'display_data';\n",
              "          await google.colab.output.renderOutput(dataTable, element);\n",
              "          const docLink = document.createElement('div');\n",
              "          docLink.innerHTML = docLinkHtml;\n",
              "          element.appendChild(docLink);\n",
              "        }\n",
              "      </script>\n",
              "    </div>\n",
              "  </div>\n",
              "  "
            ]
          },
          "metadata": {},
          "execution_count": 283
        }
      ]
    },
    {
      "cell_type": "code",
      "source": [
        "data.info()"
      ],
      "metadata": {
        "colab": {
          "base_uri": "https://localhost:8080/"
        },
        "id": "bAjlmjDUnnzx",
        "outputId": "f0077848-f63e-46ea-f27a-7f2227714f1d"
      },
      "execution_count": 284,
      "outputs": [
        {
          "output_type": "stream",
          "name": "stdout",
          "text": [
            "<class 'pandas.core.frame.DataFrame'>\n",
            "Index: 140256 entries, 2011-01-01 00:15:00 to 2015-01-01 00:00:00\n",
            "Columns: 370 entries, MT_001 to MT_370\n",
            "dtypes: float64(370)\n",
            "memory usage: 397.0+ MB\n"
          ]
        }
      ]
    },
    {
      "cell_type": "markdown",
      "metadata": {
        "id": "SJSKGse4eFtF"
      },
      "source": [
        "### Quick data inspection"
      ]
    },
    {
      "cell_type": "code",
      "metadata": {
        "id": "MC__WXumeFtJ",
        "colab": {
          "base_uri": "https://localhost:8080/",
          "height": 275
        },
        "outputId": "214afff7-8006-4cf2-d6b2-de45b6b1d7a1"
      },
      "source": [
        "data.tail(2)"
      ],
      "execution_count": 285,
      "outputs": [
        {
          "output_type": "execute_result",
          "data": {
            "text/plain": [
              "                       MT_001     MT_002    MT_003      MT_004     MT_005  \\\n",
              "2014-12-31 23:45:00  1.269036  21.337127  1.737619  166.666667  85.365854   \n",
              "2015-01-01 00:00:00  2.538071  19.914651  1.737619  178.861789  84.146341   \n",
              "\n",
              "                         MT_006    MT_007      MT_008     MT_009     MT_010  \\\n",
              "2014-12-31 23:45:00  285.714286  10.17524  225.589226  64.685315  72.043011   \n",
              "2015-01-01 00:00:00  279.761905  10.17524  249.158249  62.937063  69.892473   \n",
              "\n",
              "                     ...      MT_361   MT_362       MT_363      MT_364  \\\n",
              "2014-12-31 23:45:00  ...  246.252677  28000.0  1443.037975  909.090909   \n",
              "2015-01-01 00:00:00  ...  188.436831  27800.0  1409.282700  954.545455   \n",
              "\n",
              "                        MT_365    MT_366      MT_367      MT_368      MT_369  \\\n",
              "2014-12-31 23:45:00  26.075619  4.095963  664.618086  146.911519  646.627566   \n",
              "2015-01-01 00:00:00  27.379400  4.095963  628.621598  131.886477  673.020528   \n",
              "\n",
              "                          MT_370  \n",
              "2014-12-31 23:45:00  6540.540541  \n",
              "2015-01-01 00:00:00  7135.135135  \n",
              "\n",
              "[2 rows x 370 columns]"
            ],
            "text/html": [
              "\n",
              "  <div id=\"df-5c7caa38-a02e-48e6-a66d-8c471fa9e5f2\">\n",
              "    <div class=\"colab-df-container\">\n",
              "      <div>\n",
              "<style scoped>\n",
              "    .dataframe tbody tr th:only-of-type {\n",
              "        vertical-align: middle;\n",
              "    }\n",
              "\n",
              "    .dataframe tbody tr th {\n",
              "        vertical-align: top;\n",
              "    }\n",
              "\n",
              "    .dataframe thead th {\n",
              "        text-align: right;\n",
              "    }\n",
              "</style>\n",
              "<table border=\"1\" class=\"dataframe\">\n",
              "  <thead>\n",
              "    <tr style=\"text-align: right;\">\n",
              "      <th></th>\n",
              "      <th>MT_001</th>\n",
              "      <th>MT_002</th>\n",
              "      <th>MT_003</th>\n",
              "      <th>MT_004</th>\n",
              "      <th>MT_005</th>\n",
              "      <th>MT_006</th>\n",
              "      <th>MT_007</th>\n",
              "      <th>MT_008</th>\n",
              "      <th>MT_009</th>\n",
              "      <th>MT_010</th>\n",
              "      <th>...</th>\n",
              "      <th>MT_361</th>\n",
              "      <th>MT_362</th>\n",
              "      <th>MT_363</th>\n",
              "      <th>MT_364</th>\n",
              "      <th>MT_365</th>\n",
              "      <th>MT_366</th>\n",
              "      <th>MT_367</th>\n",
              "      <th>MT_368</th>\n",
              "      <th>MT_369</th>\n",
              "      <th>MT_370</th>\n",
              "    </tr>\n",
              "  </thead>\n",
              "  <tbody>\n",
              "    <tr>\n",
              "      <th>2014-12-31 23:45:00</th>\n",
              "      <td>1.269036</td>\n",
              "      <td>21.337127</td>\n",
              "      <td>1.737619</td>\n",
              "      <td>166.666667</td>\n",
              "      <td>85.365854</td>\n",
              "      <td>285.714286</td>\n",
              "      <td>10.17524</td>\n",
              "      <td>225.589226</td>\n",
              "      <td>64.685315</td>\n",
              "      <td>72.043011</td>\n",
              "      <td>...</td>\n",
              "      <td>246.252677</td>\n",
              "      <td>28000.0</td>\n",
              "      <td>1443.037975</td>\n",
              "      <td>909.090909</td>\n",
              "      <td>26.075619</td>\n",
              "      <td>4.095963</td>\n",
              "      <td>664.618086</td>\n",
              "      <td>146.911519</td>\n",
              "      <td>646.627566</td>\n",
              "      <td>6540.540541</td>\n",
              "    </tr>\n",
              "    <tr>\n",
              "      <th>2015-01-01 00:00:00</th>\n",
              "      <td>2.538071</td>\n",
              "      <td>19.914651</td>\n",
              "      <td>1.737619</td>\n",
              "      <td>178.861789</td>\n",
              "      <td>84.146341</td>\n",
              "      <td>279.761905</td>\n",
              "      <td>10.17524</td>\n",
              "      <td>249.158249</td>\n",
              "      <td>62.937063</td>\n",
              "      <td>69.892473</td>\n",
              "      <td>...</td>\n",
              "      <td>188.436831</td>\n",
              "      <td>27800.0</td>\n",
              "      <td>1409.282700</td>\n",
              "      <td>954.545455</td>\n",
              "      <td>27.379400</td>\n",
              "      <td>4.095963</td>\n",
              "      <td>628.621598</td>\n",
              "      <td>131.886477</td>\n",
              "      <td>673.020528</td>\n",
              "      <td>7135.135135</td>\n",
              "    </tr>\n",
              "  </tbody>\n",
              "</table>\n",
              "<p>2 rows × 370 columns</p>\n",
              "</div>\n",
              "      <button class=\"colab-df-convert\" onclick=\"convertToInteractive('df-5c7caa38-a02e-48e6-a66d-8c471fa9e5f2')\"\n",
              "              title=\"Convert this dataframe to an interactive table.\"\n",
              "              style=\"display:none;\">\n",
              "        \n",
              "  <svg xmlns=\"http://www.w3.org/2000/svg\" height=\"24px\"viewBox=\"0 0 24 24\"\n",
              "       width=\"24px\">\n",
              "    <path d=\"M0 0h24v24H0V0z\" fill=\"none\"/>\n",
              "    <path d=\"M18.56 5.44l.94 2.06.94-2.06 2.06-.94-2.06-.94-.94-2.06-.94 2.06-2.06.94zm-11 1L8.5 8.5l.94-2.06 2.06-.94-2.06-.94L8.5 2.5l-.94 2.06-2.06.94zm10 10l.94 2.06.94-2.06 2.06-.94-2.06-.94-.94-2.06-.94 2.06-2.06.94z\"/><path d=\"M17.41 7.96l-1.37-1.37c-.4-.4-.92-.59-1.43-.59-.52 0-1.04.2-1.43.59L10.3 9.45l-7.72 7.72c-.78.78-.78 2.05 0 2.83L4 21.41c.39.39.9.59 1.41.59.51 0 1.02-.2 1.41-.59l7.78-7.78 2.81-2.81c.8-.78.8-2.07 0-2.86zM5.41 20L4 18.59l7.72-7.72 1.47 1.35L5.41 20z\"/>\n",
              "  </svg>\n",
              "      </button>\n",
              "      \n",
              "  <style>\n",
              "    .colab-df-container {\n",
              "      display:flex;\n",
              "      flex-wrap:wrap;\n",
              "      gap: 12px;\n",
              "    }\n",
              "\n",
              "    .colab-df-convert {\n",
              "      background-color: #E8F0FE;\n",
              "      border: none;\n",
              "      border-radius: 50%;\n",
              "      cursor: pointer;\n",
              "      display: none;\n",
              "      fill: #1967D2;\n",
              "      height: 32px;\n",
              "      padding: 0 0 0 0;\n",
              "      width: 32px;\n",
              "    }\n",
              "\n",
              "    .colab-df-convert:hover {\n",
              "      background-color: #E2EBFA;\n",
              "      box-shadow: 0px 1px 2px rgba(60, 64, 67, 0.3), 0px 1px 3px 1px rgba(60, 64, 67, 0.15);\n",
              "      fill: #174EA6;\n",
              "    }\n",
              "\n",
              "    [theme=dark] .colab-df-convert {\n",
              "      background-color: #3B4455;\n",
              "      fill: #D2E3FC;\n",
              "    }\n",
              "\n",
              "    [theme=dark] .colab-df-convert:hover {\n",
              "      background-color: #434B5C;\n",
              "      box-shadow: 0px 1px 3px 1px rgba(0, 0, 0, 0.15);\n",
              "      filter: drop-shadow(0px 1px 2px rgba(0, 0, 0, 0.3));\n",
              "      fill: #FFFFFF;\n",
              "    }\n",
              "  </style>\n",
              "\n",
              "      <script>\n",
              "        const buttonEl =\n",
              "          document.querySelector('#df-5c7caa38-a02e-48e6-a66d-8c471fa9e5f2 button.colab-df-convert');\n",
              "        buttonEl.style.display =\n",
              "          google.colab.kernel.accessAllowed ? 'block' : 'none';\n",
              "\n",
              "        async function convertToInteractive(key) {\n",
              "          const element = document.querySelector('#df-5c7caa38-a02e-48e6-a66d-8c471fa9e5f2');\n",
              "          const dataTable =\n",
              "            await google.colab.kernel.invokeFunction('convertToInteractive',\n",
              "                                                     [key], {});\n",
              "          if (!dataTable) return;\n",
              "\n",
              "          const docLinkHtml = 'Like what you see? Visit the ' +\n",
              "            '<a target=\"_blank\" href=https://colab.research.google.com/notebooks/data_table.ipynb>data table notebook</a>'\n",
              "            + ' to learn more about interactive tables.';\n",
              "          element.innerHTML = '';\n",
              "          dataTable['output_type'] = 'display_data';\n",
              "          await google.colab.output.renderOutput(dataTable, element);\n",
              "          const docLink = document.createElement('div');\n",
              "          docLink.innerHTML = docLinkHtml;\n",
              "          element.appendChild(docLink);\n",
              "        }\n",
              "      </script>\n",
              "    </div>\n",
              "  </div>\n",
              "  "
            ]
          },
          "metadata": {},
          "execution_count": 285
        }
      ]
    },
    {
      "cell_type": "markdown",
      "metadata": {
        "id": "dyGX5NNVeFtP"
      },
      "source": [
        "#### As can be seen, the dataframe contains a row for each interval of 15 minutes between Jan 1, 2011 to Dec 31 2014. There are 370 columns corresponding 370 clients. The dataframe is indexed by the timestamp.\n",
        "\n",
        "Since the frequency is 15 minutes, each day provides $24\\times 4 = 96$ datapoints, which multiplied by 365 days and 4 years (plus 1 day in Feb 29, 2012) gives: $96 \\times 365 \\times 4 + 96 = 140256$, as observed in data.shape"
      ]
    },
    {
      "cell_type": "code",
      "metadata": {
        "id": "WCtWFf9BeFtS",
        "colab": {
          "base_uri": "https://localhost:8080/",
          "height": 393
        },
        "outputId": "89659ed3-e13f-4ce1-8057-bc215ea9c04a"
      },
      "source": [
        "data.describe()"
      ],
      "execution_count": 286,
      "outputs": [
        {
          "output_type": "execute_result",
          "data": {
            "text/plain": [
              "              MT_001         MT_002         MT_003         MT_004  \\\n",
              "count  140256.000000  140256.000000  140256.000000  140256.000000   \n",
              "mean        3.970785      20.768480       2.918308      82.184490   \n",
              "std         5.983965      13.272415      11.014456      58.248392   \n",
              "min         0.000000       0.000000       0.000000       0.000000   \n",
              "25%         0.000000       2.844950       0.000000      36.585366   \n",
              "50%         1.269036      24.893314       1.737619      87.398374   \n",
              "75%         2.538071      29.871977       1.737619     115.853659   \n",
              "max        48.223350     115.220484     151.172893     321.138211   \n",
              "\n",
              "              MT_005         MT_006         MT_007         MT_008  \\\n",
              "count  140256.000000  140256.000000  140256.000000  140256.000000   \n",
              "mean       37.240309     141.227385       4.521338     191.401476   \n",
              "std        26.461327      98.439984       6.485684     121.981187   \n",
              "min         0.000000       0.000000       0.000000       0.000000   \n",
              "25%        15.853659      71.428571       0.565291     111.111111   \n",
              "50%        39.024390     157.738095       2.826456     222.222222   \n",
              "75%        54.878049     205.357143       4.522329     279.461279   \n",
              "max       150.000000     535.714286      44.657999     552.188552   \n",
              "\n",
              "              MT_009         MT_010  ...         MT_361         MT_362  \\\n",
              "count  140256.000000  140256.000000  ...  140256.000000  140256.000000   \n",
              "mean       39.975354      42.205152  ...     218.213701   37607.987537   \n",
              "std        29.814595      33.401251  ...     204.833532   38691.954832   \n",
              "min         0.000000       0.000000  ...       0.000000       0.000000   \n",
              "25%        13.986014       9.677419  ...       5.710207       0.000000   \n",
              "50%        40.209790      40.860215  ...     131.334761   24100.000000   \n",
              "75%        57.692308      61.290323  ...     403.283369   54800.000000   \n",
              "max       157.342657     198.924731  ...     852.962170  192800.000000   \n",
              "\n",
              "              MT_363         MT_364         MT_365         MT_366  \\\n",
              "count  140256.000000  140256.000000  140256.000000  140256.000000   \n",
              "mean     1887.427366    2940.031734      65.413150       9.269709   \n",
              "std      1801.486488    2732.251967      65.007818      10.016782   \n",
              "min         0.000000       0.000000       0.000000       0.000000   \n",
              "25%         0.000000       0.000000      13.037810       0.000000   \n",
              "50%      1050.632911    2136.363636      31.290743       7.021650   \n",
              "75%      3312.236287    5363.636364     108.213820      11.702750   \n",
              "max      7751.054852   12386.363636     335.071708      60.269163   \n",
              "\n",
              "              MT_367         MT_368         MT_369         MT_370  \n",
              "count  140256.000000  140256.000000  140256.000000  140256.000000  \n",
              "mean      424.262904      94.704717     625.251734    8722.355145  \n",
              "std       274.337122      80.297301     380.656042    9195.155777  \n",
              "min         0.000000       0.000000       0.000000       0.000000  \n",
              "25%         0.000000      30.050083      83.944282       0.000000  \n",
              "50%       525.899912      76.794658     758.064516       0.000000  \n",
              "75%       627.743635     151.919866     875.366569   17783.783784  \n",
              "max      1138.718174     362.270451    1549.120235   30918.918919  \n",
              "\n",
              "[8 rows x 370 columns]"
            ],
            "text/html": [
              "\n",
              "  <div id=\"df-820fc3d1-94c7-41b6-a94d-207a69e75c04\">\n",
              "    <div class=\"colab-df-container\">\n",
              "      <div>\n",
              "<style scoped>\n",
              "    .dataframe tbody tr th:only-of-type {\n",
              "        vertical-align: middle;\n",
              "    }\n",
              "\n",
              "    .dataframe tbody tr th {\n",
              "        vertical-align: top;\n",
              "    }\n",
              "\n",
              "    .dataframe thead th {\n",
              "        text-align: right;\n",
              "    }\n",
              "</style>\n",
              "<table border=\"1\" class=\"dataframe\">\n",
              "  <thead>\n",
              "    <tr style=\"text-align: right;\">\n",
              "      <th></th>\n",
              "      <th>MT_001</th>\n",
              "      <th>MT_002</th>\n",
              "      <th>MT_003</th>\n",
              "      <th>MT_004</th>\n",
              "      <th>MT_005</th>\n",
              "      <th>MT_006</th>\n",
              "      <th>MT_007</th>\n",
              "      <th>MT_008</th>\n",
              "      <th>MT_009</th>\n",
              "      <th>MT_010</th>\n",
              "      <th>...</th>\n",
              "      <th>MT_361</th>\n",
              "      <th>MT_362</th>\n",
              "      <th>MT_363</th>\n",
              "      <th>MT_364</th>\n",
              "      <th>MT_365</th>\n",
              "      <th>MT_366</th>\n",
              "      <th>MT_367</th>\n",
              "      <th>MT_368</th>\n",
              "      <th>MT_369</th>\n",
              "      <th>MT_370</th>\n",
              "    </tr>\n",
              "  </thead>\n",
              "  <tbody>\n",
              "    <tr>\n",
              "      <th>count</th>\n",
              "      <td>140256.000000</td>\n",
              "      <td>140256.000000</td>\n",
              "      <td>140256.000000</td>\n",
              "      <td>140256.000000</td>\n",
              "      <td>140256.000000</td>\n",
              "      <td>140256.000000</td>\n",
              "      <td>140256.000000</td>\n",
              "      <td>140256.000000</td>\n",
              "      <td>140256.000000</td>\n",
              "      <td>140256.000000</td>\n",
              "      <td>...</td>\n",
              "      <td>140256.000000</td>\n",
              "      <td>140256.000000</td>\n",
              "      <td>140256.000000</td>\n",
              "      <td>140256.000000</td>\n",
              "      <td>140256.000000</td>\n",
              "      <td>140256.000000</td>\n",
              "      <td>140256.000000</td>\n",
              "      <td>140256.000000</td>\n",
              "      <td>140256.000000</td>\n",
              "      <td>140256.000000</td>\n",
              "    </tr>\n",
              "    <tr>\n",
              "      <th>mean</th>\n",
              "      <td>3.970785</td>\n",
              "      <td>20.768480</td>\n",
              "      <td>2.918308</td>\n",
              "      <td>82.184490</td>\n",
              "      <td>37.240309</td>\n",
              "      <td>141.227385</td>\n",
              "      <td>4.521338</td>\n",
              "      <td>191.401476</td>\n",
              "      <td>39.975354</td>\n",
              "      <td>42.205152</td>\n",
              "      <td>...</td>\n",
              "      <td>218.213701</td>\n",
              "      <td>37607.987537</td>\n",
              "      <td>1887.427366</td>\n",
              "      <td>2940.031734</td>\n",
              "      <td>65.413150</td>\n",
              "      <td>9.269709</td>\n",
              "      <td>424.262904</td>\n",
              "      <td>94.704717</td>\n",
              "      <td>625.251734</td>\n",
              "      <td>8722.355145</td>\n",
              "    </tr>\n",
              "    <tr>\n",
              "      <th>std</th>\n",
              "      <td>5.983965</td>\n",
              "      <td>13.272415</td>\n",
              "      <td>11.014456</td>\n",
              "      <td>58.248392</td>\n",
              "      <td>26.461327</td>\n",
              "      <td>98.439984</td>\n",
              "      <td>6.485684</td>\n",
              "      <td>121.981187</td>\n",
              "      <td>29.814595</td>\n",
              "      <td>33.401251</td>\n",
              "      <td>...</td>\n",
              "      <td>204.833532</td>\n",
              "      <td>38691.954832</td>\n",
              "      <td>1801.486488</td>\n",
              "      <td>2732.251967</td>\n",
              "      <td>65.007818</td>\n",
              "      <td>10.016782</td>\n",
              "      <td>274.337122</td>\n",
              "      <td>80.297301</td>\n",
              "      <td>380.656042</td>\n",
              "      <td>9195.155777</td>\n",
              "    </tr>\n",
              "    <tr>\n",
              "      <th>min</th>\n",
              "      <td>0.000000</td>\n",
              "      <td>0.000000</td>\n",
              "      <td>0.000000</td>\n",
              "      <td>0.000000</td>\n",
              "      <td>0.000000</td>\n",
              "      <td>0.000000</td>\n",
              "      <td>0.000000</td>\n",
              "      <td>0.000000</td>\n",
              "      <td>0.000000</td>\n",
              "      <td>0.000000</td>\n",
              "      <td>...</td>\n",
              "      <td>0.000000</td>\n",
              "      <td>0.000000</td>\n",
              "      <td>0.000000</td>\n",
              "      <td>0.000000</td>\n",
              "      <td>0.000000</td>\n",
              "      <td>0.000000</td>\n",
              "      <td>0.000000</td>\n",
              "      <td>0.000000</td>\n",
              "      <td>0.000000</td>\n",
              "      <td>0.000000</td>\n",
              "    </tr>\n",
              "    <tr>\n",
              "      <th>25%</th>\n",
              "      <td>0.000000</td>\n",
              "      <td>2.844950</td>\n",
              "      <td>0.000000</td>\n",
              "      <td>36.585366</td>\n",
              "      <td>15.853659</td>\n",
              "      <td>71.428571</td>\n",
              "      <td>0.565291</td>\n",
              "      <td>111.111111</td>\n",
              "      <td>13.986014</td>\n",
              "      <td>9.677419</td>\n",
              "      <td>...</td>\n",
              "      <td>5.710207</td>\n",
              "      <td>0.000000</td>\n",
              "      <td>0.000000</td>\n",
              "      <td>0.000000</td>\n",
              "      <td>13.037810</td>\n",
              "      <td>0.000000</td>\n",
              "      <td>0.000000</td>\n",
              "      <td>30.050083</td>\n",
              "      <td>83.944282</td>\n",
              "      <td>0.000000</td>\n",
              "    </tr>\n",
              "    <tr>\n",
              "      <th>50%</th>\n",
              "      <td>1.269036</td>\n",
              "      <td>24.893314</td>\n",
              "      <td>1.737619</td>\n",
              "      <td>87.398374</td>\n",
              "      <td>39.024390</td>\n",
              "      <td>157.738095</td>\n",
              "      <td>2.826456</td>\n",
              "      <td>222.222222</td>\n",
              "      <td>40.209790</td>\n",
              "      <td>40.860215</td>\n",
              "      <td>...</td>\n",
              "      <td>131.334761</td>\n",
              "      <td>24100.000000</td>\n",
              "      <td>1050.632911</td>\n",
              "      <td>2136.363636</td>\n",
              "      <td>31.290743</td>\n",
              "      <td>7.021650</td>\n",
              "      <td>525.899912</td>\n",
              "      <td>76.794658</td>\n",
              "      <td>758.064516</td>\n",
              "      <td>0.000000</td>\n",
              "    </tr>\n",
              "    <tr>\n",
              "      <th>75%</th>\n",
              "      <td>2.538071</td>\n",
              "      <td>29.871977</td>\n",
              "      <td>1.737619</td>\n",
              "      <td>115.853659</td>\n",
              "      <td>54.878049</td>\n",
              "      <td>205.357143</td>\n",
              "      <td>4.522329</td>\n",
              "      <td>279.461279</td>\n",
              "      <td>57.692308</td>\n",
              "      <td>61.290323</td>\n",
              "      <td>...</td>\n",
              "      <td>403.283369</td>\n",
              "      <td>54800.000000</td>\n",
              "      <td>3312.236287</td>\n",
              "      <td>5363.636364</td>\n",
              "      <td>108.213820</td>\n",
              "      <td>11.702750</td>\n",
              "      <td>627.743635</td>\n",
              "      <td>151.919866</td>\n",
              "      <td>875.366569</td>\n",
              "      <td>17783.783784</td>\n",
              "    </tr>\n",
              "    <tr>\n",
              "      <th>max</th>\n",
              "      <td>48.223350</td>\n",
              "      <td>115.220484</td>\n",
              "      <td>151.172893</td>\n",
              "      <td>321.138211</td>\n",
              "      <td>150.000000</td>\n",
              "      <td>535.714286</td>\n",
              "      <td>44.657999</td>\n",
              "      <td>552.188552</td>\n",
              "      <td>157.342657</td>\n",
              "      <td>198.924731</td>\n",
              "      <td>...</td>\n",
              "      <td>852.962170</td>\n",
              "      <td>192800.000000</td>\n",
              "      <td>7751.054852</td>\n",
              "      <td>12386.363636</td>\n",
              "      <td>335.071708</td>\n",
              "      <td>60.269163</td>\n",
              "      <td>1138.718174</td>\n",
              "      <td>362.270451</td>\n",
              "      <td>1549.120235</td>\n",
              "      <td>30918.918919</td>\n",
              "    </tr>\n",
              "  </tbody>\n",
              "</table>\n",
              "<p>8 rows × 370 columns</p>\n",
              "</div>\n",
              "      <button class=\"colab-df-convert\" onclick=\"convertToInteractive('df-820fc3d1-94c7-41b6-a94d-207a69e75c04')\"\n",
              "              title=\"Convert this dataframe to an interactive table.\"\n",
              "              style=\"display:none;\">\n",
              "        \n",
              "  <svg xmlns=\"http://www.w3.org/2000/svg\" height=\"24px\"viewBox=\"0 0 24 24\"\n",
              "       width=\"24px\">\n",
              "    <path d=\"M0 0h24v24H0V0z\" fill=\"none\"/>\n",
              "    <path d=\"M18.56 5.44l.94 2.06.94-2.06 2.06-.94-2.06-.94-.94-2.06-.94 2.06-2.06.94zm-11 1L8.5 8.5l.94-2.06 2.06-.94-2.06-.94L8.5 2.5l-.94 2.06-2.06.94zm10 10l.94 2.06.94-2.06 2.06-.94-2.06-.94-.94-2.06-.94 2.06-2.06.94z\"/><path d=\"M17.41 7.96l-1.37-1.37c-.4-.4-.92-.59-1.43-.59-.52 0-1.04.2-1.43.59L10.3 9.45l-7.72 7.72c-.78.78-.78 2.05 0 2.83L4 21.41c.39.39.9.59 1.41.59.51 0 1.02-.2 1.41-.59l7.78-7.78 2.81-2.81c.8-.78.8-2.07 0-2.86zM5.41 20L4 18.59l7.72-7.72 1.47 1.35L5.41 20z\"/>\n",
              "  </svg>\n",
              "      </button>\n",
              "      \n",
              "  <style>\n",
              "    .colab-df-container {\n",
              "      display:flex;\n",
              "      flex-wrap:wrap;\n",
              "      gap: 12px;\n",
              "    }\n",
              "\n",
              "    .colab-df-convert {\n",
              "      background-color: #E8F0FE;\n",
              "      border: none;\n",
              "      border-radius: 50%;\n",
              "      cursor: pointer;\n",
              "      display: none;\n",
              "      fill: #1967D2;\n",
              "      height: 32px;\n",
              "      padding: 0 0 0 0;\n",
              "      width: 32px;\n",
              "    }\n",
              "\n",
              "    .colab-df-convert:hover {\n",
              "      background-color: #E2EBFA;\n",
              "      box-shadow: 0px 1px 2px rgba(60, 64, 67, 0.3), 0px 1px 3px 1px rgba(60, 64, 67, 0.15);\n",
              "      fill: #174EA6;\n",
              "    }\n",
              "\n",
              "    [theme=dark] .colab-df-convert {\n",
              "      background-color: #3B4455;\n",
              "      fill: #D2E3FC;\n",
              "    }\n",
              "\n",
              "    [theme=dark] .colab-df-convert:hover {\n",
              "      background-color: #434B5C;\n",
              "      box-shadow: 0px 1px 3px 1px rgba(0, 0, 0, 0.15);\n",
              "      filter: drop-shadow(0px 1px 2px rgba(0, 0, 0, 0.3));\n",
              "      fill: #FFFFFF;\n",
              "    }\n",
              "  </style>\n",
              "\n",
              "      <script>\n",
              "        const buttonEl =\n",
              "          document.querySelector('#df-820fc3d1-94c7-41b6-a94d-207a69e75c04 button.colab-df-convert');\n",
              "        buttonEl.style.display =\n",
              "          google.colab.kernel.accessAllowed ? 'block' : 'none';\n",
              "\n",
              "        async function convertToInteractive(key) {\n",
              "          const element = document.querySelector('#df-820fc3d1-94c7-41b6-a94d-207a69e75c04');\n",
              "          const dataTable =\n",
              "            await google.colab.kernel.invokeFunction('convertToInteractive',\n",
              "                                                     [key], {});\n",
              "          if (!dataTable) return;\n",
              "\n",
              "          const docLinkHtml = 'Like what you see? Visit the ' +\n",
              "            '<a target=\"_blank\" href=https://colab.research.google.com/notebooks/data_table.ipynb>data table notebook</a>'\n",
              "            + ' to learn more about interactive tables.';\n",
              "          element.innerHTML = '';\n",
              "          dataTable['output_type'] = 'display_data';\n",
              "          await google.colab.output.renderOutput(dataTable, element);\n",
              "          const docLink = document.createElement('div');\n",
              "          docLink.innerHTML = docLinkHtml;\n",
              "          element.appendChild(docLink);\n",
              "        }\n",
              "      </script>\n",
              "    </div>\n",
              "  </div>\n",
              "  "
            ]
          },
          "metadata": {},
          "execution_count": 286
        }
      ]
    },
    {
      "cell_type": "code",
      "metadata": {
        "id": "8Chw0xxZopMH",
        "colab": {
          "base_uri": "https://localhost:8080/",
          "height": 282
        },
        "outputId": "0da60bb8-52b7-48d4-8416-646e8211592f"
      },
      "source": [
        "data_example = data.loc['2012-01-01 00:15:00':'2012-01-03 00:00:00'][['MT_001','MT_002']]\n",
        "data_example.plot()\n",
        "plt.show()"
      ],
      "execution_count": 287,
      "outputs": [
        {
          "output_type": "display_data",
          "data": {
            "text/plain": [
              "<Figure size 432x288 with 1 Axes>"
            ],
            "image/png": "[encoded data removed]"
          },
          "metadata": {}
        }
      ]
    },
    {
      "cell_type": "markdown",
      "metadata": {
        "id": "PliovQiueFtV"
      },
      "source": [
        "### Plot the 2 days of 2012 for the first 2 clients"
      ]
    },
    {
      "cell_type": "code",
      "metadata": {
        "id": "BQ1rHHspeFtV",
        "colab": {
          "base_uri": "https://localhost:8080/",
          "height": 282
        },
        "outputId": "bdf6cfe5-1bed-4b56-f2eb-328f12c20b6c"
      },
      "source": [
        "data_example = data.loc['2012-01-01 00:15:00':'2012-01-03 00:00:00'][['MT_001','MT_002']]\n",
        "data_example.plot()\n",
        "plt.show()"
      ],
      "execution_count": 288,
      "outputs": [
        {
          "output_type": "display_data",
          "data": {
            "text/plain": [
              "<Figure size 432x288 with 1 Axes>"
            ],
            "image/png": "[encoded data removed]"
          },
          "metadata": {}
        }
      ]
    },
    {
      "cell_type": "markdown",
      "metadata": {
        "id": "tsxn0FvXeFtZ"
      },
      "source": [
        "#### Very Important Note: \n",
        "We quickly note that the main difference between the curves is the level (also seen on the means in df.describe()), so we know we will have to somehow normalize the curves, in order for the clustering technique to capture the behaviour of the consumption throughout the day, rather than the overall level."
      ]
    },
    {
      "cell_type": "markdown",
      "metadata": {
        "id": "pGxbwhrueFtZ"
      },
      "source": [
        "### Data for the analysis\n",
        "\n",
        "We focus on 2013 and 2014 because these are the years with lower number of clients having zero demand"
      ]
    },
    {
      "cell_type": "code",
      "source": [
        "print(f\"Number of rows with missing values: {data.isnull().any(axis=1).mean()}\")"
      ],
      "metadata": {
        "colab": {
          "base_uri": "https://localhost:8080/"
        },
        "id": "7NnDKK9-q2PX",
        "outputId": "bfde5579-f471-4b40-a522-2a2422f43d33"
      },
      "execution_count": 289,
      "outputs": [
        {
          "output_type": "stream",
          "name": "stdout",
          "text": [
            "Number of rows with missing values: 0.0\n"
          ]
        }
      ]
    },
    {
      "cell_type": "code",
      "metadata": {
        "id": "rOkMpq4ceFta"
      },
      "source": [
        "data2011 = data.loc['2011-01-01 00:15:00':'2012-01-01 00:00:00']\n",
        "data2012 = data.loc['2012-01-01 00:15:00':'2013-01-01 00:00:00']\n",
        "data2013 = data.loc['2013-01-01 00:15:00':'2014-01-01 00:00:00']\n",
        "data2014 = data.loc['2014-01-01 00:15:00':'2015-01-01 00:00:00']"
      ],
      "execution_count": 290,
      "outputs": []
    },
    {
      "cell_type": "code",
      "metadata": {
        "id": "Eq4fatz3eFtd",
        "colab": {
          "base_uri": "https://localhost:8080/"
        },
        "outputId": "d5814ca7-7e51-4cb1-a5cd-83b7ee2a2683"
      },
      "source": [
        "# Check number of days\n",
        "print(data2011.shape[0]/96)\n",
        "print(data2012.shape[0]/96)\n",
        "print(data2013.shape[0]/96)\n",
        "print(data2014.shape[0]/96)"
      ],
      "execution_count": 291,
      "outputs": [
        {
          "output_type": "stream",
          "name": "stdout",
          "text": [
            "365.0\n",
            "366.0\n",
            "365.0\n",
            "365.0\n"
          ]
        }
      ]
    },
    {
      "cell_type": "code",
      "metadata": {
        "id": "iotkoGCgeFth",
        "colab": {
          "base_uri": "https://localhost:8080/"
        },
        "outputId": "fb6d361a-6ffe-4e03-c3c5-34913bafc0dd"
      },
      "source": [
        "# See number of clients with 0 demand per year\n",
        "print(sum(data2011.mean()==0))\n",
        "print(sum(data2012.mean()==0))\n",
        "print(sum(data2013.mean()==0))\n",
        "print(sum(data2014.mean()==0))"
      ],
      "execution_count": 292,
      "outputs": [
        {
          "output_type": "stream",
          "name": "stdout",
          "text": [
            "210\n",
            "37\n",
            "21\n",
            "1\n"
          ]
        }
      ]
    },
    {
      "cell_type": "code",
      "metadata": {
        "id": "z1O_kTHOeFtk",
        "colab": {
          "base_uri": "https://localhost:8080/"
        },
        "outputId": "3c9a055c-ed19-415c-c32d-57ec31b1533c"
      },
      "source": [
        "clients = data2011.columns\n",
        "clients_no_demand = clients[data2013.mean()==0] # clients with 0 demand\n",
        "\n",
        "# Add data of 2014 at the end of df consist of 2013 data\n",
        "\n",
        "data_13_14 = data2013.append(data2014) # appending 2013 and 2014\n",
        "\n",
        "# drop clients with 0 demand\n",
        "data_13_14 = data_13_14.drop(clients_no_demand, axis=1) \n",
        "print(data_13_14.shape)\n",
        "print(sum(data_13_14.mean()==0)) # check that there are no clients with 0 demand"
      ],
      "execution_count": 293,
      "outputs": [
        {
          "output_type": "stream",
          "name": "stdout",
          "text": [
            "(70080, 349)\n",
            "0\n"
          ]
        }
      ]
    },
    {
      "cell_type": "code",
      "metadata": {
        "id": "GlsCu2OybOru",
        "colab": {
          "base_uri": "https://localhost:8080/",
          "height": 834
        },
        "outputId": "73f48470-22fa-49ad-b2f2-81b25b5ddfc9"
      },
      "source": [
        "data_13_14.copy()"
      ],
      "execution_count": 294,
      "outputs": [
        {
          "output_type": "execute_result",
          "data": {
            "text/plain": [
              "                       MT_001     MT_002    MT_003      MT_004     MT_005  \\\n",
              "2013-01-01 00:15:00  2.538071  22.759602  2.606429  138.211382  63.414634   \n",
              "2013-01-01 00:30:00  1.269036  22.759602  2.606429  138.211382  63.414634   \n",
              "2013-01-01 00:45:00  2.538071  22.759602  2.606429  134.146341  60.975610   \n",
              "2013-01-01 01:00:00  1.269036  23.470839  2.606429  130.081301  56.097561   \n",
              "2013-01-01 01:15:00  3.807107  23.470839  2.606429  130.081301  58.536585   \n",
              "...                       ...        ...       ...         ...        ...   \n",
              "2014-12-31 23:00:00  2.538071  22.048364  1.737619  150.406504  85.365854   \n",
              "2014-12-31 23:15:00  2.538071  21.337127  1.737619  166.666667  81.707317   \n",
              "2014-12-31 23:30:00  2.538071  20.625889  1.737619  162.601626  82.926829   \n",
              "2014-12-31 23:45:00  1.269036  21.337127  1.737619  166.666667  85.365854   \n",
              "2015-01-01 00:00:00  2.538071  19.914651  1.737619  178.861789  84.146341   \n",
              "\n",
              "                         MT_006     MT_007      MT_008     MT_009     MT_010  \\\n",
              "2013-01-01 00:15:00  255.952381   4.522329  239.057239  57.692308  78.494624   \n",
              "2013-01-01 00:30:00  264.880952   5.652911  228.956229  57.692308  76.344086   \n",
              "2013-01-01 00:45:00  250.000000   5.652911  239.057239  54.195804  76.344086   \n",
              "2013-01-01 01:00:00  226.190476   6.218202  249.158249  50.699301  75.268817   \n",
              "2013-01-01 01:15:00  229.166667   6.783493  239.057239  57.692308  74.193548   \n",
              "...                         ...        ...         ...        ...        ...   \n",
              "2014-12-31 23:00:00  303.571429  11.305822  282.828283  68.181818  72.043011   \n",
              "2014-12-31 23:15:00  324.404762  11.305822  252.525253  64.685315  72.043011   \n",
              "2014-12-31 23:30:00  318.452381  10.175240  242.424242  61.188811  74.193548   \n",
              "2014-12-31 23:45:00  285.714286  10.175240  225.589226  64.685315  72.043011   \n",
              "2015-01-01 00:00:00  279.761905  10.175240  249.158249  62.937063  69.892473   \n",
              "\n",
              "                     ...      MT_361   MT_362       MT_363       MT_364  \\\n",
              "2013-01-01 00:15:00  ...   64.953605  22300.0   886.075949  1000.000000   \n",
              "2013-01-01 00:30:00  ...   61.384725  21000.0   864.978903   909.090909   \n",
              "2013-01-01 00:45:00  ...   42.826552  18200.0   860.759494   840.909091   \n",
              "2013-01-01 01:00:00  ...   44.254104  15800.0   860.759494   840.909091   \n",
              "2013-01-01 01:15:00  ...   44.254104  15000.0   793.248945   818.181818   \n",
              "...                  ...         ...      ...          ...          ...   \n",
              "2014-12-31 23:00:00  ...  276.945039  28200.0  1616.033755  1363.636364   \n",
              "2014-12-31 23:15:00  ...  279.800143  28300.0  1569.620253  1340.909091   \n",
              "2014-12-31 23:30:00  ...  284.796574  27800.0  1556.962025  1318.181818   \n",
              "2014-12-31 23:45:00  ...  246.252677  28000.0  1443.037975   909.090909   \n",
              "2015-01-01 00:00:00  ...  188.436831  27800.0  1409.282700   954.545455   \n",
              "\n",
              "                        MT_365    MT_366      MT_367      MT_368      MT_369  \\\n",
              "2013-01-01 00:15:00  16.949153  6.436513  616.330114   76.794658  731.671554   \n",
              "2013-01-01 00:30:00  18.252934  3.510825  564.530290   76.794658  727.272727   \n",
              "2013-01-01 00:45:00  16.949153  5.851375  590.869183   68.447412  730.205279   \n",
              "2013-01-01 01:00:00  16.949153  4.095963  575.065847   58.430718  722.873900   \n",
              "2013-01-01 01:15:00  16.949153  4.095963  570.676032   60.100167  748.533724   \n",
              "...                        ...       ...         ...         ...         ...   \n",
              "2014-12-31 23:00:00  29.986962  5.851375  697.102722  176.961603  651.026393   \n",
              "2014-12-31 23:15:00  29.986962  9.947338  671.641791  168.614357  669.354839   \n",
              "2014-12-31 23:30:00  27.379400  9.362200  670.763828  153.589316  670.087977   \n",
              "2014-12-31 23:45:00  26.075619  4.095963  664.618086  146.911519  646.627566   \n",
              "2015-01-01 00:00:00  27.379400  4.095963  628.621598  131.886477  673.020528   \n",
              "\n",
              "                          MT_370  \n",
              "2013-01-01 00:15:00  8086.486486  \n",
              "2013-01-01 00:30:00  8086.486486  \n",
              "2013-01-01 00:45:00  7848.648649  \n",
              "2013-01-01 01:00:00  7848.648649  \n",
              "2013-01-01 01:15:00  7610.810811  \n",
              "...                          ...  \n",
              "2014-12-31 23:00:00  7621.621622  \n",
              "2014-12-31 23:15:00  6702.702703  \n",
              "2014-12-31 23:30:00  6864.864865  \n",
              "2014-12-31 23:45:00  6540.540541  \n",
              "2015-01-01 00:00:00  7135.135135  \n",
              "\n",
              "[70080 rows x 349 columns]"
            ],
            "text/html": [
              "\n",
              "  <div id=\"df-3e12a03f-0355-4fa5-bc2d-0d81e611e18c\">\n",
              "    <div class=\"colab-df-container\">\n",
              "      <div>\n",
              "<style scoped>\n",
              "    .dataframe tbody tr th:only-of-type {\n",
              "        vertical-align: middle;\n",
              "    }\n",
              "\n",
              "    .dataframe tbody tr th {\n",
              "        vertical-align: top;\n",
              "    }\n",
              "\n",
              "    .dataframe thead th {\n",
              "        text-align: right;\n",
              "    }\n",
              "</style>\n",
              "<table border=\"1\" class=\"dataframe\">\n",
              "  <thead>\n",
              "    <tr style=\"text-align: right;\">\n",
              "      <th></th>\n",
              "      <th>MT_001</th>\n",
              "      <th>MT_002</th>\n",
              "      <th>MT_003</th>\n",
              "      <th>MT_004</th>\n",
              "      <th>MT_005</th>\n",
              "      <th>MT_006</th>\n",
              "      <th>MT_007</th>\n",
              "      <th>MT_008</th>\n",
              "      <th>MT_009</th>\n",
              "      <th>MT_010</th>\n",
              "      <th>...</th>\n",
              "      <th>MT_361</th>\n",
              "      <th>MT_362</th>\n",
              "      <th>MT_363</th>\n",
              "      <th>MT_364</th>\n",
              "      <th>MT_365</th>\n",
              "      <th>MT_366</th>\n",
              "      <th>MT_367</th>\n",
              "      <th>MT_368</th>\n",
              "      <th>MT_369</th>\n",
              "      <th>MT_370</th>\n",
              "    </tr>\n",
              "  </thead>\n",
              "  <tbody>\n",
              "    <tr>\n",
              "      <th>2013-01-01 00:15:00</th>\n",
              "      <td>2.538071</td>\n",
              "      <td>22.759602</td>\n",
              "      <td>2.606429</td>\n",
              "      <td>138.211382</td>\n",
              "      <td>63.414634</td>\n",
              "      <td>255.952381</td>\n",
              "      <td>4.522329</td>\n",
              "      <td>239.057239</td>\n",
              "      <td>57.692308</td>\n",
              "      <td>78.494624</td>\n",
              "      <td>...</td>\n",
              "      <td>64.953605</td>\n",
              "      <td>22300.0</td>\n",
              "      <td>886.075949</td>\n",
              "      <td>1000.000000</td>\n",
              "      <td>16.949153</td>\n",
              "      <td>6.436513</td>\n",
              "      <td>616.330114</td>\n",
              "      <td>76.794658</td>\n",
              "      <td>731.671554</td>\n",
              "      <td>8086.486486</td>\n",
              "    </tr>\n",
              "    <tr>\n",
              "      <th>2013-01-01 00:30:00</th>\n",
              "      <td>1.269036</td>\n",
              "      <td>22.759602</td>\n",
              "      <td>2.606429</td>\n",
              "      <td>138.211382</td>\n",
              "      <td>63.414634</td>\n",
              "      <td>264.880952</td>\n",
              "      <td>5.652911</td>\n",
              "      <td>228.956229</td>\n",
              "      <td>57.692308</td>\n",
              "      <td>76.344086</td>\n",
              "      <td>...</td>\n",
              "      <td>61.384725</td>\n",
              "      <td>21000.0</td>\n",
              "      <td>864.978903</td>\n",
              "      <td>909.090909</td>\n",
              "      <td>18.252934</td>\n",
              "      <td>3.510825</td>\n",
              "      <td>564.530290</td>\n",
              "      <td>76.794658</td>\n",
              "      <td>727.272727</td>\n",
              "      <td>8086.486486</td>\n",
              "    </tr>\n",
              "    <tr>\n",
              "      <th>2013-01-01 00:45:00</th>\n",
              "      <td>2.538071</td>\n",
              "      <td>22.759602</td>\n",
              "      <td>2.606429</td>\n",
              "      <td>134.146341</td>\n",
              "      <td>60.975610</td>\n",
              "      <td>250.000000</td>\n",
              "      <td>5.652911</td>\n",
              "      <td>239.057239</td>\n",
              "      <td>54.195804</td>\n",
              "      <td>76.344086</td>\n",
              "      <td>...</td>\n",
              "      <td>42.826552</td>\n",
              "      <td>18200.0</td>\n",
              "      <td>860.759494</td>\n",
              "      <td>840.909091</td>\n",
              "      <td>16.949153</td>\n",
              "      <td>5.851375</td>\n",
              "      <td>590.869183</td>\n",
              "      <td>68.447412</td>\n",
              "      <td>730.205279</td>\n",
              "      <td>7848.648649</td>\n",
              "    </tr>\n",
              "    <tr>\n",
              "      <th>2013-01-01 01:00:00</th>\n",
              "      <td>1.269036</td>\n",
              "      <td>23.470839</td>\n",
              "      <td>2.606429</td>\n",
              "      <td>130.081301</td>\n",
              "      <td>56.097561</td>\n",
              "      <td>226.190476</td>\n",
              "      <td>6.218202</td>\n",
              "      <td>249.158249</td>\n",
              "      <td>50.699301</td>\n",
              "      <td>75.268817</td>\n",
              "      <td>...</td>\n",
              "      <td>44.254104</td>\n",
              "      <td>15800.0</td>\n",
              "      <td>860.759494</td>\n",
              "      <td>840.909091</td>\n",
              "      <td>16.949153</td>\n",
              "      <td>4.095963</td>\n",
              "      <td>575.065847</td>\n",
              "      <td>58.430718</td>\n",
              "      <td>722.873900</td>\n",
              "      <td>7848.648649</td>\n",
              "    </tr>\n",
              "    <tr>\n",
              "      <th>2013-01-01 01:15:00</th>\n",
              "      <td>3.807107</td>\n",
              "      <td>23.470839</td>\n",
              "      <td>2.606429</td>\n",
              "      <td>130.081301</td>\n",
              "      <td>58.536585</td>\n",
              "      <td>229.166667</td>\n",
              "      <td>6.783493</td>\n",
              "      <td>239.057239</td>\n",
              "      <td>57.692308</td>\n",
              "      <td>74.193548</td>\n",
              "      <td>...</td>\n",
              "      <td>44.254104</td>\n",
              "      <td>15000.0</td>\n",
              "      <td>793.248945</td>\n",
              "      <td>818.181818</td>\n",
              "      <td>16.949153</td>\n",
              "      <td>4.095963</td>\n",
              "      <td>570.676032</td>\n",
              "      <td>60.100167</td>\n",
              "      <td>748.533724</td>\n",
              "      <td>7610.810811</td>\n",
              "    </tr>\n",
              "    <tr>\n",
              "      <th>...</th>\n",
              "      <td>...</td>\n",
              "      <td>...</td>\n",
              "      <td>...</td>\n",
              "      <td>...</td>\n",
              "      <td>...</td>\n",
              "      <td>...</td>\n",
              "      <td>...</td>\n",
              "      <td>...</td>\n",
              "      <td>...</td>\n",
              "      <td>...</td>\n",
              "      <td>...</td>\n",
              "      <td>...</td>\n",
              "      <td>...</td>\n",
              "      <td>...</td>\n",
              "      <td>...</td>\n",
              "      <td>...</td>\n",
              "      <td>...</td>\n",
              "      <td>...</td>\n",
              "      <td>...</td>\n",
              "      <td>...</td>\n",
              "      <td>...</td>\n",
              "    </tr>\n",
              "    <tr>\n",
              "      <th>2014-12-31 23:00:00</th>\n",
              "      <td>2.538071</td>\n",
              "      <td>22.048364</td>\n",
              "      <td>1.737619</td>\n",
              "      <td>150.406504</td>\n",
              "      <td>85.365854</td>\n",
              "      <td>303.571429</td>\n",
              "      <td>11.305822</td>\n",
              "      <td>282.828283</td>\n",
              "      <td>68.181818</td>\n",
              "      <td>72.043011</td>\n",
              "      <td>...</td>\n",
              "      <td>276.945039</td>\n",
              "      <td>28200.0</td>\n",
              "      <td>1616.033755</td>\n",
              "      <td>1363.636364</td>\n",
              "      <td>29.986962</td>\n",
              "      <td>5.851375</td>\n",
              "      <td>697.102722</td>\n",
              "      <td>176.961603</td>\n",
              "      <td>651.026393</td>\n",
              "      <td>7621.621622</td>\n",
              "    </tr>\n",
              "    <tr>\n",
              "      <th>2014-12-31 23:15:00</th>\n",
              "      <td>2.538071</td>\n",
              "      <td>21.337127</td>\n",
              "      <td>1.737619</td>\n",
              "      <td>166.666667</td>\n",
              "      <td>81.707317</td>\n",
              "      <td>324.404762</td>\n",
              "      <td>11.305822</td>\n",
              "      <td>252.525253</td>\n",
              "      <td>64.685315</td>\n",
              "      <td>72.043011</td>\n",
              "      <td>...</td>\n",
              "      <td>279.800143</td>\n",
              "      <td>28300.0</td>\n",
              "      <td>1569.620253</td>\n",
              "      <td>1340.909091</td>\n",
              "      <td>29.986962</td>\n",
              "      <td>9.947338</td>\n",
              "      <td>671.641791</td>\n",
              "      <td>168.614357</td>\n",
              "      <td>669.354839</td>\n",
              "      <td>6702.702703</td>\n",
              "    </tr>\n",
              "    <tr>\n",
              "      <th>2014-12-31 23:30:00</th>\n",
              "      <td>2.538071</td>\n",
              "      <td>20.625889</td>\n",
              "      <td>1.737619</td>\n",
              "      <td>162.601626</td>\n",
              "      <td>82.926829</td>\n",
              "      <td>318.452381</td>\n",
              "      <td>10.175240</td>\n",
              "      <td>242.424242</td>\n",
              "      <td>61.188811</td>\n",
              "      <td>74.193548</td>\n",
              "      <td>...</td>\n",
              "      <td>284.796574</td>\n",
              "      <td>27800.0</td>\n",
              "      <td>1556.962025</td>\n",
              "      <td>1318.181818</td>\n",
              "      <td>27.379400</td>\n",
              "      <td>9.362200</td>\n",
              "      <td>670.763828</td>\n",
              "      <td>153.589316</td>\n",
              "      <td>670.087977</td>\n",
              "      <td>6864.864865</td>\n",
              "    </tr>\n",
              "    <tr>\n",
              "      <th>2014-12-31 23:45:00</th>\n",
              "      <td>1.269036</td>\n",
              "      <td>21.337127</td>\n",
              "      <td>1.737619</td>\n",
              "      <td>166.666667</td>\n",
              "      <td>85.365854</td>\n",
              "      <td>285.714286</td>\n",
              "      <td>10.175240</td>\n",
              "      <td>225.589226</td>\n",
              "      <td>64.685315</td>\n",
              "      <td>72.043011</td>\n",
              "      <td>...</td>\n",
              "      <td>246.252677</td>\n",
              "      <td>28000.0</td>\n",
              "      <td>1443.037975</td>\n",
              "      <td>909.090909</td>\n",
              "      <td>26.075619</td>\n",
              "      <td>4.095963</td>\n",
              "      <td>664.618086</td>\n",
              "      <td>146.911519</td>\n",
              "      <td>646.627566</td>\n",
              "      <td>6540.540541</td>\n",
              "    </tr>\n",
              "    <tr>\n",
              "      <th>2015-01-01 00:00:00</th>\n",
              "      <td>2.538071</td>\n",
              "      <td>19.914651</td>\n",
              "      <td>1.737619</td>\n",
              "      <td>178.861789</td>\n",
              "      <td>84.146341</td>\n",
              "      <td>279.761905</td>\n",
              "      <td>10.175240</td>\n",
              "      <td>249.158249</td>\n",
              "      <td>62.937063</td>\n",
              "      <td>69.892473</td>\n",
              "      <td>...</td>\n",
              "      <td>188.436831</td>\n",
              "      <td>27800.0</td>\n",
              "      <td>1409.282700</td>\n",
              "      <td>954.545455</td>\n",
              "      <td>27.379400</td>\n",
              "      <td>4.095963</td>\n",
              "      <td>628.621598</td>\n",
              "      <td>131.886477</td>\n",
              "      <td>673.020528</td>\n",
              "      <td>7135.135135</td>\n",
              "    </tr>\n",
              "  </tbody>\n",
              "</table>\n",
              "<p>70080 rows × 349 columns</p>\n",
              "</div>\n",
              "      <button class=\"colab-df-convert\" onclick=\"convertToInteractive('df-3e12a03f-0355-4fa5-bc2d-0d81e611e18c')\"\n",
              "              title=\"Convert this dataframe to an interactive table.\"\n",
              "              style=\"display:none;\">\n",
              "        \n",
              "  <svg xmlns=\"http://www.w3.org/2000/svg\" height=\"24px\"viewBox=\"0 0 24 24\"\n",
              "       width=\"24px\">\n",
              "    <path d=\"M0 0h24v24H0V0z\" fill=\"none\"/>\n",
              "    <path d=\"M18.56 5.44l.94 2.06.94-2.06 2.06-.94-2.06-.94-.94-2.06-.94 2.06-2.06.94zm-11 1L8.5 8.5l.94-2.06 2.06-.94-2.06-.94L8.5 2.5l-.94 2.06-2.06.94zm10 10l.94 2.06.94-2.06 2.06-.94-2.06-.94-.94-2.06-.94 2.06-2.06.94z\"/><path d=\"M17.41 7.96l-1.37-1.37c-.4-.4-.92-.59-1.43-.59-.52 0-1.04.2-1.43.59L10.3 9.45l-7.72 7.72c-.78.78-.78 2.05 0 2.83L4 21.41c.39.39.9.59 1.41.59.51 0 1.02-.2 1.41-.59l7.78-7.78 2.81-2.81c.8-.78.8-2.07 0-2.86zM5.41 20L4 18.59l7.72-7.72 1.47 1.35L5.41 20z\"/>\n",
              "  </svg>\n",
              "      </button>\n",
              "      \n",
              "  <style>\n",
              "    .colab-df-container {\n",
              "      display:flex;\n",
              "      flex-wrap:wrap;\n",
              "      gap: 12px;\n",
              "    }\n",
              "\n",
              "    .colab-df-convert {\n",
              "      background-color: #E8F0FE;\n",
              "      border: none;\n",
              "      border-radius: 50%;\n",
              "      cursor: pointer;\n",
              "      display: none;\n",
              "      fill: #1967D2;\n",
              "      height: 32px;\n",
              "      padding: 0 0 0 0;\n",
              "      width: 32px;\n",
              "    }\n",
              "\n",
              "    .colab-df-convert:hover {\n",
              "      background-color: #E2EBFA;\n",
              "      box-shadow: 0px 1px 2px rgba(60, 64, 67, 0.3), 0px 1px 3px 1px rgba(60, 64, 67, 0.15);\n",
              "      fill: #174EA6;\n",
              "    }\n",
              "\n",
              "    [theme=dark] .colab-df-convert {\n",
              "      background-color: #3B4455;\n",
              "      fill: #D2E3FC;\n",
              "    }\n",
              "\n",
              "    [theme=dark] .colab-df-convert:hover {\n",
              "      background-color: #434B5C;\n",
              "      box-shadow: 0px 1px 3px 1px rgba(0, 0, 0, 0.15);\n",
              "      filter: drop-shadow(0px 1px 2px rgba(0, 0, 0, 0.3));\n",
              "      fill: #FFFFFF;\n",
              "    }\n",
              "  </style>\n",
              "\n",
              "      <script>\n",
              "        const buttonEl =\n",
              "          document.querySelector('#df-3e12a03f-0355-4fa5-bc2d-0d81e611e18c button.colab-df-convert');\n",
              "        buttonEl.style.display =\n",
              "          google.colab.kernel.accessAllowed ? 'block' : 'none';\n",
              "\n",
              "        async function convertToInteractive(key) {\n",
              "          const element = document.querySelector('#df-3e12a03f-0355-4fa5-bc2d-0d81e611e18c');\n",
              "          const dataTable =\n",
              "            await google.colab.kernel.invokeFunction('convertToInteractive',\n",
              "                                                     [key], {});\n",
              "          if (!dataTable) return;\n",
              "\n",
              "          const docLinkHtml = 'Like what you see? Visit the ' +\n",
              "            '<a target=\"_blank\" href=https://colab.research.google.com/notebooks/data_table.ipynb>data table notebook</a>'\n",
              "            + ' to learn more about interactive tables.';\n",
              "          element.innerHTML = '';\n",
              "          dataTable['output_type'] = 'display_data';\n",
              "          await google.colab.output.renderOutput(dataTable, element);\n",
              "          const docLink = document.createElement('div');\n",
              "          docLink.innerHTML = docLinkHtml;\n",
              "          element.appendChild(docLink);\n",
              "        }\n",
              "      </script>\n",
              "    </div>\n",
              "  </div>\n",
              "  "
            ]
          },
          "metadata": {},
          "execution_count": 294
        }
      ]
    },
    {
      "cell_type": "markdown",
      "metadata": {
        "id": "u-Pw3ZfYeFtn"
      },
      "source": [
        "## Getting average curves per client"
      ]
    },
    {
      "cell_type": "code",
      "metadata": {
        "id": "dvsE97B3eFto"
      },
      "source": [
        "data = data_13_14.copy() # weekdays weekends, data2011, data2012, data2013, data2014"
      ],
      "execution_count": 295,
      "outputs": []
    },
    {
      "cell_type": "code",
      "metadata": {
        "id": "Xge2M5FGeFtq"
      },
      "source": [
        "data['hour'] = data.index.map(lambda x: x[11:])"
      ],
      "execution_count": 296,
      "outputs": []
    },
    {
      "cell_type": "code",
      "metadata": {
        "id": "IyJgCOkoeFts",
        "colab": {
          "base_uri": "https://localhost:8080/",
          "height": 341
        },
        "outputId": "4a5cc3b4-0d36-4310-a016-02fdca473c00"
      },
      "source": [
        "data.head(3)"
      ],
      "execution_count": 297,
      "outputs": [
        {
          "output_type": "execute_result",
          "data": {
            "text/plain": [
              "                       MT_001     MT_002    MT_003      MT_004     MT_005  \\\n",
              "2013-01-01 00:15:00  2.538071  22.759602  2.606429  138.211382  63.414634   \n",
              "2013-01-01 00:30:00  1.269036  22.759602  2.606429  138.211382  63.414634   \n",
              "2013-01-01 00:45:00  2.538071  22.759602  2.606429  134.146341  60.975610   \n",
              "\n",
              "                         MT_006    MT_007      MT_008     MT_009     MT_010  \\\n",
              "2013-01-01 00:15:00  255.952381  4.522329  239.057239  57.692308  78.494624   \n",
              "2013-01-01 00:30:00  264.880952  5.652911  228.956229  57.692308  76.344086   \n",
              "2013-01-01 00:45:00  250.000000  5.652911  239.057239  54.195804  76.344086   \n",
              "\n",
              "                     ...   MT_362      MT_363       MT_364     MT_365  \\\n",
              "2013-01-01 00:15:00  ...  22300.0  886.075949  1000.000000  16.949153   \n",
              "2013-01-01 00:30:00  ...  21000.0  864.978903   909.090909  18.252934   \n",
              "2013-01-01 00:45:00  ...  18200.0  860.759494   840.909091  16.949153   \n",
              "\n",
              "                       MT_366      MT_367     MT_368      MT_369       MT_370  \\\n",
              "2013-01-01 00:15:00  6.436513  616.330114  76.794658  731.671554  8086.486486   \n",
              "2013-01-01 00:30:00  3.510825  564.530290  76.794658  727.272727  8086.486486   \n",
              "2013-01-01 00:45:00  5.851375  590.869183  68.447412  730.205279  7848.648649   \n",
              "\n",
              "                         hour  \n",
              "2013-01-01 00:15:00  00:15:00  \n",
              "2013-01-01 00:30:00  00:30:00  \n",
              "2013-01-01 00:45:00  00:45:00  \n",
              "\n",
              "[3 rows x 350 columns]"
            ],
            "text/html": [
              "\n",
              "  <div id=\"df-2224f11b-d37c-4528-b425-3bc718a74de7\">\n",
              "    <div class=\"colab-df-container\">\n",
              "      <div>\n",
              "<style scoped>\n",
              "    .dataframe tbody tr th:only-of-type {\n",
              "        vertical-align: middle;\n",
              "    }\n",
              "\n",
              "    .dataframe tbody tr th {\n",
              "        vertical-align: top;\n",
              "    }\n",
              "\n",
              "    .dataframe thead th {\n",
              "        text-align: right;\n",
              "    }\n",
              "</style>\n",
              "<table border=\"1\" class=\"dataframe\">\n",
              "  <thead>\n",
              "    <tr style=\"text-align: right;\">\n",
              "      <th></th>\n",
              "      <th>MT_001</th>\n",
              "      <th>MT_002</th>\n",
              "      <th>MT_003</th>\n",
              "      <th>MT_004</th>\n",
              "      <th>MT_005</th>\n",
              "      <th>MT_006</th>\n",
              "      <th>MT_007</th>\n",
              "      <th>MT_008</th>\n",
              "      <th>MT_009</th>\n",
              "      <th>MT_010</th>\n",
              "      <th>...</th>\n",
              "      <th>MT_362</th>\n",
              "      <th>MT_363</th>\n",
              "      <th>MT_364</th>\n",
              "      <th>MT_365</th>\n",
              "      <th>MT_366</th>\n",
              "      <th>MT_367</th>\n",
              "      <th>MT_368</th>\n",
              "      <th>MT_369</th>\n",
              "      <th>MT_370</th>\n",
              "      <th>hour</th>\n",
              "    </tr>\n",
              "  </thead>\n",
              "  <tbody>\n",
              "    <tr>\n",
              "      <th>2013-01-01 00:15:00</th>\n",
              "      <td>2.538071</td>\n",
              "      <td>22.759602</td>\n",
              "      <td>2.606429</td>\n",
              "      <td>138.211382</td>\n",
              "      <td>63.414634</td>\n",
              "      <td>255.952381</td>\n",
              "      <td>4.522329</td>\n",
              "      <td>239.057239</td>\n",
              "      <td>57.692308</td>\n",
              "      <td>78.494624</td>\n",
              "      <td>...</td>\n",
              "      <td>22300.0</td>\n",
              "      <td>886.075949</td>\n",
              "      <td>1000.000000</td>\n",
              "      <td>16.949153</td>\n",
              "      <td>6.436513</td>\n",
              "      <td>616.330114</td>\n",
              "      <td>76.794658</td>\n",
              "      <td>731.671554</td>\n",
              "      <td>8086.486486</td>\n",
              "      <td>00:15:00</td>\n",
              "    </tr>\n",
              "    <tr>\n",
              "      <th>2013-01-01 00:30:00</th>\n",
              "      <td>1.269036</td>\n",
              "      <td>22.759602</td>\n",
              "      <td>2.606429</td>\n",
              "      <td>138.211382</td>\n",
              "      <td>63.414634</td>\n",
              "      <td>264.880952</td>\n",
              "      <td>5.652911</td>\n",
              "      <td>228.956229</td>\n",
              "      <td>57.692308</td>\n",
              "      <td>76.344086</td>\n",
              "      <td>...</td>\n",
              "      <td>21000.0</td>\n",
              "      <td>864.978903</td>\n",
              "      <td>909.090909</td>\n",
              "      <td>18.252934</td>\n",
              "      <td>3.510825</td>\n",
              "      <td>564.530290</td>\n",
              "      <td>76.794658</td>\n",
              "      <td>727.272727</td>\n",
              "      <td>8086.486486</td>\n",
              "      <td>00:30:00</td>\n",
              "    </tr>\n",
              "    <tr>\n",
              "      <th>2013-01-01 00:45:00</th>\n",
              "      <td>2.538071</td>\n",
              "      <td>22.759602</td>\n",
              "      <td>2.606429</td>\n",
              "      <td>134.146341</td>\n",
              "      <td>60.975610</td>\n",
              "      <td>250.000000</td>\n",
              "      <td>5.652911</td>\n",
              "      <td>239.057239</td>\n",
              "      <td>54.195804</td>\n",
              "      <td>76.344086</td>\n",
              "      <td>...</td>\n",
              "      <td>18200.0</td>\n",
              "      <td>860.759494</td>\n",
              "      <td>840.909091</td>\n",
              "      <td>16.949153</td>\n",
              "      <td>5.851375</td>\n",
              "      <td>590.869183</td>\n",
              "      <td>68.447412</td>\n",
              "      <td>730.205279</td>\n",
              "      <td>7848.648649</td>\n",
              "      <td>00:45:00</td>\n",
              "    </tr>\n",
              "  </tbody>\n",
              "</table>\n",
              "<p>3 rows × 350 columns</p>\n",
              "</div>\n",
              "      <button class=\"colab-df-convert\" onclick=\"convertToInteractive('df-2224f11b-d37c-4528-b425-3bc718a74de7')\"\n",
              "              title=\"Convert this dataframe to an interactive table.\"\n",
              "              style=\"display:none;\">\n",
              "        \n",
              "  <svg xmlns=\"http://www.w3.org/2000/svg\" height=\"24px\"viewBox=\"0 0 24 24\"\n",
              "       width=\"24px\">\n",
              "    <path d=\"M0 0h24v24H0V0z\" fill=\"none\"/>\n",
              "    <path d=\"M18.56 5.44l.94 2.06.94-2.06 2.06-.94-2.06-.94-.94-2.06-.94 2.06-2.06.94zm-11 1L8.5 8.5l.94-2.06 2.06-.94-2.06-.94L8.5 2.5l-.94 2.06-2.06.94zm10 10l.94 2.06.94-2.06 2.06-.94-2.06-.94-.94-2.06-.94 2.06-2.06.94z\"/><path d=\"M17.41 7.96l-1.37-1.37c-.4-.4-.92-.59-1.43-.59-.52 0-1.04.2-1.43.59L10.3 9.45l-7.72 7.72c-.78.78-.78 2.05 0 2.83L4 21.41c.39.39.9.59 1.41.59.51 0 1.02-.2 1.41-.59l7.78-7.78 2.81-2.81c.8-.78.8-2.07 0-2.86zM5.41 20L4 18.59l7.72-7.72 1.47 1.35L5.41 20z\"/>\n",
              "  </svg>\n",
              "      </button>\n",
              "      \n",
              "  <style>\n",
              "    .colab-df-container {\n",
              "      display:flex;\n",
              "      flex-wrap:wrap;\n",
              "      gap: 12px;\n",
              "    }\n",
              "\n",
              "    .colab-df-convert {\n",
              "      background-color: #E8F0FE;\n",
              "      border: none;\n",
              "      border-radius: 50%;\n",
              "      cursor: pointer;\n",
              "      display: none;\n",
              "      fill: #1967D2;\n",
              "      height: 32px;\n",
              "      padding: 0 0 0 0;\n",
              "      width: 32px;\n",
              "    }\n",
              "\n",
              "    .colab-df-convert:hover {\n",
              "      background-color: #E2EBFA;\n",
              "      box-shadow: 0px 1px 2px rgba(60, 64, 67, 0.3), 0px 1px 3px 1px rgba(60, 64, 67, 0.15);\n",
              "      fill: #174EA6;\n",
              "    }\n",
              "\n",
              "    [theme=dark] .colab-df-convert {\n",
              "      background-color: #3B4455;\n",
              "      fill: #D2E3FC;\n",
              "    }\n",
              "\n",
              "    [theme=dark] .colab-df-convert:hover {\n",
              "      background-color: #434B5C;\n",
              "      box-shadow: 0px 1px 3px 1px rgba(0, 0, 0, 0.15);\n",
              "      filter: drop-shadow(0px 1px 2px rgba(0, 0, 0, 0.3));\n",
              "      fill: #FFFFFF;\n",
              "    }\n",
              "  </style>\n",
              "\n",
              "      <script>\n",
              "        const buttonEl =\n",
              "          document.querySelector('#df-2224f11b-d37c-4528-b425-3bc718a74de7 button.colab-df-convert');\n",
              "        buttonEl.style.display =\n",
              "          google.colab.kernel.accessAllowed ? 'block' : 'none';\n",
              "\n",
              "        async function convertToInteractive(key) {\n",
              "          const element = document.querySelector('#df-2224f11b-d37c-4528-b425-3bc718a74de7');\n",
              "          const dataTable =\n",
              "            await google.colab.kernel.invokeFunction('convertToInteractive',\n",
              "                                                     [key], {});\n",
              "          if (!dataTable) return;\n",
              "\n",
              "          const docLinkHtml = 'Like what you see? Visit the ' +\n",
              "            '<a target=\"_blank\" href=https://colab.research.google.com/notebooks/data_table.ipynb>data table notebook</a>'\n",
              "            + ' to learn more about interactive tables.';\n",
              "          element.innerHTML = '';\n",
              "          dataTable['output_type'] = 'display_data';\n",
              "          await google.colab.output.renderOutput(dataTable, element);\n",
              "          const docLink = document.createElement('div');\n",
              "          docLink.innerHTML = docLinkHtml;\n",
              "          element.appendChild(docLink);\n",
              "        }\n",
              "      </script>\n",
              "    </div>\n",
              "  </div>\n",
              "  "
            ]
          },
          "metadata": {},
          "execution_count": 297
        }
      ]
    },
    {
      "cell_type": "markdown",
      "metadata": {
        "id": "-iMNh_XJeFtu"
      },
      "source": [
        "### Getting average curves per client"
      ]
    },
    {
      "cell_type": "code",
      "metadata": {
        "id": "Ta0Pv4UueFtv",
        "colab": {
          "base_uri": "https://localhost:8080/"
        },
        "outputId": "9a1a1aaf-0760-47e4-8888-64ab0b75cc21"
      },
      "source": [
        "datagrouped = data.groupby(\"hour\")\n",
        "average_curves = datagrouped.agg(\"mean\")\n",
        "average_curves.shape "
      ],
      "execution_count": 298,
      "outputs": [
        {
          "output_type": "execute_result",
          "data": {
            "text/plain": [
              "(96, 349)"
            ]
          },
          "metadata": {},
          "execution_count": 298
        }
      ]
    },
    {
      "cell_type": "markdown",
      "metadata": {
        "id": "9-UI2QT3eFtz"
      },
      "source": [
        "#### The dataframe average_curves contains the 349 typical weekday electric demands\n",
        "\n",
        "#### We now divide each curve by its mean, so that all curves have mean 1"
      ]
    },
    {
      "cell_type": "code",
      "metadata": {
        "id": "pedcHflceFt0"
      },
      "source": [
        "average_curves_norm = average_curves/(average_curves.mean())"
      ],
      "execution_count": 299,
      "outputs": []
    },
    {
      "cell_type": "markdown",
      "metadata": {
        "id": "Q4TAlxigeFt2"
      },
      "source": [
        "#### Plot the first 2 and last 2 clients"
      ]
    },
    {
      "cell_type": "code",
      "metadata": {
        "id": "jYVLs9z9eFt2",
        "colab": {
          "base_uri": "https://localhost:8080/",
          "height": 304
        },
        "outputId": "67747b3b-a7eb-47a0-97cf-41610bc9b7f0"
      },
      "source": [
        "average_curves_norm[['MT_001','MT_002','MT_369','MT_370']].plot()\n",
        "plt.show()"
      ],
      "execution_count": 300,
      "outputs": [
        {
          "output_type": "display_data",
          "data": {
            "text/plain": [
              "<Figure size 432x288 with 1 Axes>"
            ],
            "image/png": "[encoded data removed]"
          },
          "metadata": {}
        }
      ]
    },
    {
      "cell_type": "code",
      "source": [
        "# Split data into train-val-test\n",
        "# ==============================================================================\n",
        "data = data.loc['2012-01-01 00:00:00': '2014-12-30 23:00:00']\n",
        "end_train = '2013-12-31 23:59:00'\n",
        "end_validation = '2014-11-30 23:59:00'\n",
        "data_train = data.loc[: end_train, :]\n",
        "data_val   = data.loc[end_train:end_validation, :]\n",
        "data_test  = data.loc[end_validation:, :]\n",
        "\n",
        "print(f\"Train dates      : {data_train.index.min()} --- {data_train.index.max()}\")\n",
        "print(f\"Validation dates : {data_val.index.min()} --- {data_val.index.max()}\")\n",
        "print(f\"Test dates       : {data_test.index.min()} --- {data_test.index.max()}\")"
      ],
      "metadata": {
        "colab": {
          "base_uri": "https://localhost:8080/"
        },
        "id": "PKbQO47Fre27",
        "outputId": "2f873c0c-4efd-434b-d3e6-5b39b80ba2de"
      },
      "execution_count": 301,
      "outputs": [
        {
          "output_type": "stream",
          "name": "stdout",
          "text": [
            "Train dates      : 2013-01-01 00:15:00 --- 2013-12-31 23:45:00\n",
            "Validation dates : 2014-01-01 00:00:00 --- 2014-11-30 23:45:00\n",
            "Test dates       : 2014-12-01 00:00:00 --- 2014-12-30 23:00:00\n"
          ]
        }
      ]
    },
    {
      "cell_type": "code",
      "source": [
        "data_train.shape, data_val.shape, data_test.shape"
      ],
      "metadata": {
        "colab": {
          "base_uri": "https://localhost:8080/"
        },
        "id": "xvUWkRS2vr8e",
        "outputId": "ec3eae3c-2049-48f1-ea26-a2e929371982"
      },
      "execution_count": 302,
      "outputs": [
        {
          "output_type": "execute_result",
          "data": {
            "text/plain": [
              "((35039, 350), (32064, 350), (2877, 350))"
            ]
          },
          "metadata": {},
          "execution_count": 302
        }
      ]
    },
    {
      "cell_type": "code",
      "source": [
        "### Time series\n",
        "###\n",
        "#fig, ax = plt.subplots(figsize=(12, 4))\n",
        "#data_train.plot(ax=ax, label='train', linewidth=1)\n",
        "#data_val.plot(ax=ax, label='validation', linewidth=1)\n",
        "#data_test.plot(ax=ax, label='test', linewidth=1)\n",
        "#ax.set_title('Electricity demand')\n",
        "#ax.legend();"
      ],
      "metadata": {
        "id": "Q8Yp6xJIsE6i"
      },
      "execution_count": 303,
      "outputs": []
    },
    {
      "cell_type": "markdown",
      "metadata": {
        "id": "_Wtuy8SYeFt8"
      },
      "source": [
        "## Exercise 1:\n",
        "\n",
        "a. Using the functions described in Module 3, determine what is the optimal number of clusters based on _intertia_ and based on _silhouette_. Justify your choice\n",
        "\n",
        "b. Make a plot for each cluster, that includes:\n",
        "    - The number of clients in the cluster (you can put this in the title of the plot)\n",
        "    - All the curves in the cluster\n",
        "    - The curve corresponding to the centroid of the cluster (make this curve thicker to distinguish it from the individual curves)\n",
        "    \n",
        "You can do 2 separate plots for each cluster if you prefer (one for the individual curves, one for the centroid)"
      ]
    },
    {
      "cell_type": "code",
      "metadata": {
        "id": "aCeIaArFJUnR"
      },
      "source": [
        "#function for calculating inertia\n",
        "def getInertia(X,kmeans):\n",
        "    ''' This function returns the exact same value as the attribute inertia_ of kmeans'''\n",
        "    inertia = 0\n",
        "    for J in range(len(X)):\n",
        "        inertia = inertia + np.linalg.norm(X[J] - kmeans.cluster_centers_[kmeans.labels_[J]])**2\n",
        "    return inertia"
      ],
      "execution_count": 304,
      "outputs": []
    },
    {
      "cell_type": "code",
      "source": [],
      "metadata": {
        "id": "Xo7kZfHTyjz9"
      },
      "execution_count": 304,
      "outputs": []
    },
    {
      "cell_type": "code",
      "source": [
        "'''### Caio new code\n",
        "### k-means++ and ramdom\n",
        "X = data \n",
        "\n",
        "init_list = [\"k-means++\", \"random\"]\n",
        "inertia_list = []\n",
        "for init in init_list:\n",
        "    kmeans_model = KMeans(n_clusters=4, init=init)\n",
        "    kmeans_model.fit(X)\n",
        "    inertia_list.append(kmeans_model.inertia_)\n",
        "\n",
        "results = pd.DataFrame(data=inertia_list, columns=[\"Inertia Value\"], index=init_list)'''\n"
      ],
      "metadata": {
        "colab": {
          "base_uri": "https://localhost:8080/",
          "height": 54
        },
        "id": "bBcmzFJhqY1N",
        "outputId": "eedba35d-2540-4fa1-80a8-6fb13e86c8b3"
      },
      "execution_count": 305,
      "outputs": [
        {
          "output_type": "execute_result",
          "data": {
            "text/plain": [
              "'### Caio new code\\n### k-means++ and ramdom\\nX = data \\n\\ninit_list = [\"k-means++\", \"random\"]\\ninertia_list = []\\nfor init in init_list:\\n    kmeans_model = KMeans(n_clusters=4, init=init)\\n    kmeans_model.fit(X)\\n    inertia_list.append(kmeans_model.inertia_)\\n\\nresults = pd.DataFrame(data=inertia_list, columns=[\"Inertia Value\"], index=init_list)'"
            ],
            "application/vnd.google.colaboratory.intrinsic+json": {
              "type": "string"
            }
          },
          "metadata": {},
          "execution_count": 305
        }
      ]
    },
    {
      "cell_type": "markdown",
      "metadata": {
        "id": "ozCK5tLiMD9h"
      },
      "source": [
        "Clustering Analysis on the average normizalied curves"
      ]
    },
    {
      "cell_type": "code",
      "metadata": {
        "id": "BxuYK6tGMD9i"
      },
      "source": [
        "X = average_curves_norm.copy()\n",
        "X = np.array(X.T) # put it on the right format"
      ],
      "execution_count": 306,
      "outputs": []
    },
    {
      "cell_type": "code",
      "metadata": {
        "id": "59xcTJSSJUnW"
      },
      "source": [
        "#try different K values for clustering and find the optimal K\n",
        "inertias_1 = []\n",
        "silhouette_avgs = []\n",
        "max_K = 15\n",
        "for k in np.arange(1,max_K+1):\n",
        "    kmeans = KMeans(n_clusters=k, random_state=0).fit(X)    \n",
        "    inertias_1 = inertias_1 + [kmeans.inertia_]\n",
        "    if k>1:\n",
        "        silhouette_avgs = silhouette_avgs + [silhouette_score(X, kmeans.labels_)]"
      ],
      "execution_count": 307,
      "outputs": []
    },
    {
      "cell_type": "code",
      "source": [
        "silhouette_avgs"
      ],
      "metadata": {
        "colab": {
          "base_uri": "https://localhost:8080/"
        },
        "id": "pOFUIlbX1XZW",
        "outputId": "ecc0a71c-25e3-4f90-a75e-143531e808cf"
      },
      "execution_count": 308,
      "outputs": [
        {
          "output_type": "execute_result",
          "data": {
            "text/plain": [
              "[0.3719183856538874,\n",
              " 0.4224469251347661,\n",
              " 0.4296355372224769,\n",
              " 0.4226849822459891,\n",
              " 0.4289726637003929,\n",
              " 0.39635138162651257,\n",
              " 0.27186604010600196,\n",
              " 0.25021673306058095,\n",
              " 0.23753095057335372,\n",
              " 0.19087159330654677,\n",
              " 0.21201916396953266,\n",
              " 0.1864987745647598,\n",
              " 0.19579983854305263,\n",
              " 0.20665171047121306]"
            ]
          },
          "metadata": {},
          "execution_count": 308
        }
      ]
    },
    {
      "cell_type": "code",
      "metadata": {
        "id": "0dfJSVPKMB0-",
        "colab": {
          "base_uri": "https://localhost:8080/"
        },
        "outputId": "a87c18c4-c5d2-462d-a673-a37d64bd17ff"
      },
      "source": [
        "inertias_1"
      ],
      "execution_count": 309,
      "outputs": [
        {
          "output_type": "execute_result",
          "data": {
            "text/plain": [
              "[1707.2294200296335,\n",
              " 1175.5272754230887,\n",
              " 865.96772088043,\n",
              " 657.6442657822122,\n",
              " 580.0050647357746,\n",
              " 476.4846803515834,\n",
              " 426.4712819038532,\n",
              " 391.54379279437876,\n",
              " 367.8828030185176,\n",
              " 349.5601929166494,\n",
              " 333.92500350831295,\n",
              " 315.9614911706733,\n",
              " 304.0805254852022,\n",
              " 291.1112938158415,\n",
              " 286.41840350731854]"
            ]
          },
          "metadata": {},
          "execution_count": 309
        }
      ]
    },
    {
      "cell_type": "markdown",
      "metadata": {
        "id": "y4szukndeFt9"
      },
      "source": [
        "## Exercises 2\n",
        "\n",
        "In this exercise you work with the daily curves of 1 single client.\n",
        "\n",
        "First you create a list of arrays, each array containing a normalized curve for a day. The list contains 730 arrays, one for each of the days of 2013 and 2014.\n",
        "\n",
        "a. Determine the optimal value for k-means. \n",
        "\n",
        "b. What are the clusters that you obtained represent?"
      ]
    },
    {
      "cell_type": "code",
      "metadata": {
        "id": "xuV6O2-leFt-"
      },
      "source": [
        "client = 'MT_022'\n",
        "oneClient = data_13_14[client]\n",
        "X = [] # a list of arrays, each array being a normalized curve for a day\n",
        "for J in range(2*365):\n",
        "    X.extend([np.array(oneClient[J*96:(J+1)*96])])#/np.mean(oneClient[J*96:(J+1)*96])]) "
      ],
      "execution_count": 310,
      "outputs": []
    },
    {
      "cell_type": "markdown",
      "metadata": {
        "id": "EyXcYKJWeFuA"
      },
      "source": [
        "#### The following cell generates a list of all the days in the two years 2013-2014, which is helpful to answer part (b)"
      ]
    },
    {
      "cell_type": "code",
      "metadata": {
        "id": "ZKxlgTXReFuB"
      },
      "source": [
        "from datetime import date, timedelta\n",
        "\n",
        "d1 = date(2013, 1, 1)  # start date\n",
        "d2 = date(2014, 12, 31)  # end date\n",
        "delta = d2 - d1         # timedelta\n",
        "daysyear = []\n",
        "D = {0:'mon', 1:'tue', 2:'wed', 3:'thu', 4:'fri', 5:'sat', 6:'sun'}\n",
        "for i in range(delta.days + 1):\n",
        "    daysyear.extend([D[(d1 + timedelta(days=i)).weekday()]+\"-\"+str(d1 + timedelta(days=i))])"
      ],
      "execution_count": 311,
      "outputs": []
    },
    {
      "cell_type": "markdown",
      "metadata": {
        "id": "K5a13p1geFuE"
      },
      "source": [
        "#### The following cell shows you how to do the following: given a list L, and a list of booleans B (True, False), get the sublist of L that corresponds to the True values in B. For example if L=[1,2,3,4] and B=[False,True,True,False], then the results is [2,3]. This is also helpful for pard (b)"
      ]
    },
    {
      "cell_type": "code",
      "metadata": {
        "id": "CXloX8I8eFuF",
        "colab": {
          "base_uri": "https://localhost:8080/"
        },
        "outputId": "486f101d-d418-4c37-80ac-bc48e1f10f82"
      },
      "source": [
        "from itertools import compress\n",
        "L = [1,2,3,4]\n",
        "B = [False, True, True, False]\n",
        "list(compress(L, B))"
      ],
      "execution_count": 312,
      "outputs": [
        {
          "output_type": "execute_result",
          "data": {
            "text/plain": [
              "[2, 3]"
            ]
          },
          "metadata": {},
          "execution_count": 312
        }
      ]
    },
    {
      "cell_type": "code",
      "metadata": {
        "id": "mLpMvp-w8-99"
      },
      "source": [
        "#try different K values for clustering and find the optimal K\n",
        "inertias_1 = []\n",
        "silhouette_avgs = []\n",
        "max_K = 15\n",
        "for k in np.arange(1,max_K+1):\n",
        "    kmeans = KMeans(n_clusters=k, random_state=0).fit(X)    \n",
        "    inertias_1 = inertias_1 + [kmeans.inertia_]\n",
        "    if k>1:\n",
        "        silhouette_avgs = silhouette_avgs + [silhouette_score(X, kmeans.labels_)]"
      ],
      "execution_count": 313,
      "outputs": []
    },
    {
      "cell_type": "code",
      "metadata": {
        "id": "G38hXEogMLF5",
        "colab": {
          "base_uri": "https://localhost:8080/"
        },
        "outputId": "0d43de05-d403-4665-fcec-56a3721cbb1c"
      },
      "source": [
        "inertias_1"
      ],
      "execution_count": 314,
      "outputs": [
        {
          "output_type": "execute_result",
          "data": {
            "text/plain": [
              "[6158002.739347876,\n",
              " 2599946.1576933414,\n",
              " 2126832.522495338,\n",
              " 1864632.1178529887,\n",
              " 1708131.5858534975,\n",
              " 1591298.7255276926,\n",
              " 1520087.5498835137,\n",
              " 1444660.0677394618,\n",
              " 1392427.9695487171,\n",
              " 1352990.2881079828,\n",
              " 1323455.0808245789,\n",
              " 1288430.2585447151,\n",
              " 1257754.5472088607,\n",
              " 1230015.0977335316,\n",
              " 1202736.9602412537]"
            ]
          },
          "metadata": {},
          "execution_count": 314
        }
      ]
    },
    {
      "cell_type": "code",
      "metadata": {
        "id": "hwigPuuVMLDG",
        "colab": {
          "base_uri": "https://localhost:8080/"
        },
        "outputId": "bb8b2c51-d5eb-49c9-947c-d87abaaa6eeb"
      },
      "source": [
        "silhouette_avgs"
      ],
      "execution_count": 315,
      "outputs": [
        {
          "output_type": "execute_result",
          "data": {
            "text/plain": [
              "[0.5011374240143707,\n",
              " 0.282197741615619,\n",
              " 0.28091979021747193,\n",
              " 0.2196591577577872,\n",
              " 0.19130102609088043,\n",
              " 0.1913658304714225,\n",
              " 0.18294881057363013,\n",
              " 0.18281635248024572,\n",
              " 0.17630775349747094,\n",
              " 0.15309638271465822,\n",
              " 0.14472250117893734,\n",
              " 0.16569990191930867,\n",
              " 0.1689726350224428,\n",
              " 0.12911951927335671]"
            ]
          },
          "metadata": {},
          "execution_count": 315
        }
      ]
    },
    {
      "cell_type": "code",
      "source": [
        "data.shape\n",
        "X1 = data.copy()\n",
        "X1 = X1.reset_index(drop=True)"
      ],
      "metadata": {
        "id": "-hzQrnmi63t1"
      },
      "execution_count": 316,
      "outputs": []
    },
    {
      "cell_type": "code",
      "source": [
        "X1.shape"
      ],
      "metadata": {
        "colab": {
          "base_uri": "https://localhost:8080/"
        },
        "id": "Piu3XvB77hcm",
        "outputId": "ada530a3-3f5a-4788-a199-4fca4703c116"
      },
      "execution_count": 317,
      "outputs": [
        {
          "output_type": "execute_result",
          "data": {
            "text/plain": [
              "(69980, 350)"
            ]
          },
          "metadata": {},
          "execution_count": 317
        }
      ]
    },
    {
      "cell_type": "code",
      "source": [
        "X1.head"
      ],
      "metadata": {
        "colab": {
          "base_uri": "https://localhost:8080/"
        },
        "id": "ebdSJj2U4ecG",
        "outputId": "3ab7d9b6-874f-4cd7-e78b-f2bc481ffe13"
      },
      "execution_count": 318,
      "outputs": [
        {
          "output_type": "execute_result",
          "data": {
            "text/plain": [
              "<bound method NDFrame.head of          MT_001     MT_002    MT_003      MT_004     MT_005      MT_006  \\\n",
              "0      2.538071  22.759602  2.606429  138.211382  63.414634  255.952381   \n",
              "1      1.269036  22.759602  2.606429  138.211382  63.414634  264.880952   \n",
              "2      2.538071  22.759602  2.606429  134.146341  60.975610  250.000000   \n",
              "3      1.269036  23.470839  2.606429  130.081301  56.097561  226.190476   \n",
              "4      3.807107  23.470839  2.606429  130.081301  58.536585  229.166667   \n",
              "...         ...        ...       ...         ...        ...         ...   \n",
              "69975  2.538071  22.048364  1.737619  217.479675  82.926829  372.023810   \n",
              "69976  2.538071  22.759602  1.737619  219.512195  95.121951  383.928571   \n",
              "69977  3.807107  21.337127  1.737619  209.349593  95.121951  345.238095   \n",
              "69978  2.538071  22.048364  1.737619  217.479675  93.902439  360.119048   \n",
              "69979  2.538071  23.470839  1.737619  189.024390  87.804878  348.214286   \n",
              "\n",
              "          MT_007      MT_008     MT_009     MT_010  ...   MT_362       MT_363  \\\n",
              "0       4.522329  239.057239  57.692308  78.494624  ...  22300.0   886.075949   \n",
              "1       5.652911  228.956229  57.692308  76.344086  ...  21000.0   864.978903   \n",
              "2       5.652911  239.057239  54.195804  76.344086  ...  18200.0   860.759494   \n",
              "3       6.218202  249.158249  50.699301  75.268817  ...  15800.0   860.759494   \n",
              "4       6.783493  239.057239  57.692308  74.193548  ...  15000.0   793.248945   \n",
              "...          ...         ...        ...        ...  ...      ...          ...   \n",
              "69975   9.609949  407.407407  82.167832  88.172043  ...  46100.0  3105.485232   \n",
              "69976   9.609949  380.471380  71.678322  87.096774  ...  41400.0  3033.755274   \n",
              "69977   9.044658  383.838384  75.174825  83.870968  ...  42000.0  2662.447257   \n",
              "69978   9.609949  360.269360  69.930070  80.645161  ...  34900.0  2641.350211   \n",
              "69979  10.740531  346.801347  68.181818  76.344086  ...  31600.0  2632.911392   \n",
              "\n",
              "            MT_364      MT_365    MT_366      MT_367      MT_368      MT_369  \\\n",
              "0      1000.000000   16.949153  6.436513  616.330114   76.794658  731.671554   \n",
              "1       909.090909   18.252934  3.510825  564.530290   76.794658  727.272727   \n",
              "2       840.909091   16.949153  5.851375  590.869183   68.447412  730.205279   \n",
              "3       840.909091   16.949153  4.095963  575.065847   58.430718  722.873900   \n",
              "4       818.181818   16.949153  4.095963  570.676032   60.100167  748.533724   \n",
              "...            ...         ...       ...         ...         ...         ...   \n",
              "69975  4318.181818  140.808344  3.510825  615.452151  212.020033  730.938416   \n",
              "69976  4022.727273  144.719687  5.851375  768.217735  240.400668  749.266862   \n",
              "69977  3977.272727  136.897001  7.021650  798.068481  238.731219  744.868035   \n",
              "69978  3818.181818  104.302477  3.510825  788.410887  230.383973  703.079179   \n",
              "69979  2977.272727  102.998696  5.851375  803.336260  225.375626  708.944282   \n",
              "\n",
              "             MT_370      hour  \n",
              "0       8086.486486  00:15:00  \n",
              "1       8086.486486  00:30:00  \n",
              "2       7848.648649  00:45:00  \n",
              "3       7848.648649  01:00:00  \n",
              "4       7610.810811  01:15:00  \n",
              "...             ...       ...  \n",
              "69975  18864.864865  22:00:00  \n",
              "69976  18432.432432  22:15:00  \n",
              "69977  18972.972973  22:30:00  \n",
              "69978  18702.702703  22:45:00  \n",
              "69979  18378.378378  23:00:00  \n",
              "\n",
              "[69980 rows x 350 columns]>"
            ]
          },
          "metadata": {},
          "execution_count": 318
        }
      ]
    },
    {
      "cell_type": "code",
      "source": [
        "### array reshape\n",
        "array = X1\n",
        "series_obj = X1.Series(array)\n",
        "arr = series_obj.values\n",
        "reshaped_arr = arr.reshape((3, 2))\n",
        "reshaped_arr"
      ],
      "metadata": {
        "colab": {
          "base_uri": "https://localhost:8080/",
          "height": 371
        },
        "id": "QWsFrIty9iaO",
        "outputId": "4627f74d-9b20-4854-d964-2f50e5855abc"
      },
      "execution_count": 319,
      "outputs": [
        {
          "output_type": "error",
          "ename": "AttributeError",
          "evalue": "ignored",
          "traceback": [
            "\u001b[0;31m---------------------------------------------------------------------------\u001b[0m",
            "\u001b[0;31mAttributeError\u001b[0m                            Traceback (most recent call last)",
            "\u001b[0;32m<ipython-input-319-354288a9ecd1>\u001b[0m in \u001b[0;36m<module>\u001b[0;34m\u001b[0m\n\u001b[1;32m      1\u001b[0m \u001b[0;31m### array reshape\u001b[0m\u001b[0;34m\u001b[0m\u001b[0;34m\u001b[0m\u001b[0;34m\u001b[0m\u001b[0m\n\u001b[1;32m      2\u001b[0m \u001b[0marray\u001b[0m \u001b[0;34m=\u001b[0m \u001b[0mX1\u001b[0m\u001b[0;34m\u001b[0m\u001b[0;34m\u001b[0m\u001b[0m\n\u001b[0;32m----> 3\u001b[0;31m \u001b[0mseries_obj\u001b[0m \u001b[0;34m=\u001b[0m \u001b[0mX1\u001b[0m\u001b[0;34m.\u001b[0m\u001b[0mSeries\u001b[0m\u001b[0;34m(\u001b[0m\u001b[0marray\u001b[0m\u001b[0;34m)\u001b[0m\u001b[0;34m\u001b[0m\u001b[0;34m\u001b[0m\u001b[0m\n\u001b[0m\u001b[1;32m      4\u001b[0m \u001b[0marr\u001b[0m \u001b[0;34m=\u001b[0m \u001b[0mseries_obj\u001b[0m\u001b[0;34m.\u001b[0m\u001b[0mvalues\u001b[0m\u001b[0;34m\u001b[0m\u001b[0;34m\u001b[0m\u001b[0m\n\u001b[1;32m      5\u001b[0m \u001b[0mreshaped_arr\u001b[0m \u001b[0;34m=\u001b[0m \u001b[0marr\u001b[0m\u001b[0;34m.\u001b[0m\u001b[0mreshape\u001b[0m\u001b[0;34m(\u001b[0m\u001b[0;34m(\u001b[0m\u001b[0;36m3\u001b[0m\u001b[0;34m,\u001b[0m \u001b[0;36m2\u001b[0m\u001b[0;34m)\u001b[0m\u001b[0;34m)\u001b[0m\u001b[0;34m\u001b[0m\u001b[0;34m\u001b[0m\u001b[0m\n",
            "\u001b[0;32m/usr/local/lib/python3.8/dist-packages/pandas/core/generic.py\u001b[0m in \u001b[0;36m__getattr__\u001b[0;34m(self, name)\u001b[0m\n\u001b[1;32m   5485\u001b[0m         ):\n\u001b[1;32m   5486\u001b[0m             \u001b[0;32mreturn\u001b[0m \u001b[0mself\u001b[0m\u001b[0;34m[\u001b[0m\u001b[0mname\u001b[0m\u001b[0;34m]\u001b[0m\u001b[0;34m\u001b[0m\u001b[0;34m\u001b[0m\u001b[0m\n\u001b[0;32m-> 5487\u001b[0;31m         \u001b[0;32mreturn\u001b[0m \u001b[0mobject\u001b[0m\u001b[0;34m.\u001b[0m\u001b[0m__getattribute__\u001b[0m\u001b[0;34m(\u001b[0m\u001b[0mself\u001b[0m\u001b[0;34m,\u001b[0m \u001b[0mname\u001b[0m\u001b[0;34m)\u001b[0m\u001b[0;34m\u001b[0m\u001b[0;34m\u001b[0m\u001b[0m\n\u001b[0m\u001b[1;32m   5488\u001b[0m \u001b[0;34m\u001b[0m\u001b[0m\n\u001b[1;32m   5489\u001b[0m     \u001b[0;32mdef\u001b[0m \u001b[0m__setattr__\u001b[0m\u001b[0;34m(\u001b[0m\u001b[0mself\u001b[0m\u001b[0;34m,\u001b[0m \u001b[0mname\u001b[0m\u001b[0;34m:\u001b[0m \u001b[0mstr\u001b[0m\u001b[0;34m,\u001b[0m \u001b[0mvalue\u001b[0m\u001b[0;34m)\u001b[0m \u001b[0;34m->\u001b[0m \u001b[0;32mNone\u001b[0m\u001b[0;34m:\u001b[0m\u001b[0;34m\u001b[0m\u001b[0;34m\u001b[0m\u001b[0m\n",
            "\u001b[0;31mAttributeError\u001b[0m: 'DataFrame' object has no attribute 'Series'"
          ]
        }
      ]
    },
    {
      "cell_type": "markdown",
      "source": [],
      "metadata": {
        "id": "mzFHzuml8NUt"
      }
    },
    {
      "cell_type": "code",
      "metadata": {
        "id": "BuxJkUYj9DYk"
      },
      "source": [
        "from sklearn.cluster import KMeans\n",
        "from sklearn.preprocessing import MinMaxScaler\n",
        "from sklearn.metrics import silhouette_score\n",
        "\n",
        "sillhoute_scores = []\n",
        "n_cluster_list = np.arange(2,31).astype(int)\n",
        "\n",
        "X = data.drop(data.columns[[1]],axis=1, inplace=True)\n",
        "    \n",
        "# Very important to scale!\n",
        "sc = MinMaxScaler()\n",
        "X = sc.fit_transform(X)\n",
        "\n",
        "for n_cluster in n_cluster_list:\n",
        "    \n",
        "    kmeans = KMeans(n_clusters=n_cluster)\n",
        "    cluster_found = kmeans.fit_predict(X)\n",
        "    sillhoute_scores.append(silhouette_score(X, kmeans.labels_))"
      ],
      "execution_count": null,
      "outputs": []
    },
    {
      "cell_type": "code",
      "source": [],
      "metadata": {
        "id": "fhav1WmM3Ger"
      },
      "execution_count": null,
      "outputs": []
    }
  ]
}